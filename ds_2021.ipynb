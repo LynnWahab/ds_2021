{
  "nbformat": 4,
  "nbformat_minor": 0,
  "metadata": {
    "colab": {
      "name": "DS Proj.ipynb",
      "provenance": [],
      "collapsed_sections": [
        "8c3Nzba_q31a",
        "CMYgNNZEE27A",
        "SZtYi5YoML4F",
        "QXUakYbJQ45-",
        "sTnWtGiPRXwR",
        "CPzT4__uVqvK",
        "cdyQb4mGRdKI",
        "Dl_B4PMZReyJ",
        "LxPhZnMvRmvW",
        "jwkvZKGRULYm",
        "wFNOeHGARtYp",
        "N9wJT7McR5OQ"
      ]
    },
    "kernelspec": {
      "display_name": "Python 3",
      "name": "python3",
      "language": "python"
    }
  },
  "cells": [
    {
      "cell_type": "markdown",
      "metadata": {
        "id": "8c3Nzba_q31a"
      },
      "source": [
        "## Aug 4 Explosion Data"
      ]
    },
    {
      "cell_type": "markdown",
      "metadata": {
        "id": "FfCuDLH0ZWmR"
      },
      "source": [
        "Spelling mistakes, plot distributions, mark columns we dont understand (unclear meaning)"
      ]
    },
    {
      "cell_type": "code",
      "metadata": {
        "id": "L4utpXIWd5ow"
      },
      "source": [
        "import pandas as pd\n",
        "import numpy as np\n",
        "import matplotlib.pyplot as plt\n",
        "import scipy"
      ],
      "execution_count": 1,
      "outputs": []
    },
    {
      "cell_type": "code",
      "metadata": {
        "id": "M1g8UgAGeRbJ"
      },
      "source": [
        "# df = pd.read_excel(io.BytesIO(uploaded[\"data.xlsx\"]), engine='openpyxl',)\n",
        "df = pd.read_excel(\"./dataset/data.xlsx\", engine='openpyxl',)\n",
        "df = df.iloc[0:32079]"
      ],
      "execution_count": 2,
      "outputs": []
    },
    {
      "cell_type": "markdown",
      "metadata": {
        "id": "CMYgNNZEE27A"
      },
      "source": [
        "## Variable Overview"
      ]
    },
    {
      "cell_type": "code",
      "metadata": {
        "id": "CLXu6JepOBhO"
      },
      "source": [
        "df.shape"
      ],
      "execution_count": 3,
      "outputs": [
        {
          "output_type": "execute_result",
          "data": {
            "text/plain": [
              "(32079, 93)"
            ]
          },
          "metadata": {},
          "execution_count": 3
        }
      ]
    },
    {
      "cell_type": "code",
      "metadata": {
        "id": "tqNLgHSFDqOq"
      },
      "source": [
        "df.head(20)"
      ],
      "execution_count": null,
      "outputs": []
    },
    {
      "cell_type": "markdown",
      "metadata": {
        "id": "SZtYi5YoML4F"
      },
      "source": [
        "## DEF Helper FUNCTIONS"
      ]
    },
    {
      "cell_type": "markdown",
      "metadata": {
        "id": "PNc2sPamYgfA"
      },
      "source": [
        "### Define function: inspect(col)\r\n",
        "Outputs the type, percentage of missing values in this column. \r\n",
        "Additionally it either outputs The range, and distribution of its values if the column is a numerical column (float64 or int64) or its unique values if it is an ordinal/ categorical column"
      ]
    },
    {
      "cell_type": "code",
      "metadata": {
        "id": "xhIskI0yLN9C"
      },
      "source": [
        "def inspect(var: str):\n",
        "  if df[var].dtypes == \"O\":\n",
        "    print(\"------------------------------PRINT ALL AND TYPE-----------------------------------\")\n",
        "    print(df[var])\n",
        "    print(\"-------------------------------UNIQUE VALUES---------------------------------------\")\n",
        "    print(df[var].unique())\n",
        "    print(\"-------------------------NUMBER OF MISSING VALUES----------------------------------\")\n",
        "    print(df[var].isna().sum())\n",
        "    print(\"-------------------------PERCENT OF MISSING VALUES---------------------------------\")\n",
        "    print(df[var].isna().sum()/len(df[var]))\n",
        "  elif df[var].dtypes == \"float64\" or df[var].dtypes == \"int64\" :\n",
        "    print(\"------------------------------PRINT ALL AND TYPE-----------------------------------\")\n",
        "    print(df[var])\n",
        "    print(\"-------------------------------RANGE OF VALUES---------------------------------------\")\n",
        "    print(\"MIN\", df[var].min())\n",
        "    print(\"MAX\", df[var].max())\n",
        "    #Plot the distribution\n",
        "    print(\"-------------------------NUMBER OF MISSING VALUES----------------------------------\")\n",
        "    print(df[var].isna().sum())\n",
        "    print(\"-------------------------PERCENT OF MISSING VALUES---------------------------------\")\n",
        "    print(df[var].isna().sum()/len(df[var]))\n",
        "    print(\"-------------------------DISTRIBUTION OF VALUES---------------------------------\")\n",
        "    hist = df[var].hist(bins=15, alpha=0.5)\n",
        "    plt.title(var + \" Distribution\")\n",
        "    plt.xlabel(var)\n",
        "    plt.ylabel('Frequency')"
      ],
      "execution_count": null,
      "outputs": []
    },
    {
      "cell_type": "markdown",
      "metadata": {
        "id": "d9eF70v1aeiZ"
      },
      "source": [
        "### 2) replaceWordSet(mistakenWords: set\\<str>,replacement: str)\r\n",
        "Replaces all the words in the mistakenWords set with the replacement string."
      ]
    },
    {
      "cell_type": "code",
      "metadata": {
        "id": "_5w8uK5N6fZP"
      },
      "source": [
        "def replaceWordSet(df, col, mistakenWords, replacement):\r\n",
        "  uniqueVals = list(pd.unique(df[col]))\r\n",
        "  for i in uniqueVals:\r\n",
        "    if i in mistakenWords:\r\n",
        "      df[col]= df[col].replace(i, replacement)\r\n",
        "  return df[col]"
      ],
      "execution_count": null,
      "outputs": []
    },
    {
      "cell_type": "markdown",
      "metadata": {
        "id": "dD4J4qCCU-HV"
      },
      "source": [
        "### 3) toLowerCase(df: pandas.Dataframe, col: str)"
      ]
    },
    {
      "cell_type": "code",
      "metadata": {
        "id": "wdA0l3YgVDRu"
      },
      "source": [
        "def toLowerCase(df, col:str):\r\n",
        "  uniqueVals = list(pd.unique(df[col]))\r\n",
        "  for i in uniqueVals:\r\n",
        "    if not pd.isnull(i):\r\n",
        "      df[col]= df[col].replace(str(i), str(i).lower())\r\n",
        "  return df[col]"
      ],
      "execution_count": null,
      "outputs": []
    },
    {
      "cell_type": "code",
      "metadata": {
        "id": "7HE1eUhF-CTI"
      },
      "source": [
        "to_low = ['Are you the Head of Household (i.e. the person responsible for providing for the people in this household)?',\r\n",
        "          'Is any member of your family identified with COVID-19 or experienced flu-like symptoms or have been in contact with a COVID-19 positive case in the previous 14 days?',\r\n",
        "          'Does anyone have a physical or mental disability?', \r\n",
        "          'Does any member of your family need immediate first aid support?',\r\n",
        "          'Does any member of your family need chronic medications/healthcare?',\r\n",
        "          'Does anyone have a chronic illness or critical medical condition?',\r\n",
        "          'Nationality of household',\r\n",
        "          'Marital Status',\r\n",
        "          'Do your family has access to healthcare or medication since the incident?',\r\n",
        "          'Gender',\r\n",
        "          'Did you receive any assistance since the incident',\r\n",
        "          'Have you or any household member damaged/lost any personal documents?',\r\n",
        "          \"Is there a migrant worker or domenstic helper living with this household? \",\r\n",
        "          ]\r\n",
        "\r\n",
        "# df[to_low] = df[to_low].apply(lambda x: x.astype(str).str.lower())\r\n",
        "# bag = set([\"Wife\", \"wife\"])\r\n",
        "# df[\"What is the respondant's relationship to HoH:\"] = replaceWordSet(df, \"What is the respondant's relationship to HoH:\", bag, \"wife/husband\")\r\n",
        "\r\n"
      ],
      "execution_count": null,
      "outputs": []
    },
    {
      "cell_type": "code",
      "metadata": {
        "colab": {
          "base_uri": "https://localhost:8080/"
        },
        "id": "Qizajm20PK0B",
        "outputId": "d3f2bcb7-9bcc-4e49-e922-7b3e7271251f"
      },
      "source": [
        "pd.unique(df[\"What is the respondant's relationship to HoH:\"])"
      ],
      "execution_count": null,
      "outputs": [
        {
          "output_type": "execute_result",
          "data": {
            "text/plain": [
              "array([nan, 'wife/husband', 'other', 'daughter/son', 'wife', 'Wife'],\n",
              "      dtype=object)"
            ]
          },
          "metadata": {
            "tags": []
          },
          "execution_count": 10
        }
      ]
    },
    {
      "cell_type": "markdown",
      "metadata": {
        "id": "t2shWfdqVgYM"
      },
      "source": [
        "# AREA"
      ]
    },
    {
      "cell_type": "markdown",
      "metadata": {
        "id": "QXUakYbJQ45-"
      },
      "source": [
        "## Variable 1: Cadaster"
      ]
    },
    {
      "cell_type": "code",
      "metadata": {
        "id": "60WtAceHLHLB",
        "colab": {
          "base_uri": "https://localhost:8080/"
        },
        "outputId": "77cf3e58-e9c4-45e6-f8c3-6781a8898f53"
      },
      "source": [
        "inspect(\"Cadaster\")\r\n",
        "# print(\"Meaning: \")"
      ],
      "execution_count": null,
      "outputs": [
        {
          "output_type": "stream",
          "text": [
            "------------------------------PRINT ALL AND TYPE-----------------------------------\n",
            "0        Achrafieh foncière\n",
            "1        Achrafieh foncière\n",
            "2        Achrafieh foncière\n",
            "3             Bourj Hammoud\n",
            "4             Bourj Hammoud\n",
            "                ...        \n",
            "32074    Achrafieh foncière\n",
            "32075    Achrafieh foncière\n",
            "32076      Mdaouar foncière\n",
            "32077        Rmeil foncière\n",
            "32078    Achrafieh foncière\n",
            "Name: Cadaster, Length: 32079, dtype: object\n",
            "-------------------------------UNIQUE VALUES---------------------------------------\n",
            "['Achrafieh foncière' 'Bourj Hammoud' 'Bachoura foncière' 'Rmeil foncière'\n",
            " 'Saifi foncière' 'Mdaouar foncière' nan 'Zqaq el-Blat foncière'\n",
            " 'Mina el-Hosn foncière' 'Ras Beyrouth foncière' 'Mazraa foncière'\n",
            " 'Sinn El-Fil' \"Marfa' foncière\" 'Msaitbe foncière' 'Furn Ech-Chebbak'\n",
            " 'Beirut Central District' 'Aain el-Mraisse foncière']\n",
            "-------------------------NUMBER OF MISSING VALUES----------------------------------\n",
            "1606\n",
            "-------------------------PERCENT OF MISSING VALUES---------------------------------\n",
            "0.05006390473518501\n"
          ],
          "name": "stdout"
        }
      ]
    },
    {
      "cell_type": "markdown",
      "metadata": {
        "id": "sTnWtGiPRXwR"
      },
      "source": [
        "## Variable 2: Zone"
      ]
    },
    {
      "cell_type": "code",
      "metadata": {
        "id": "_TOcOtaZOR7P",
        "colab": {
          "base_uri": "https://localhost:8080/",
          "height": 659
        },
        "outputId": "5c7b6dbf-f145-4195-8db8-a854e0c0a4e2"
      },
      "source": [
        "inspect(\"Zone\")"
      ],
      "execution_count": null,
      "outputs": [
        {
          "output_type": "stream",
          "text": [
            "------------------------------PRINT ALL AND TYPE-----------------------------------\n",
            "0         57.0\n",
            "1         57.0\n",
            "2         57.0\n",
            "3        113.0\n",
            "4        116.0\n",
            "         ...  \n",
            "32074     58.0\n",
            "32075     59.0\n",
            "32076      8.0\n",
            "32077     39.0\n",
            "32078     58.0\n",
            "Name: Zone, Length: 32079, dtype: float64\n",
            "-------------------------------RANGE OF VALUES---------------------------------------\n",
            "MIN 0.0\n",
            "MAX 187.0\n",
            "-------------------------NUMBER OF MISSING VALUES----------------------------------\n",
            "1571\n",
            "-------------------------PERCENT OF MISSING VALUES---------------------------------\n",
            "0.04897284828080676\n",
            "-------------------------DISTRIBUTION OF VALUES---------------------------------\n"
          ],
          "name": "stdout"
        },
        {
          "output_type": "display_data",
          "data": {
            "image/png": "[encoded data removed]",
            "text/plain": [
              "<Figure size 432x288 with 1 Axes>"
            ]
          },
          "metadata": {
            "tags": [],
            "needs_background": "light"
          }
        }
      ]
    },
    {
      "cell_type": "markdown",
      "metadata": {
        "id": "CPzT4__uVqvK"
      },
      "source": [
        "# RECORDING"
      ]
    },
    {
      "cell_type": "markdown",
      "metadata": {
        "id": "cdyQb4mGRdKI"
      },
      "source": [
        "## Variable 3: Partner"
      ]
    },
    {
      "cell_type": "code",
      "metadata": {
        "id": "v-q0kkFiOkV_",
        "colab": {
          "base_uri": "https://localhost:8080/"
        },
        "outputId": "61fc4fc5-2d9b-4696-ec4e-a6c727244416"
      },
      "source": [
        "inspect(\"Partner\")"
      ],
      "execution_count": null,
      "outputs": [
        {
          "output_type": "stream",
          "text": [
            "------------------------------PRINT ALL AND TYPE-----------------------------------\n",
            "0        partner_other\n",
            "1        partner_other\n",
            "2        partner_other\n",
            "3            UNHabitat\n",
            "4            UNHabitat\n",
            "             ...      \n",
            "32074              LRC\n",
            "32075              LRC\n",
            "32076              LRC\n",
            "32077              LRC\n",
            "32078              LRC\n",
            "Name: Partner, Length: 32079, dtype: object\n",
            "-------------------------------UNIQUE VALUES---------------------------------------\n",
            "['partner_other' 'UNHabitat' 'LRC' 'Intersos' 'Save the Children' 'CWW'\n",
            " 'Medair' 'PCPM' 'NRC' 'UNHCR' 'Leb-Relief' 'Solidarite' 'WFP' 'Unicef'\n",
            " 'Acted' 'Concern' 'PU AMI' 'AAH' 'IOM' 'Nawaya' 'Lebanese_University'\n",
            " 'Arcenciel' nan 'radi jarouch' 'Caritas']\n",
            "-------------------------NUMBER OF MISSING VALUES----------------------------------\n",
            "612\n",
            "-------------------------PERCENT OF MISSING VALUES---------------------------------\n",
            "0.019077901430842606\n"
          ],
          "name": "stdout"
        }
      ]
    },
    {
      "cell_type": "markdown",
      "metadata": {
        "id": "Dl_B4PMZReyJ"
      },
      "source": [
        "## Variable 4: Introduction"
      ]
    },
    {
      "cell_type": "code",
      "metadata": {
        "id": "WygdHm3FOyb4",
        "colab": {
          "base_uri": "https://localhost:8080/"
        },
        "outputId": "4fe1f3c7-0301-4579-c46a-80e27ecba672"
      },
      "source": [
        "inspect(\"introduction\")"
      ],
      "execution_count": null,
      "outputs": [
        {
          "output_type": "stream",
          "text": [
            "------------------------------PRINT ALL AND TYPE-----------------------------------\n",
            "0        yes\n",
            "1        yes\n",
            "2        yes\n",
            "3        yes\n",
            "4        yes\n",
            "        ... \n",
            "32074    yes\n",
            "32075    yes\n",
            "32076    yes\n",
            "32077    yes\n",
            "32078    yes\n",
            "Name: introduction, Length: 32079, dtype: object\n",
            "-------------------------------UNIQUE VALUES---------------------------------------\n",
            "['yes' 'no' nan]\n",
            "-------------------------NUMBER OF MISSING VALUES----------------------------------\n",
            "7\n",
            "-------------------------PERCENT OF MISSING VALUES---------------------------------\n",
            "0.00021821129087565074\n"
          ],
          "name": "stdout"
        }
      ]
    },
    {
      "cell_type": "markdown",
      "metadata": {
        "id": "UF10lkwHVzFX"
      },
      "source": [
        "# INTERVIEWEE"
      ]
    },
    {
      "cell_type": "markdown",
      "metadata": {
        "id": "LxPhZnMvRmvW"
      },
      "source": [
        "## Variable 5: Are you the Head of Household (i.e. the person responsible for providing for the people in this household)?"
      ]
    },
    {
      "cell_type": "code",
      "metadata": {
        "id": "L8aFhiHlO69q",
        "colab": {
          "base_uri": "https://localhost:8080/"
        },
        "outputId": "971c7743-8319-4240-e2a8-306011b95640"
      },
      "source": [
        "#inspect(\"Are you the Head of Household (i.e. the person responsible for providing for the people in this household)?\")\n",
        "df[\"Are you the Head of Household (i.e. the person responsible for providing for the people in this household)?\"] = toLowerCase(df, \"Are you the Head of Household (i.e. the person responsible for providing for the people in this household)?\")"
      ],
      "execution_count": null,
      "outputs": [
        {
          "output_type": "stream",
          "text": [
            "------------------------------PRINT ALL AND TYPE-----------------------------------\n",
            "0        yes\n",
            "1        yes\n",
            "2        yes\n",
            "3        yes\n",
            "4         no\n",
            "        ... \n",
            "32074    yes\n",
            "32075    yes\n",
            "32076    yes\n",
            "32077    yes\n",
            "32078    yes\n",
            "Name: Are you the Head of Household (i.e. the person responsible for providing for the people in this household)?, Length: 32079, dtype: object\n",
            "-------------------------------UNIQUE VALUES---------------------------------------\n",
            "['yes' 'no' nan 'No' 'Yes']\n",
            "-------------------------NUMBER OF MISSING VALUES----------------------------------\n",
            "1662\n",
            "-------------------------PERCENT OF MISSING VALUES---------------------------------\n",
            "0.05180959506219022\n"
          ],
          "name": "stdout"
        }
      ]
    },
    {
      "cell_type": "markdown",
      "metadata": {
        "id": "jwkvZKGRULYm"
      },
      "source": [
        "#### After changes"
      ]
    },
    {
      "cell_type": "code",
      "metadata": {
        "id": "Q_X86N5MUJ9A",
        "colab": {
          "base_uri": "https://localhost:8080/"
        },
        "outputId": "3167d5b0-e144-4b31-e5af-9782ea179c6a"
      },
      "source": [
        "inspect(\"Are you the Head of Household (i.e. the person responsible for providing for the people in this household)?\")"
      ],
      "execution_count": null,
      "outputs": [
        {
          "output_type": "stream",
          "text": [
            "------------------------------PRINT ALL AND TYPE-----------------------------------\n",
            "0        yes\n",
            "1        yes\n",
            "2        yes\n",
            "3        yes\n",
            "4         no\n",
            "        ... \n",
            "32074    yes\n",
            "32075    yes\n",
            "32076    yes\n",
            "32077    yes\n",
            "32078    yes\n",
            "Name: Are you the Head of Household (i.e. the person responsible for providing for the people in this household)?, Length: 32079, dtype: object\n",
            "-------------------------------UNIQUE VALUES---------------------------------------\n",
            "['yes' 'no' nan]\n",
            "-------------------------NUMBER OF MISSING VALUES----------------------------------\n",
            "1662\n",
            "-------------------------PERCENT OF MISSING VALUES---------------------------------\n",
            "0.05180959506219022\n"
          ],
          "name": "stdout"
        }
      ]
    },
    {
      "cell_type": "markdown",
      "metadata": {
        "id": "wFNOeHGARtYp"
      },
      "source": [
        "## Variable 6: What is the respondant's relationship to HoH:"
      ]
    },
    {
      "cell_type": "code",
      "metadata": {
        "id": "WiYzu4R7PMz1",
        "colab": {
          "base_uri": "https://localhost:8080/"
        },
        "outputId": "e742bb43-a574-4439-f8cf-095ac1364bb5"
      },
      "source": [
        "inspect(\"What is the respondant's relationship to HoH:\")\n",
        "#make lowercase\n",
        "df[\"What is the respondant's relationship to HoH:\"] = toLowerCase(df, \"What is the respondant's relationship to HoH:\")"
      ],
      "execution_count": null,
      "outputs": [
        {
          "output_type": "stream",
          "text": [
            "------------------------------PRINT ALL AND TYPE-----------------------------------\n",
            "0                 NaN\n",
            "1                 NaN\n",
            "2                 NaN\n",
            "3                 NaN\n",
            "4        wife/husband\n",
            "             ...     \n",
            "32074             NaN\n",
            "32075             NaN\n",
            "32076             NaN\n",
            "32077             NaN\n",
            "32078             NaN\n",
            "Name: What is the respondant's relationship to HoH:, Length: 32079, dtype: object\n",
            "-------------------------------UNIQUE VALUES---------------------------------------\n",
            "[nan 'wife/husband' 'other' 'daughter/son' 'wife' 'Wife']\n",
            "-------------------------NUMBER OF MISSING VALUES----------------------------------\n",
            "28744\n",
            "-------------------------PERCENT OF MISSING VALUES---------------------------------\n",
            "0.8960379064185292\n"
          ],
          "name": "stdout"
        }
      ]
    },
    {
      "cell_type": "markdown",
      "metadata": {
        "id": "hmJV1qZWURiD"
      },
      "source": [
        "####After changes"
      ]
    },
    {
      "cell_type": "code",
      "metadata": {
        "id": "rGg--1OGUSPl",
        "colab": {
          "base_uri": "https://localhost:8080/"
        },
        "outputId": "9b6f44f8-a108-4bb7-b11e-5bd2f15c79b4"
      },
      "source": [
        "df[\"What is the respondant's relationship to HoH:\"] = toLowerCase(df, \"What is the respondant's relationship to HoH:\")\n",
        "df[\"What is the respondant's relationship to HoH:\"] = df[\"What is the respondant's relationship to HoH:\"].replace('wife', 'wife/husband')\n",
        "inspect(\"What is the respondant's relationship to HoH:\")"
      ],
      "execution_count": null,
      "outputs": [
        {
          "output_type": "stream",
          "text": [
            "------------------------------PRINT ALL AND TYPE-----------------------------------\n",
            "0                 NaN\n",
            "1                 NaN\n",
            "2                 NaN\n",
            "3                 NaN\n",
            "4        wife/husband\n",
            "             ...     \n",
            "32074             NaN\n",
            "32075             NaN\n",
            "32076             NaN\n",
            "32077             NaN\n",
            "32078             NaN\n",
            "Name: What is the respondant's relationship to HoH:, Length: 32079, dtype: object\n",
            "-------------------------------UNIQUE VALUES---------------------------------------\n",
            "[nan 'wife/husband' 'other' 'daughter/son']\n",
            "-------------------------NUMBER OF MISSING VALUES----------------------------------\n",
            "28744\n",
            "-------------------------PERCENT OF MISSING VALUES---------------------------------\n",
            "0.8960379064185292\n"
          ],
          "name": "stdout"
        }
      ]
    },
    {
      "cell_type": "markdown",
      "metadata": {
        "id": "N9wJT7McR5OQ"
      },
      "source": [
        "## Variable 7: Do you currently live here in this apartment/house?"
      ]
    },
    {
      "cell_type": "code",
      "metadata": {
        "id": "qFvE4vtGPanD",
        "colab": {
          "base_uri": "https://localhost:8080/"
        },
        "outputId": "8fbafa5b-98df-4b8a-dac4-31429c4f4a55"
      },
      "source": [
        "inspect(\"Do you currently live here in this apartment/house?\")\n",
        "df[\"Do you currently live here in this apartment/house?\"] = toLowerCase(df, \"Do you currently live here in this apartment/house?\")"
      ],
      "execution_count": null,
      "outputs": [
        {
          "output_type": "stream",
          "text": [
            "------------------------------PRINT ALL AND TYPE-----------------------------------\n",
            "0        yes\n",
            "1        yes\n",
            "2        yes\n",
            "3        yes\n",
            "4        yes\n",
            "        ... \n",
            "32074    yes\n",
            "32075    yes\n",
            "32076    yes\n",
            "32077    yes\n",
            "32078    yes\n",
            "Name: Do you currently live here in this apartment/house?, Length: 32079, dtype: object\n",
            "-------------------------------UNIQUE VALUES---------------------------------------\n",
            "['yes' nan 'no' 'Yes']\n",
            "-------------------------NUMBER OF MISSING VALUES----------------------------------\n",
            "1663\n",
            "-------------------------PERCENT OF MISSING VALUES---------------------------------\n",
            "0.051840768103743884\n"
          ],
          "name": "stdout"
        }
      ]
    },
    {
      "cell_type": "markdown",
      "metadata": {
        "id": "4gGqOfasUYDT"
      },
      "source": [
        "####After changes"
      ]
    },
    {
      "cell_type": "code",
      "metadata": {
        "id": "iQYM7MGMUbR6",
        "colab": {
          "base_uri": "https://localhost:8080/"
        },
        "outputId": "38729b40-5e9f-45bd-ad19-23b2bbc6d18e"
      },
      "source": [
        "inspect(\"Do you currently live here in this apartment/house?\")"
      ],
      "execution_count": null,
      "outputs": [
        {
          "output_type": "stream",
          "text": [
            "------------------------------PRINT ALL AND TYPE-----------------------------------\n",
            "0        yes\n",
            "1        yes\n",
            "2        yes\n",
            "3        yes\n",
            "4        yes\n",
            "        ... \n",
            "32074    yes\n",
            "32075    yes\n",
            "32076    yes\n",
            "32077    yes\n",
            "32078    yes\n",
            "Name: Do you currently live here in this apartment/house?, Length: 32079, dtype: object\n",
            "-------------------------------UNIQUE VALUES---------------------------------------\n",
            "['yes' nan 'no']\n",
            "-------------------------NUMBER OF MISSING VALUES----------------------------------\n",
            "1663\n",
            "-------------------------PERCENT OF MISSING VALUES---------------------------------\n",
            "0.051840768103743884\n"
          ],
          "name": "stdout"
        }
      ]
    },
    {
      "cell_type": "markdown",
      "metadata": {
        "id": "RtkhHPUeR9OO"
      },
      "source": [
        "## Variable 8,9: Location\t| Other, please specify"
      ]
    },
    {
      "cell_type": "code",
      "metadata": {
        "id": "GtJfrjIrPjNS",
        "colab": {
          "base_uri": "https://localhost:8080/"
        },
        "outputId": "017c5d04-8e3d-43f7-d395-6fdb024d9187"
      },
      "source": [
        "inspect(\"Location\")"
      ],
      "execution_count": null,
      "outputs": [
        {
          "output_type": "stream",
          "text": [
            "------------------------------PRINT ALL AND TYPE-----------------------------------\n",
            "0                NaN\n",
            "1                NaN\n",
            "2                NaN\n",
            "3                NaN\n",
            "4                NaN\n",
            "            ...     \n",
            "32074      ashrafieh\n",
            "32075      ashrafieh\n",
            "32076    Zqaq Elblat\n",
            "32077      ashrafieh\n",
            "32078       Bachoura\n",
            "Name: Location, Length: 32079, dtype: object\n",
            "-------------------------------UNIQUE VALUES---------------------------------------\n",
            "[nan 'ashrafieh' 'Bachoura' 'Rmeil' 'Beirut Central District' 'Saifi'\n",
            " 'Mdaouar' 'other' 'Zqaq Elblat' 'Marfa' 'Mina Elhosn']\n",
            "-------------------------NUMBER OF MISSING VALUES----------------------------------\n",
            "12324\n",
            "-------------------------PERCENT OF MISSING VALUES---------------------------------\n",
            "0.38417656410735995\n"
          ],
          "name": "stdout"
        }
      ]
    },
    {
      "cell_type": "code",
      "metadata": {
        "id": "PsZvw83FPnEI"
      },
      "source": [
        "# inspect(\"Other, please specify\")\n",
        "#Different spelling for same location. For example: borj, burj, bourj, Burj, Birj, Bourej/ Sin el fil, Sen El Fel, Sin lfill/ spelling in arabic\n",
        "df[\"Other, please specify\"] = df[\"Other, please specify\"].str.strip()\n",
        "df[\"Other, please specify\"] = df[\"Other, please specify\"].replace('\\s+', ' ',regex=True)\n",
        "df[\"Other, please specify\"] = toLowerCase(df, \"Other, please specify\")\n",
        "replacement_bags_pairs = {\n",
        "                          \"sin el fil\": set(['son el fil', 'sen el', 'sin el fil', 'son el fil', \"sin el fel\", 'sin lfil' ,'sin al fil', 'sen l fil' ,'sin l fil','ain el fil', 'sin  fil', 'sin el fel', 'sinn el fil' ,'sinn ek fil', 'sinlfil', 'sein al fiel' ,'sin el feil' ,'sinel fil' ,'sin 3l fil', 'sin el phil', 'sun el fil' ,'sin lfel' ,'sin el fiñ', 'sin fil', 'sin' ,'sin el fild', 'sin el fol' ,'sin dl fil', 'sin el il', 'sin el filq' ,'sin el filp', 'sin e fil', 'sil el fil', 'sin elf fil', 'sin el til', 'sin el fin','sinel','sinelfi', 'sib el fil', 'zin el fil' ,'sin rl fil', 'sin  el fil', 'sin lfill', 'sen lfill', 'sin el fil', 'sinelfil', 'sin elfil', 'sen el fil', 'سن الفيل', 'sjn el fil', 'si el fil', 'sin el fill', 'sin el urgent', 'sin el fill', 'سن لفيل', ]),\n",
        "                          \"bourj hammoud\": set(['burj hamoid','borge hamoud','bourj hamoud', 'borj hammoud', 'borj hamoud', 'برج حمود شارع كيليكيا', 'burj hammoud', 'برج حمود', 'برج حمود شارع حمود', 'شارع كيليكيا برج حمود', 'برج حمود شارع كيليكا', 'burj hammoud', 'برج حمود', 'برج حمود شارع حمود', 'شارع كيليكيا برج حمود', 'bourh hammoud', 'burj hamoud', 'برج حمود شارع كيليكا', 'burj hamud', 'bourj hammous', 'birj hammoud', 'bourej hamoud', 'bourj hammou', 'bourej hammoud', 'borj hmoud', 'برج حمود حارة صادر', 'برج حمود شارع صاد', 'burj hamud', 'bourj hammous', 'birj hammoud', 'برج حم', 'birj hamoud', 'born hammoud', 'bourk hamoud','bourj hammouf', 'bourjhamoud', 'bouj hamoud', 'berhamoud', 'bourj hammoud, maraash', 'برج الحمود', 'berj hamoud arax', 'bourj hammoue',  'berj hamoud', 'bourjhammoud', 'bourn hammoud', 'bourj hammoud, arax', 'برج حمود.', 'burj hamod', 'berj hamouf', 'berj hammoud', 'burj hamoood', 'borj hamod', 'burj hammod', 'bourj', 'borj hammod', 'borj hamood', 'bourj hammoid', 'burjhammod', 'burj hammud', 'borj hammoud0', 'biurj hammoud', 'barj hamoud', 'borj hammoid', 'borj hamud', 'barjhammod', 'bourj hammouc', 'burjj hamud', 'bour hammoud', 'borj houmd', 'borjhamoud', 'barjhamoud', 'burj hammous', 'burj hanmoud', 'borej hamoud', 'berej hammoud', 'bourjj hamoud', 'burj hamouf', 'burj barajne', 'both hammoud', 'berej hammud', 'bouri hammoud', 'borjhamud', 'berej hamoud', 'boroj hammoud', 'bourj hammoud zone 122', 'borj hamoud near mar youssef church', 'borj hammoud haret sader street', 'borj hammoud near mar youssef church', 'bork hammoud', 'bork hamoud', 'borj hammoud', 'bourj hammond', 'borj hamouud', 'bourj hammoud haret sader street', 'borj hammoud , mar youssef street', 'boutj hammoud', 'burj hamdoud', 'borj hammoud ,haret sader street', 'borj hammoud haret sader st', 'borj hammoud mar youssef church''bourhamoud', 'bourj hsmmoud', 'borj hammud', 'bej hamoud', 'berej hamouf', 'bourj hammoud l', 'borj hamoid', 'bofrj hamoud', 'bouj hammoud', 'borj hammoud armeina street', 'borj hampud', 'borj hamooud', 'borj hammoud adana street', 'borj hammoud dora street', 'borj hammoud , adana street', 'borj hammoud adana', 'borj hammoud, adana street', 'bonrj hammoud', 'borjhammud', 'boj hamud', 'bourj hanmoud', 'burj hammoud ya', 'borj hammoud armenia street', 'borj hammous , armenia street', 'bourj hammoud0', 'borj hammoud , armenia street', 'bourej hamou', 'borj hammoud, lebanese water company street', 'borj hammoud ,lebanese water company', 'boroj hamoud', 'bourj hamood', 'brj hammoud', 'burj hammoud ya te to un', 'borj hmmoud', 'borj hammoud haret sader', 'bourja hammoud', 'bourj hammoud zone 121', 'bourj hammmoud', 'bourj hammoud - armenian red cross', 'bourj hammoud - near armanian red cross', 'borj hammoud near armenian red cross', 'bourj hamouf', 'burj hamoudi', 'borj hanmoud', 'bprj hammoud', 'berj hamud', 'burj hammiud', 'burj hanoud', 'burj hsmud', 'برج حمود شارع صادر', 'برج حمود جارع كيليكيا', 'برج حمود شارع مادونا', 'برج حمود شارع كنيسة مار يوسف', 'برج حمود شارع كويسة مار يوسف', 'برج حمود _شارع مادونا', 'برج حمود شارع السنترال', 'برج حمود جنب السنترال', 'برج حمو', 'برج الحمو', 'برج حمود/ شارع طرابلس', 'بىج حمود', 'برج حمودط', 'برج حمود منطقة شارع ٧٦ الطابق الارضي قرب شركة المياه', 'برج حمود/ شارع طومرزا', 'برج حمود/ شارع طمورزا','برج حمود/ شارع الصادر', 'borj hammoud,haret saber street', 'borj hammoud mar youssef church', 'bourhamoud', 'يرج حمود', 'berj hammof', ]),\n",
        "                          \"zkak l blat\": set(['z2a2 al blat','z2a2 al blad', 'zkak el blat','zkak al blat' 'z2a2 al blad', \"zkak blat\", \"zkak l blat\", \"zkak lblat\", 'z2a2 al blad' 'z2a2 al blat']),\n",
        "                          \"khandak el ghamee2\": set(['khanda2', 'khandaa',\"khandak el khame2\", \"خندق الغميق\", 'khandak el ghamee2', 'khanda2 gham2', 'khanda2 ghami2', 'ghanda2 ghami2', 'khnda2', 'khanda2 l ghami2', 'khandak ghamik', 'khandak', 'khanda2 lghamii', 'khandk', 'khanda2 l ghamii', 'khandaa l ghamii']),\n",
        "                          \"bachoura\": set([\"الباشورة\"]),\n",
        "                          \"gemmayze\": set(['gemeyze',\"gemmayze\", \"gemeyzeh\", \"jenayzeh\", \"gemaize\", 'gemmayaze', 'gemmeyaze', 'jemmayze', \"gemayze\", \"jemayze\", \"jemayzeh\", \"jemmayzeh\", 'gemmayzeh near redcross 202', 'gemayzeh', 'جميزة', 'gemmayzeh near rc 202']),\n",
        "                          \"basta tahta\": set(['basta el tahta','basta al tahta bachoura','basta tahta fathallah street',\"البسطة التحتا\", \"بسطة التحتة\", 'basta tahta','basar el tahta', 'basra el tahta', 'basta l tahta', 'bosta al tahta', 'basta al tahta', 'basra l tahta', 'basta al tahta fathallah street','bssta','nasta l tahta','bast tahta','basta-al tahta']),\n",
        "                          \"karm zaytoun\": set(['karem al zaytoun',\"karm el zeitoun\",'karm zaitoun','karem l zaytoun','karm el zaytoun','karm e zaytoun','karam el zaytoun','karem l zeitoun','karam zaytoun']),\n",
        "\n",
        "                          \"carantina\": set(['karantona','karentina','karangina','karatina','karantin','quarantin', 'karntina', 'quarantina', 'quarantine', 'carantina', 'qurantine', \"karantina\", 'karntina' 'quarantina' 'quarantine', 'karantine', 'karanteena', 'karnteena', 'karsntins', 'كرنتينا', 'karamteena', 'karantena', 'karnatina', 'karantinz', 'krntina', 'ka4antina']),\n",
        "                          \"mar mkhayel\": set(['mar m5ayil rabat street', 'mar mikheal', 'mar mkhayel churche', 'mar mkhayel', 'mar m5ayel', 'mar mkhyel', 'mar mkheyal', 'mar mkhail', 'mar mkail', 'mar mhkayel', 'marmkhayel', 'mar mkhael', 'mar mkhayl', 'mar mikeal', 'marmkhyael', 'mar mkhayal', 'marmkhayl', 'mar mkheael', \"mar mkheyeil\", \"مارمخايل\", \"مارم مخايل\", 'mar m5ayel' 'mar mkhyel', \"mar mikhael\", \"mar mikhaiel\"]),\n",
        "                          \"ras lnabah\": set(['ras al nabeh','ras el nabeh','rass nabaa','ras nabaa','ras al nabea','ras al nabeh','ras al nabaa','ras l nabeh', 'ras lnabeh', 'ras nabeh', 'ras elnabaa', \"ras nabe3\", \"ras nabea\",  'ras el nabee']),\n",
        "                          \"mar3ach\": set(['maraash', 'مرعش']),\n",
        "                          \"dora\": set(['dora', 'dawra']),\n",
        "                          \"borj el barajneh\": set(['borj al barajne', 'borj al barajni', ]),\n",
        "                          \"borj abi haidar\": set([ 'borj abj haidar','borj abou haydar','berj abu haydar','burj abi haidar','burj abi haidet','boroj abi haidar','burj abi hayder','berj abi haidar', 'burj abou haydar', 'bourj abi haidar', \"برج اب حيدر\", 'bourj abi haydar', 'bourj abj haidar', \"برج ابو حيدر\", \"borj abu haidar\", 'burj haydar', 'burj abi haydar']),\n",
        "                          \n",
        "\n",
        "                          \"cornich el naher\": set(['cornich al naher']),\n",
        "                          \"msaitbe\": set(['msaitbe','msaytbeh mar elias','mousaitbeh karkol el druz','moussaitbeh', 'mousseitbeh', 'msaibte', 'msaibti', 'msaitbe', 'مصيطبي', 'المصيطبى', 'المصيطبه', 'msaitbi', 'مصيطبة', 'msaytbi, saeb slam street', 'msaytbi semaan street, hashem meghnye building', 'maaytbe', 'mousaitbeh','masitbe','mseitbeh', 'msaitbii', 'mseibeh', 'mseitbe', 'moaaitbe', 'mositbe', 'moustaitbeh', 'musaitbeh', 'masitbeh', 'msaybeh', 'mouseitbeh', 'mousaitbah', 'المصيطبي١', 'mousaitibeh', 'msaythe', 'mousaytbe', 'mosaytbe', 'mosaytbeh', 'misaytbeh', 'mousqytbe', 'mosaitbeh','المسيطبة', 'mseibe', 'mosaitbe', 'mosaibte', 'المصيطبي', 'msaytbi', 'msytbe', 'msaitbeh', 'مصيطبه', 'msaytbe', 'msaytbeh', 'mousaitbe']),\n",
        "                          'getaoui': set(['getaoui', 'geitawa', 'getawi', 'geatawi', 'jeatawi', 'j3eytewe', 'j3itawi', 'geutawi sher3 asho3', 'geitawi', 'jeitawi', 'geitaoui', 'geoutawi', 'geatawi', 'jeatawi', 'j3eytewe', 'j3itawi', 'jeitewe', 'j3itewe','joutewi', 'gitawi', 'joutewe', 'j3itewi', 'jetawe', 'joueitawi', 'geytaoi', 'geotaoui']),\n",
        "                          \"tari2 jdide\": set(['taree2 jdede','tari2 jdide , bohsali', 'tarik jdide', 'tariq jadede', 'tariq jdede', 'tari2 jdideh']),\n",
        "                          \"furn l chebbek\": set(['furn el chebak']),\n",
        "                          'mazraa': set(['mazra3a','mazras','مزرعه','mazraq','maraa','mazrra','al mazraa','mazeaa','marzraa']),\n",
        "                          'basta faw2a': set(['basta fawka', 'basta el faw2a','basta al fawka' 'basta fawqa','al basta al fawka','البسطا الفوقا', 'mazraa,basta al fawka' ,'basta l fawka']),\n",
        "\n",
        "                          'salim sleim': set(['salim slam','salim salam','salem slam']),                          \n",
        "                          \"furn l chebbek\": set(['furn el chebak']),\n",
        "                          \"basta\": set(['baata', 'bassta', 'al basta']),\n",
        "\n",
        "\n",
        "\n",
        "                          }\n",
        "\n",
        "for replacement in replacement_bags_pairs.keys():\n",
        "  wordBag = replacement_bags_pairs[replacement]\n",
        "  df[\"Other, please specify\"] = replaceWordSet(df, \"Other, please specify\", wordBag, replacement)"
      ],
      "execution_count": null,
      "outputs": []
    },
    {
      "cell_type": "code",
      "metadata": {
        "id": "-i60M3wb7IVF"
      },
      "source": [],
      "execution_count": null,
      "outputs": []
    },
    {
      "cell_type": "markdown",
      "metadata": {
        "id": "6_r0SLlmUlel"
      },
      "source": [
        "####After changes"
      ]
    },
    {
      "cell_type": "code",
      "metadata": {
        "colab": {
          "base_uri": "https://localhost:8080/"
        },
        "id": "qblfaAUBUmvN",
        "outputId": "26d26a77-a17a-45d4-cd92-04a1cf4e731f"
      },
      "source": [
        "inspect(\"Other, please specify\")"
      ],
      "execution_count": null,
      "outputs": [
        {
          "output_type": "stream",
          "text": [
            "------------------------------PRINT ALL AND TYPE-----------------------------------\n",
            "0        NaN\n",
            "1        NaN\n",
            "2        NaN\n",
            "3        NaN\n",
            "4        NaN\n",
            "        ... \n",
            "32074    NaN\n",
            "32075    NaN\n",
            "32076    NaN\n",
            "32077    NaN\n",
            "32078    NaN\n",
            "Name: Other, please specify, Length: 32079, dtype: object\n",
            "-------------------------------UNIQUE VALUES---------------------------------------\n",
            "[nan 'gemmayze' 'khandak el ghamee2' 'basta tahta' 'karm zaytoun'\n",
            " 'bourj hammoud' 'bachoura' 'al zahrawi' 'zkak l blat' 'carantina'\n",
            " 'mar mkhayel' 'النبعة' 'ras lnabah' 'sin el fil' 'برج حارة حارة صادق'\n",
            " 'iom' 'mar3ach' 'arax' 'شارع العريض' 'شارع طرابلس'\n",
            " 'شارع طرابلس قسيس الدورة' 'شارع ارمينية' 'الدورة' 'الدورة شارع ارمينيا'\n",
            " 'شارع عيد' 'شارع الاخطل جنب عقيل اخوان قرب شلالا' 'زقيق البلاط'\n",
            " 'salim slem' 'nigeria' 'نبع' 'nabaa' '1' 'شارع السنترال' 'شلرع السنترال'\n",
            " 'قرب سنترال اوجيرو' 'شارع عقيل' 'شارع ارمينيا' 'قرب big sale'\n",
            " 'شارع السنترال بناية أداميان' 'شارع السنترال بناية اتاميان'\n",
            " 'جانب مكتب الشرق الاوسط' 'بناية فلفلة جانب مكتب السفريات'\n",
            " 'جانب مكتب السفريات' 'مبنى حميرة شارع السنترال' 'بناية حميرة'\n",
            " 'بناية حبيقة' 'شارع السنترال اضنا بناية سليم غانم'\n",
            " 'شارع السنترال بناية داغر حايك' 'بناية السنترال'\n",
            " 'بناية مهدي علي الحاج شارع السنترال' 'بناية سوفاك' 'no'\n",
            " 'بناية هدلة مقابل تمثال الشهداء' 'شارع السنترال جانب تمثال الارمن'\n",
            " 'شارع السنترال بناية محمود نجم الدين جانب نمثال الشهداء'\n",
            " 'بناية محمود نجم الدين جانب تمثال الارمن' 'جانب تمثال الارمن'\n",
            " 'بناية محمود نجم الدين جانب تمثال السنترال'\n",
            " 'جانب السنترال بناية محمود نجم الدين' 'بناية محمود نجم الدين'\n",
            " 'شارع اضنا بناية جعارة' 'بناية جعارة شارع اضنا' 'شارع اضنا'\n",
            " 'بناية ميساك بادريان مقابل محل الخضار'\n",
            " 'بناية جوزيف ابي راشد جانب نادي الارمن' 'miled charar' 'le mall area'\n",
            " 'قرب شركة المياه' 'قرب ركة المياه' 'قرب سوبر ماركت كوان ماركت'\n",
            " 'قرب شرمة المياة' 'قرب شركة المياة' 'قرب سوبر ماركت كوان'\n",
            " 'قرب كوان ماركت' 'sheild' 'تامارزا فرن القبو' 'شركة المياه' '0'\n",
            " 'قرب مؤسسة المياه' 'قرب شركة المياه منطقة ٦شارع ٧٩'\n",
            " 'قرب شركة المياه / كوان ماركت' 'شارع كوان ماركت' 'acf' 'قري شرمة المياة'\n",
            " 'قرب نادي الارمن' 'خلف كنيسة ماربوسف' 'خلف كاريتاس كنيسة مار يوسف'\n",
            " 'قرب صيدلية ديب' 'قرب كنيسة مار يوسف كاريتاس' 'كاريتاس مار يوسف'\n",
            " 'شارع سانت ريتا' 'شارع صادر/ بناية أنّا صاندريان'\n",
            " 'chere3 mar yousef bineyet anna sanedrian' 'شارع مار يوسف' 'شارع طمرزا'\n",
            " 'شارع الصادر' 'chere3 toumarza' 'dora' 'nabaaa' 'bauchrieh' 'port area'\n",
            " 'beirut' 'jdeideh' 'مقابل مؤسسة الهراوي' 'stephanie joey' 'badawi street'\n",
            " 'badaqi street' 'النبعا' 'borj el barajneh' 'tatiana gerges'\n",
            " 'furn l chebbek' 'bourn' 'zarif' 'aisha bakkar' 'cornich el naher'\n",
            " 'msytbe salen slem' 'tari2 jdide' 'طريق الجديدة' 'elias el achkar'\n",
            " 'barbour' 'mazraa' 'البسطة' 'borj abi haidar' 'البسطة الفوقا' 'basta'\n",
            " 'sodico' 'mdawar' 'اابسطة' 'basta faw2a' 'ashrafieh' 'برج ابو حبدر'\n",
            " 'cornich el mazraa' 'bchara al khoury' 'bechoura' 'badawi' 'hématie'\n",
            " 'برج ابي حيدر' 'البسطة التحتى' 'الخندق الغميق' 'البسطة الفوقى' 'tabaris'\n",
            " 'getaoui' 'watwet' 'biaquout' 'bsaba' 'hotel dieu' 'delta' 'الكرنتينه'\n",
            " 'sheildteam7' 'msaitbe' '.' 'ain el mrayse' 'anwayri sidi hassan street'\n",
            " 'البسطة الفوقا، نزلة المخفر' 'bidawe street' 'مار مخاييل' 'jedayde'\n",
            " 'اشرفية - بناية باولي الطابق ٦' 'شارع أرمينيا جامع الخضر جنب كنيسة'\n",
            " 'كارنتينا شارع الرهبان مقابل الرابطة المارونية بناية عبدو' 'رميل'\n",
            " 'مار مخايل' 'مار مخايل بناية الراهب' 'كورنيش النهر'\n",
            " 'بدوي-كورنيش النهر - شارع خليل البدوي-بناية داوود سعدو' 'rmeil'\n",
            " 'كارنتينا' 'فوج الاطفأ' 'البسطا التحتا شارع فتح الله' 'tarik jadide'\n",
            " 'شارع الزهراوي بناية عيسى' 'شارع فتحالله' 'بشارة الخوري' 'باشورا'\n",
            " 'kaskas' 'kobayat' 'salim sleim' 'كرم الزيتون' 'جعيتاوي'\n",
            " 'manta2et l hekme' 'ashou3' 'الجعيتاوي' 'kashou3' 'skandar farah'\n",
            " 'je iraqi' 'المصيطبة' 'اامصيطبي' 'barbor' 'basta al fawka' 'basta fawqa'\n",
            " 'بسطا الفوقة' 'sad el bouchrieh' 'الزريف' 'سليم سلام' 'spears' 'hamra'\n",
            " 'bir hasan' 'كرنتيته' 'badaoui area' 'badawe' 'تلت الخلاط' 'خلدة'\n",
            " 'النويري' 'بسطى التحتى' 'mar elias' 'port' 'not mention' 'wetwet'\n",
            " 'badaro' 'haret hreik' 'bshara elkhoury' 'مزرعة' 'nouwayre'\n",
            " 'al malla chare3 bani oumayya' 'mhamra' 'armenia' 'dar fatwa' 'تلمزرعة'\n",
            " 'moudawar' 'ras beirut' 'bchara khoury' 'hekme' 'jdaide' 'hazmieh'\n",
            " 'dahyeh' 'jnah' 'شياح' 'صائية الجنزير' 'كترمايا' 'batrakiyeh']\n",
            "-------------------------NUMBER OF MISSING VALUES----------------------------------\n",
            "22267\n",
            "-------------------------PERCENT OF MISSING VALUES---------------------------------\n",
            "0.694130116275445\n"
          ],
          "name": "stdout"
        }
      ]
    },
    {
      "cell_type": "code",
      "metadata": {
        "id": "B8TXaQPBkV9Z",
        "colab": {
          "base_uri": "https://localhost:8080/"
        },
        "outputId": "f8325137-0938-4201-c664-1ff593138123"
      },
      "source": [
        "len(pd.unique(df[\"Other, please specify\"]))"
      ],
      "execution_count": null,
      "outputs": [
        {
          "output_type": "execute_result",
          "data": {
            "text/plain": [
              "230"
            ]
          },
          "metadata": {
            "tags": []
          },
          "execution_count": 45
        }
      ]
    },
    {
      "cell_type": "markdown",
      "metadata": {
        "id": "jqoJyQzhSG_N"
      },
      "source": [
        "## Variable 10: Year"
      ]
    },
    {
      "cell_type": "code",
      "metadata": {
        "id": "J5jAH5wPRH9e",
        "colab": {
          "base_uri": "https://localhost:8080/",
          "height": 642
        },
        "outputId": "fc6b0fce-6b15-4124-ee92-831e1808535b"
      },
      "source": [
        "inspect(\"Year\")"
      ],
      "execution_count": null,
      "outputs": [
        {
          "output_type": "stream",
          "text": [
            "------------------------------PRINT ALL AND TYPE-----------------------------------\n",
            "0           NaN\n",
            "1           NaN\n",
            "2           NaN\n",
            "3        1957.0\n",
            "4        1960.0\n",
            "          ...  \n",
            "32074    1945.0\n",
            "32075    1993.0\n",
            "32076    1960.0\n",
            "32077    1947.0\n",
            "32078    1977.0\n",
            "Name: Year, Length: 32079, dtype: float64\n",
            "-------------------------------RANGE OF VALUES---------------------------------------\n",
            "MIN 1906.0\n",
            "MAX 2004.0\n",
            "-------------------------NUMBER OF MISSING VALUES----------------------------------\n",
            "2583\n",
            "-------------------------PERCENT OF MISSING VALUES---------------------------------\n",
            "0.08051996633311512\n",
            "-------------------------DISTRIBUTION OF VALUES---------------------------------\n"
          ],
          "name": "stdout"
        },
        {
          "output_type": "display_data",
          "data": {
            "image/png": "[encoded data removed]",
            "text/plain": [
              "<Figure size 432x288 with 1 Axes>"
            ]
          },
          "metadata": {
            "tags": [],
            "needs_background": "light"
          }
        }
      ]
    },
    {
      "cell_type": "markdown",
      "metadata": {
        "id": "9noqGg5ASJIe"
      },
      "source": [
        "## Variable 11: Gender"
      ]
    },
    {
      "cell_type": "code",
      "metadata": {
        "id": "PUneDbqRRLdh",
        "colab": {
          "base_uri": "https://localhost:8080/"
        },
        "outputId": "232b1f8c-7d7e-47a5-d0f6-bb6d080f5a09"
      },
      "source": [
        "inspect(\"Gender\")\n",
        "df[\"Gender\"] = toLowerCase(df, \"Gender\")"
      ],
      "execution_count": null,
      "outputs": [
        {
          "output_type": "stream",
          "text": [
            "------------------------------PRINT ALL AND TYPE-----------------------------------\n",
            "0        female\n",
            "1        female\n",
            "2        female\n",
            "3          male\n",
            "4        female\n",
            "          ...  \n",
            "32074    female\n",
            "32075      male\n",
            "32076    female\n",
            "32077      male\n",
            "32078    female\n",
            "Name: Gender, Length: 32079, dtype: object\n",
            "-------------------------------UNIQUE VALUES---------------------------------------\n",
            "['female' 'male' nan 'other' 'prefer_not_to_say' 'Female']\n",
            "-------------------------NUMBER OF MISSING VALUES----------------------------------\n",
            "1669\n",
            "-------------------------PERCENT OF MISSING VALUES---------------------------------\n",
            "0.05202780635306587\n"
          ],
          "name": "stdout"
        }
      ]
    },
    {
      "cell_type": "markdown",
      "metadata": {
        "id": "a36-NsRQUtAl"
      },
      "source": [
        "####After changes"
      ]
    },
    {
      "cell_type": "code",
      "metadata": {
        "id": "Y2KRCCIYUuaj",
        "colab": {
          "base_uri": "https://localhost:8080/"
        },
        "outputId": "313e5f0c-5608-4782-edb6-889e0560cae3"
      },
      "source": [
        "inspect(\"Gender\")"
      ],
      "execution_count": null,
      "outputs": [
        {
          "output_type": "stream",
          "text": [
            "------------------------------PRINT ALL AND TYPE-----------------------------------\n",
            "0        female\n",
            "1        female\n",
            "2        female\n",
            "3          male\n",
            "4        female\n",
            "          ...  \n",
            "32074    female\n",
            "32075      male\n",
            "32076    female\n",
            "32077      male\n",
            "32078    female\n",
            "Name: Gender, Length: 32079, dtype: object\n",
            "-------------------------------UNIQUE VALUES---------------------------------------\n",
            "['female' 'male' nan 'other' 'prefer_not_to_say']\n",
            "-------------------------NUMBER OF MISSING VALUES----------------------------------\n",
            "1669\n",
            "-------------------------PERCENT OF MISSING VALUES---------------------------------\n",
            "0.05202780635306587\n"
          ],
          "name": "stdout"
        }
      ]
    },
    {
      "cell_type": "markdown",
      "metadata": {
        "id": "v16yxeOjSLub"
      },
      "source": [
        "## Variable 12: Marital Status"
      ]
    },
    {
      "cell_type": "code",
      "metadata": {
        "id": "n-5PbxaTRQLd",
        "colab": {
          "base_uri": "https://localhost:8080/"
        },
        "outputId": "03dea8c7-4a4d-4d29-e932-8349f2fd6c49"
      },
      "source": [
        "inspect(\"Marital Status\")\n",
        "#Make lower\n",
        "df[\"Marital Status\"] = toLowerCase(df, \"Marital Status\")"
      ],
      "execution_count": null,
      "outputs": [
        {
          "output_type": "stream",
          "text": [
            "------------------------------PRINT ALL AND TYPE-----------------------------------\n",
            "0        married\n",
            "1        married\n",
            "2        married\n",
            "3        married\n",
            "4        married\n",
            "          ...   \n",
            "32074      widow\n",
            "32075    married\n",
            "32076    married\n",
            "32077    married\n",
            "32078    married\n",
            "Name: Marital Status, Length: 32079, dtype: object\n",
            "-------------------------------UNIQUE VALUES---------------------------------------\n",
            "['married' 'widow' 'single' nan 'married_separated_from_partner'\n",
            " 'living_with_partner' 'married_living_with_partner' 'Married']\n",
            "-------------------------NUMBER OF MISSING VALUES----------------------------------\n",
            "1669\n",
            "-------------------------PERCENT OF MISSING VALUES---------------------------------\n",
            "0.05202780635306587\n"
          ],
          "name": "stdout"
        }
      ]
    },
    {
      "cell_type": "markdown",
      "metadata": {
        "id": "5ALHdIHjUwkU"
      },
      "source": [
        "####After changes"
      ]
    },
    {
      "cell_type": "code",
      "metadata": {
        "id": "leCI8beLUyB5",
        "colab": {
          "base_uri": "https://localhost:8080/"
        },
        "outputId": "b959c38c-015b-4475-e2c4-dbab43384f45"
      },
      "source": [
        "inspect(\"Marital Status\")\r\n"
      ],
      "execution_count": null,
      "outputs": [
        {
          "output_type": "stream",
          "text": [
            "------------------------------PRINT ALL AND TYPE-----------------------------------\n",
            "0        married\n",
            "1        married\n",
            "2        married\n",
            "3        married\n",
            "4        married\n",
            "          ...   \n",
            "32074      widow\n",
            "32075    married\n",
            "32076    married\n",
            "32077    married\n",
            "32078    married\n",
            "Name: Marital Status, Length: 32079, dtype: object\n",
            "-------------------------------UNIQUE VALUES---------------------------------------\n",
            "['married' 'widow' 'single' nan 'married_separated_from_partner'\n",
            " 'living_with_partner' 'married_living_with_partner']\n",
            "-------------------------NUMBER OF MISSING VALUES----------------------------------\n",
            "1669\n",
            "-------------------------PERCENT OF MISSING VALUES---------------------------------\n",
            "0.05202780635306587\n"
          ],
          "name": "stdout"
        }
      ]
    },
    {
      "cell_type": "markdown",
      "metadata": {
        "id": "ql4PmSh7V7Mi"
      },
      "source": [
        "# HOUSEHOLD HEALTH, AGE, MEDICAL CONDITION"
      ]
    },
    {
      "cell_type": "markdown",
      "metadata": {
        "id": "B29MMQ2HSNq1"
      },
      "source": [
        "## Variable 13,14: \tNationality of household | Other, please specify2"
      ]
    },
    {
      "cell_type": "code",
      "metadata": {
        "id": "hKKE_CVkRWJ3",
        "colab": {
          "base_uri": "https://localhost:8080/"
        },
        "outputId": "bb8c277e-0455-4b16-ca1b-59729c7fa4b1"
      },
      "source": [
        "inspect(\"Nationality of household\")\n",
        "#Make lower and also \"lebanese \" vs \"lebanese\"\n",
        "df[\"Nationality of household\"] = toLowerCase(df, \"Nationality of household\")\n",
        "df[\"Nationality of household\"] = df[\"Nationality of household\"].str.strip()\n",
        "df[\"Nationality of household\"] = df[\"Nationality of household\"].replace('lebanese ', 'lebanese')\n"
      ],
      "execution_count": null,
      "outputs": [
        {
          "output_type": "stream",
          "text": [
            "------------------------------PRINT ALL AND TYPE-----------------------------------\n",
            "0        lebanese\n",
            "1        lebanese\n",
            "2        lebanese\n",
            "3        lebanese\n",
            "4        lebanese\n",
            "           ...   \n",
            "32074    lebanese\n",
            "32075      syrian\n",
            "32076    lebanese\n",
            "32077    lebanese\n",
            "32078    lebanese\n",
            "Name: Nationality of household, Length: 32079, dtype: object\n",
            "-------------------------------UNIQUE VALUES---------------------------------------\n",
            "['lebanese' nan 'ethiopian' 'syrian' 'other' 'iraqi' 'bangladesh'\n",
            " 'palestinian' 'sudanese' 'philippines']\n",
            "-------------------------NUMBER OF MISSING VALUES----------------------------------\n",
            "1770\n",
            "-------------------------PERCENT OF MISSING VALUES---------------------------------\n",
            "0.05517628354998597\n"
          ],
          "name": "stdout"
        }
      ]
    },
    {
      "cell_type": "markdown",
      "metadata": {
        "id": "kEzDL77fU0ly"
      },
      "source": [
        "####After changes"
      ]
    },
    {
      "cell_type": "code",
      "metadata": {
        "id": "cFSvjfj7U3fF",
        "colab": {
          "base_uri": "https://localhost:8080/"
        },
        "outputId": "651c6d65-bf7c-45de-ec73-6c0eaee4445a"
      },
      "source": [
        "inspect(\"Nationality of household\")"
      ],
      "execution_count": null,
      "outputs": [
        {
          "output_type": "stream",
          "text": [
            "------------------------------PRINT ALL AND TYPE-----------------------------------\n",
            "0        lebanese\n",
            "1        lebanese\n",
            "2        lebanese\n",
            "3        lebanese\n",
            "4        lebanese\n",
            "           ...   \n",
            "32074    lebanese\n",
            "32075      syrian\n",
            "32076    lebanese\n",
            "32077    lebanese\n",
            "32078    lebanese\n",
            "Name: Nationality of household, Length: 32079, dtype: object\n",
            "-------------------------------UNIQUE VALUES---------------------------------------\n",
            "['lebanese' nan 'ethiopian' 'syrian' 'other' 'iraqi' 'bangladesh'\n",
            " 'palestinian' 'sudanese' 'philippines']\n",
            "-------------------------NUMBER OF MISSING VALUES----------------------------------\n",
            "1770\n",
            "-------------------------PERCENT OF MISSING VALUES---------------------------------\n",
            "0.05517628354998597\n"
          ],
          "name": "stdout"
        }
      ]
    },
    {
      "cell_type": "code",
      "metadata": {
        "id": "hzyQSlVHRiSc",
        "colab": {
          "base_uri": "https://localhost:8080/"
        },
        "outputId": "3f776fc8-a56d-44e6-d130-bf57f71da66f"
      },
      "source": [
        "inspect(\"Other, please specify2\")\n",
        "#Written in arabic\n",
        "df[\"Other, please specify2\"] = df[\"Other, please specify2\"].str.strip()\n",
        "df[\"Other, please specify2\"] = toLowerCase(df, \"Other, please specify2\")\n",
        "replacement_bags_pairs = {\"lebanese\": set(['sin el fil', 'مزرعه', 'سن الفيل', 'المصيطبي', 'mousaytbe']),\n",
        "                          \"sri lankan\":set([\"سيرلنكا\", \"سيريلانكا\", \"sirilinka\", \"syrelinka\", 'serilanka', 'serlankap', 'srilankan', 'sirilanka', 'sirlanka', \"sri lanka\" ]),\n",
        "                          \"armenian\": set([\"ارمنية\", 'armani', 'ارمني', 'أرمني', 'ارمنب', 'armanian', 'arminia']),\n",
        "                          \"madagascar\": set([\"madaghashkar\", 'madagasikara', 'madagaskar']),\n",
        "                          \"egyptian\": set([\"egypt\", 'egypt', 'egyption', 'egypian', 'eygption', 'egypthian', 'egytian', 'egyptan', 'eghyptian', 'égyptienne', 'مصري', 'مصر']),\n",
        "                          \"jordanian\": set([\"jordan\", 'اردن']),\n",
        "                          \"nigerian\": set([\"nigeria\", 'nigirian', 'nigiria', 'نيجيريا']),\n",
        "                          \"moroccan\": set([\"مغربية\", 'مغربيhh']),\n",
        "                          \"pakistani\": set([\"pakestani\", 'باكستاني']),\n",
        "                          \"sierra leonean\": set([\"sierra leone\", 'sierra-leone', 'seralion']),\n",
        "                          \"sudanese\": set([\"soudan\", 'sudanian', 'sudan', 'swdani']),\n",
        "                          \"cameroonian\": set(['cameroon', 'cameron', 'camiron']),\n",
        "                          \"kuwaiti\": set(['كويت']),\n",
        "                          \"french\": set(['french', 'فرنسي']),\n",
        "                          \"bangladeshi\": set(['bangali', 'bangladich']),\n",
        "                          \"turkish\": set(['turkish00', 'tukish']),\n",
        "                          \"greek\": set(['يونانية', 'greece']),\n",
        "                          \"brazilian\": set(['brazil', 'brazilian']),\n",
        "                          \"ethiopian\": set(['ethupia', 'utopia']),\n",
        "                          \"thai\": set(['tailend', 'thaïlandaise']),\n",
        "                          \"palestinian\": set(['palestanian']),\n",
        "                          \"iranian\": set(['irani']),\n",
        "                          \"kenyan\": set(['kenya', 'republic of kenya']),\n",
        "                          \"senegalese\": set(['sinegal']),\n",
        "                          \"belgian\": set(['belgium', 'republic of kenya']),\n",
        "                          \"somali\": set(['soumal']),\n",
        "                          \"british\": set(['uk', 'english']),\n",
        "                          \"indian\": set(['hindi']),\n",
        "                          }\n",
        "\n",
        "for replacement in replacement_bags_pairs.keys():\n",
        "  wordBag = replacement_bags_pairs[replacement]\n",
        "  df[\"Other, please specify2\"] = replaceWordSet(df, \"Other, please specify2\", wordBag, replacement)\n",
        "\n",
        "df[\"Other, please specify2\"] = df[\"Other, please specify2\"].replace('na', np.nan)\n",
        "df[\"Other, please specify2\"] = df[\"Other, please specify2\"].replace('yamanr', \"yemeni\")\n",
        "\n",
        "  \n",
        "#Sudan vs sudanese\n",
        "#Different spelling: sirilinka/serilanka/serlankap/Sirilanka"
      ],
      "execution_count": null,
      "outputs": [
        {
          "output_type": "stream",
          "text": [
            "------------------------------PRINT ALL AND TYPE-----------------------------------\n",
            "0        NaN\n",
            "1        NaN\n",
            "2        NaN\n",
            "3        NaN\n",
            "4        NaN\n",
            "        ... \n",
            "32074    NaN\n",
            "32075    NaN\n",
            "32076    NaN\n",
            "32077    NaN\n",
            "32078    NaN\n",
            "Name: Other, please specify2, Length: 32079, dtype: object\n",
            "-------------------------------UNIQUE VALUES---------------------------------------\n",
            "[nan 'sri lankan' 'finland' 'egyptian' 'french' 'chinese' 'italian'\n",
            " 'japanese' 'iranian' 'algerian' 'jordanian' 'american' 'swiss' 'greek'\n",
            " 'cameroonian' 'malagasy' 'kenyan' 'nigerian' 'armenian' 'arab'\n",
            " 'madagascar' 'turkish' 'sudanese' 'bolimia' 'kuwaiti' 'thai'\n",
            " 'sierra leonean' 'oganda' 'senegalese' 'ethiopian' 'moroccan'\n",
            " 'bangladeshi' 'lebanese' \"côte d'ivoire\" 'canada' 'british' 'syrian'\n",
            " 'belgian' 'australian' 'german' 'spanish' 'slovako' 'pakistani' 'georgia'\n",
            " 'romanian' 'indian' 'russian' 'venezuella' 'taiwan' 'philipines'\n",
            " 'kurdish' 'brazilian' 'canadian' 'ghana' 'polish' 'danish' 'ukraine'\n",
            " 'netherlands' 'yemeni' 'they have no nationality' 'palestinian' '0'\n",
            " 'قيد الدرس' 'somali' 'جنسية قيد الدرس']\n",
            "-------------------------NUMBER OF MISSING VALUES----------------------------------\n",
            "31471\n",
            "-------------------------PERCENT OF MISSING VALUES---------------------------------\n",
            "0.981046790735372\n"
          ],
          "name": "stdout"
        }
      ]
    },
    {
      "cell_type": "markdown",
      "metadata": {
        "id": "yASD2BlmU8Da"
      },
      "source": [
        "####After changes"
      ]
    },
    {
      "cell_type": "code",
      "metadata": {
        "id": "2TmViGCoU9dW",
        "colab": {
          "base_uri": "https://localhost:8080/"
        },
        "outputId": "d0434e7a-82a3-42b0-e2c3-dc48f95c13e7"
      },
      "source": [
        "inspect(\"Other, please specify2\")"
      ],
      "execution_count": null,
      "outputs": [
        {
          "output_type": "stream",
          "text": [
            "------------------------------PRINT ALL AND TYPE-----------------------------------\n",
            "0        NaN\n",
            "1        NaN\n",
            "2        NaN\n",
            "3        NaN\n",
            "4        NaN\n",
            "        ... \n",
            "32074    NaN\n",
            "32075    NaN\n",
            "32076    NaN\n",
            "32077    NaN\n",
            "32078    NaN\n",
            "Name: Other, please specify2, Length: 32079, dtype: object\n",
            "-------------------------------UNIQUE VALUES---------------------------------------\n",
            "[nan 'sri lankan' 'finland' 'egyptian' 'french' 'chinese' 'italian'\n",
            " 'japanese' 'iranian' 'algerian' 'jordanian' 'american' 'swiss' 'greek'\n",
            " 'cameroonian' 'malagasy' 'kenyan' 'nigerian' 'armenian' 'arab'\n",
            " 'madagascar' 'turkish' 'sudanese' 'bolimia' 'kuwaiti' 'thai'\n",
            " 'sierra leonean' 'oganda' 'senegalese' 'ethiopian' 'moroccan'\n",
            " 'bangladeshi' 'lebanese' \"côte d'ivoire\" 'canada' 'british' 'syrian'\n",
            " 'belgian' 'australian' 'german' 'spanish' 'slovako' 'pakistani' 'georgia'\n",
            " 'romanian' 'indian' 'russian' 'venezuella' 'taiwan' 'philipines'\n",
            " 'kurdish' 'brazilian' 'canadian' 'ghana' 'polish' 'danish' 'ukraine'\n",
            " 'netherlands' 'yemeni' 'they have no nationality' 'palestinian' '0'\n",
            " 'قيد الدرس' 'somali' 'جنسية قيد الدرس']\n",
            "-------------------------NUMBER OF MISSING VALUES----------------------------------\n",
            "31471\n",
            "-------------------------PERCENT OF MISSING VALUES---------------------------------\n",
            "0.981046790735372\n"
          ],
          "name": "stdout"
        }
      ]
    },
    {
      "cell_type": "markdown",
      "metadata": {
        "id": "ERzTc0xuSQdL"
      },
      "source": [
        "## Variable 15: Total number of members living now under the same roof (INCLUDING Head of Household)\t"
      ]
    },
    {
      "cell_type": "code",
      "metadata": {
        "id": "cq1_gyE9SF-j",
        "colab": {
          "base_uri": "https://localhost:8080/",
          "height": 642
        },
        "outputId": "9ba167c7-1f3e-4568-d90a-b29bfb8765a6"
      },
      "source": [
        "inspect(\"Total number of members living now under the same roof (INCLUDING Head of Household)\")"
      ],
      "execution_count": null,
      "outputs": [
        {
          "output_type": "stream",
          "text": [
            "------------------------------PRINT ALL AND TYPE-----------------------------------\n",
            "0        3.0\n",
            "1        1.0\n",
            "2        2.0\n",
            "3        5.0\n",
            "4        4.0\n",
            "        ... \n",
            "32074    5.0\n",
            "32075    4.0\n",
            "32076    3.0\n",
            "32077    3.0\n",
            "32078    5.0\n",
            "Name: Total number of members living now under the same roof (INCLUDING Head of Household), Length: 32079, dtype: float64\n",
            "-------------------------------RANGE OF VALUES---------------------------------------\n",
            "MIN 0.0\n",
            "MAX 213.0\n",
            "-------------------------NUMBER OF MISSING VALUES----------------------------------\n",
            "73\n",
            "-------------------------PERCENT OF MISSING VALUES---------------------------------\n",
            "0.0022756320334175006\n",
            "-------------------------DISTRIBUTION OF VALUES---------------------------------\n"
          ],
          "name": "stdout"
        },
        {
          "output_type": "display_data",
          "data": {
            "image/png": "[encoded data removed]",
            "text/plain": [
              "<Figure size 432x288 with 1 Axes>"
            ]
          },
          "metadata": {
            "tags": [],
            "needs_background": "light"
          }
        }
      ]
    },
    {
      "cell_type": "markdown",
      "metadata": {
        "id": "VwvndCuuSf1_"
      },
      "source": [
        "## Variable 16: Total number of members over age 60                                                                              "
      ]
    },
    {
      "cell_type": "code",
      "metadata": {
        "id": "88UE8kcwSKg3",
        "colab": {
          "base_uri": "https://localhost:8080/",
          "height": 642
        },
        "outputId": "1fa291a9-8026-4961-8602-d3608643b9ce"
      },
      "source": [
        "inspect(\"Total number of members over age 60\")"
      ],
      "execution_count": null,
      "outputs": [
        {
          "output_type": "stream",
          "text": [
            "------------------------------PRINT ALL AND TYPE-----------------------------------\n",
            "0        2.0\n",
            "1        0.0\n",
            "2        1.0\n",
            "3        2.0\n",
            "4        1.0\n",
            "        ... \n",
            "32074    1.0\n",
            "32075    0.0\n",
            "32076    2.0\n",
            "32077    2.0\n",
            "32078    0.0\n",
            "Name: Total number of members over age 60, Length: 32079, dtype: float64\n",
            "-------------------------------RANGE OF VALUES---------------------------------------\n",
            "MIN 0.0\n",
            "MAX 51.0\n",
            "-------------------------NUMBER OF MISSING VALUES----------------------------------\n",
            "1684\n",
            "-------------------------PERCENT OF MISSING VALUES---------------------------------\n",
            "0.052495401976370835\n",
            "-------------------------DISTRIBUTION OF VALUES---------------------------------\n"
          ],
          "name": "stdout"
        },
        {
          "output_type": "display_data",
          "data": {
            "image/png": "[encoded data removed]",
            "text/plain": [
              "<Figure size 432x288 with 1 Axes>"
            ]
          },
          "metadata": {
            "tags": [],
            "needs_background": "light"
          }
        }
      ]
    },
    {
      "cell_type": "markdown",
      "metadata": {
        "id": "-5LjxRRySB0H"
      },
      "source": [
        "## Variable 17: Total number of members between age 18 to 60 "
      ]
    },
    {
      "cell_type": "code",
      "metadata": {
        "id": "78Sxrip7SN4R",
        "colab": {
          "base_uri": "https://localhost:8080/",
          "height": 659
        },
        "outputId": "335b8fed-9434-4d22-a17e-d13c2341d385"
      },
      "source": [
        "inspect(\"Total number of members between age 18 to 60\")"
      ],
      "execution_count": null,
      "outputs": [
        {
          "output_type": "stream",
          "text": [
            "------------------------------PRINT ALL AND TYPE-----------------------------------\n",
            "0        1.0\n",
            "1        1.0\n",
            "2        1.0\n",
            "3        3.0\n",
            "4        2.0\n",
            "        ... \n",
            "32074    2.0\n",
            "32075    2.0\n",
            "32076    1.0\n",
            "32077    1.0\n",
            "32078    3.0\n",
            "Name: Total number of members between age 18 to 60, Length: 32079, dtype: float64\n",
            "-------------------------------RANGE OF VALUES---------------------------------------\n",
            "MIN 0.0\n",
            "MAX 54.0\n",
            "-------------------------NUMBER OF MISSING VALUES----------------------------------\n",
            "1681\n",
            "-------------------------PERCENT OF MISSING VALUES---------------------------------\n",
            "0.05240188285170984\n",
            "-------------------------DISTRIBUTION OF VALUES---------------------------------\n"
          ],
          "name": "stdout"
        },
        {
          "output_type": "display_data",
          "data": {
            "image/png": "[encoded data removed]",
            "text/plain": [
              "<Figure size 432x288 with 1 Axes>"
            ]
          },
          "metadata": {
            "tags": [],
            "needs_background": "light"
          }
        }
      ]
    },
    {
      "cell_type": "markdown",
      "metadata": {
        "id": "2UhuN3TpDPfZ"
      },
      "source": [
        "## Variable 18: Total number of members less than 18      "
      ]
    },
    {
      "cell_type": "code",
      "metadata": {
        "id": "ZfpH9DroSUkj",
        "colab": {
          "base_uri": "https://localhost:8080/",
          "height": 659
        },
        "outputId": "0a15eef6-cbc9-4e41-fcfd-ae7db6aae731"
      },
      "source": [
        "inspect(\"Total number of members less than 18\")"
      ],
      "execution_count": null,
      "outputs": [
        {
          "output_type": "stream",
          "text": [
            "------------------------------PRINT ALL AND TYPE-----------------------------------\n",
            "0        0.0\n",
            "1        0.0\n",
            "2        0.0\n",
            "3        0.0\n",
            "4        1.0\n",
            "        ... \n",
            "32074    2.0\n",
            "32075    1.0\n",
            "32076    0.0\n",
            "32077    0.0\n",
            "32078    2.0\n",
            "Name: Total number of members less than 18, Length: 32079, dtype: float64\n",
            "-------------------------------RANGE OF VALUES---------------------------------------\n",
            "MIN 0.0\n",
            "MAX 31.0\n",
            "-------------------------NUMBER OF MISSING VALUES----------------------------------\n",
            "1702\n",
            "-------------------------PERCENT OF MISSING VALUES---------------------------------\n",
            "0.0530565167243368\n",
            "-------------------------DISTRIBUTION OF VALUES---------------------------------\n"
          ],
          "name": "stdout"
        },
        {
          "output_type": "display_data",
          "data": {
            "image/png": "[encoded data removed]",
            "text/plain": [
              "<Figure size 432x288 with 1 Axes>"
            ]
          },
          "metadata": {
            "tags": [],
            "needs_background": "light"
          }
        }
      ]
    },
    {
      "cell_type": "markdown",
      "metadata": {
        "id": "gIRYBqQyDaEE"
      },
      "source": [
        "## Variable 19: added_members"
      ]
    },
    {
      "cell_type": "code",
      "metadata": {
        "id": "6Ir4NfreSX2b",
        "colab": {
          "base_uri": "https://localhost:8080/",
          "height": 660
        },
        "outputId": "514de846-7dd4-407f-8801-6ecb093f7f2e"
      },
      "source": [
        "inspect(\"added_members\")"
      ],
      "execution_count": null,
      "outputs": [
        {
          "output_type": "stream",
          "text": [
            "------------------------------PRINT ALL AND TYPE-----------------------------------\n",
            "0        NaN\n",
            "1        NaN\n",
            "2        NaN\n",
            "3        NaN\n",
            "4        NaN\n",
            "        ... \n",
            "32074    5.0\n",
            "32075    4.0\n",
            "32076    3.0\n",
            "32077    3.0\n",
            "32078    5.0\n",
            "Name: added_members, Length: 32079, dtype: float64\n",
            "-------------------------------RANGE OF VALUES---------------------------------------\n",
            "MIN 0.0\n",
            "MAX 28.0\n",
            "-------------------------NUMBER OF MISSING VALUES----------------------------------\n",
            "12314\n",
            "-------------------------PERCENT OF MISSING VALUES---------------------------------\n",
            "0.38386483369182334\n",
            "-------------------------DISTRIBUTION OF VALUES---------------------------------\n"
          ],
          "name": "stdout"
        },
        {
          "output_type": "display_data",
          "data": {
            "image/png": "[encoded data removed]",
            "text/plain": [
              "<Figure size 432x288 with 1 Axes>"
            ]
          },
          "metadata": {
            "tags": [],
            "needs_background": "light"
          }
        }
      ]
    },
    {
      "cell_type": "markdown",
      "metadata": {
        "id": "tSa1k8G8S21D"
      },
      "source": [
        "## Variable 20: Are any of your family members pregnant or lactating?                                                              "
      ]
    },
    {
      "cell_type": "code",
      "metadata": {
        "id": "LzgAm9tKTi6Z",
        "colab": {
          "base_uri": "https://localhost:8080/"
        },
        "outputId": "34dc19b0-187e-417b-b722-18c66493d31e"
      },
      "source": [
        "inspect(\"Are any of your family members pregnant or lactating?\")\n",
        "df[\"Are any of your family members pregnant or lactating?\"] = toLowerCase(df, \"Are any of your family members pregnant or lactating?\")"
      ],
      "execution_count": null,
      "outputs": [
        {
          "output_type": "stream",
          "text": [
            "------------------------------PRINT ALL AND TYPE-----------------------------------\n",
            "0        no\n",
            "1        no\n",
            "2        no\n",
            "3        no\n",
            "4        no\n",
            "         ..\n",
            "32074    no\n",
            "32075    no\n",
            "32076    no\n",
            "32077    no\n",
            "32078    no\n",
            "Name: Are any of your family members pregnant or lactating?, Length: 32079, dtype: object\n",
            "-------------------------------UNIQUE VALUES---------------------------------------\n",
            "['no' nan 'yes' 'refuse_to_answer' 'Yes']\n",
            "-------------------------NUMBER OF MISSING VALUES----------------------------------\n",
            "1672\n",
            "-------------------------PERCENT OF MISSING VALUES---------------------------------\n",
            "0.05212132547772686\n"
          ],
          "name": "stdout"
        }
      ]
    },
    {
      "cell_type": "markdown",
      "metadata": {
        "id": "8GAERATpVBro"
      },
      "source": [
        "####After changes"
      ]
    },
    {
      "cell_type": "code",
      "metadata": {
        "id": "joKXAG1fVC4o",
        "colab": {
          "base_uri": "https://localhost:8080/"
        },
        "outputId": "5433dd7b-db05-4570-ddc1-c38211b8514a"
      },
      "source": [
        "inspect(\"Are any of your family members pregnant or lactating?\")"
      ],
      "execution_count": null,
      "outputs": [
        {
          "output_type": "stream",
          "text": [
            "------------------------------PRINT ALL AND TYPE-----------------------------------\n",
            "0        no\n",
            "1        no\n",
            "2        no\n",
            "3        no\n",
            "4        no\n",
            "         ..\n",
            "32074    no\n",
            "32075    no\n",
            "32076    no\n",
            "32077    no\n",
            "32078    no\n",
            "Name: Are any of your family members pregnant or lactating?, Length: 32079, dtype: object\n",
            "-------------------------------UNIQUE VALUES---------------------------------------\n",
            "['no' nan 'yes' 'refuse_to_answer']\n",
            "-------------------------NUMBER OF MISSING VALUES----------------------------------\n",
            "1672\n",
            "-------------------------PERCENT OF MISSING VALUES---------------------------------\n",
            "0.05212132547772686\n"
          ],
          "name": "stdout"
        }
      ]
    },
    {
      "cell_type": "markdown",
      "metadata": {
        "id": "YRCZGBIYS4Xq"
      },
      "source": [
        "## Variable 21: Number of pregnant or lactating women"
      ]
    },
    {
      "cell_type": "code",
      "metadata": {
        "id": "mUlQe_hnTOTy",
        "colab": {
          "base_uri": "https://localhost:8080/",
          "height": 642
        },
        "outputId": "4c99728f-9924-423f-ee83-b48f03fc5d7a"
      },
      "source": [
        "inspect(\"Number of pregnant or lactating women\")"
      ],
      "execution_count": null,
      "outputs": [
        {
          "output_type": "stream",
          "text": [
            "------------------------------PRINT ALL AND TYPE-----------------------------------\n",
            "0       NaN\n",
            "1       NaN\n",
            "2       NaN\n",
            "3       NaN\n",
            "4       NaN\n",
            "         ..\n",
            "32074   NaN\n",
            "32075   NaN\n",
            "32076   NaN\n",
            "32077   NaN\n",
            "32078   NaN\n",
            "Name: Number of pregnant or lactating women, Length: 32079, dtype: float64\n",
            "-------------------------------RANGE OF VALUES---------------------------------------\n",
            "MIN 0.0\n",
            "MAX 9.0\n",
            "-------------------------NUMBER OF MISSING VALUES----------------------------------\n",
            "30801\n",
            "-------------------------PERCENT OF MISSING VALUES---------------------------------\n",
            "0.9601608528944169\n",
            "-------------------------DISTRIBUTION OF VALUES---------------------------------\n"
          ],
          "name": "stdout"
        },
        {
          "output_type": "display_data",
          "data": {
            "image/png": "[encoded data removed]",
            "text/plain": [
              "<Figure size 432x288 with 1 Axes>"
            ]
          },
          "metadata": {
            "tags": [],
            "needs_background": "light"
          }
        }
      ]
    },
    {
      "cell_type": "markdown",
      "metadata": {
        "id": "RoCOn0f3S5ps"
      },
      "source": [
        "##Variable 23, 24: Does any of them need woman and child health? (Gynecological support, breastfeeding support, vaccination, etc.) | How many members"
      ]
    },
    {
      "cell_type": "code",
      "metadata": {
        "id": "ZpnLpmLeTy9j",
        "colab": {
          "base_uri": "https://localhost:8080/"
        },
        "outputId": "5f05f264-ceeb-4ee0-85d2-43f5ce0bbc83"
      },
      "source": [
        "inspect(\"Does any of them need woman and child health? (Gynecological support, breastfeeding support, vaccination, etc.)\")\n",
        "#Make lower\n",
        "df[\"Does any of them need woman and child health? (Gynecological support, breastfeeding support, vaccination, etc.)\"] = toLowerCase(df, \"Does any of them need woman and child health? (Gynecological support, breastfeeding support, vaccination, etc.)\")\n"
      ],
      "execution_count": null,
      "outputs": [
        {
          "output_type": "stream",
          "text": [
            "------------------------------PRINT ALL AND TYPE-----------------------------------\n",
            "0        NaN\n",
            "1        NaN\n",
            "2        NaN\n",
            "3        NaN\n",
            "4        NaN\n",
            "        ... \n",
            "32074    NaN\n",
            "32075    NaN\n",
            "32076    NaN\n",
            "32077    NaN\n",
            "32078    NaN\n",
            "Name: Does any of them need woman and child health? (Gynecological support, breastfeeding support, vaccination, etc.), Length: 32079, dtype: object\n",
            "-------------------------------UNIQUE VALUES---------------------------------------\n",
            "[nan 'yes' 'no' 'No']\n",
            "-------------------------NUMBER OF MISSING VALUES----------------------------------\n",
            "30873\n",
            "-------------------------PERCENT OF MISSING VALUES---------------------------------\n",
            "0.9624053118862808\n"
          ],
          "name": "stdout"
        }
      ]
    },
    {
      "cell_type": "markdown",
      "metadata": {
        "id": "7rM5-KESVFCM"
      },
      "source": [
        "####After changes"
      ]
    },
    {
      "cell_type": "code",
      "metadata": {
        "id": "DB3kvwwCVGDE",
        "colab": {
          "base_uri": "https://localhost:8080/"
        },
        "outputId": "a81a7b37-931c-460c-e1f4-789f8d1fb198"
      },
      "source": [
        "inspect(\"Does any of them need woman and child health? (Gynecological support, breastfeeding support, vaccination, etc.)\")\r\n"
      ],
      "execution_count": null,
      "outputs": [
        {
          "output_type": "stream",
          "text": [
            "------------------------------PRINT ALL AND TYPE-----------------------------------\n",
            "0        NaN\n",
            "1        NaN\n",
            "2        NaN\n",
            "3        NaN\n",
            "4        NaN\n",
            "        ... \n",
            "32074    NaN\n",
            "32075    NaN\n",
            "32076    NaN\n",
            "32077    NaN\n",
            "32078    NaN\n",
            "Name: Does any of them need woman and child health? (Gynecological support, breastfeeding support, vaccination, etc.), Length: 32079, dtype: object\n",
            "-------------------------------UNIQUE VALUES---------------------------------------\n",
            "[nan 'yes' 'no']\n",
            "-------------------------NUMBER OF MISSING VALUES----------------------------------\n",
            "30873\n",
            "-------------------------PERCENT OF MISSING VALUES---------------------------------\n",
            "0.9624053118862808\n"
          ],
          "name": "stdout"
        }
      ]
    },
    {
      "cell_type": "code",
      "metadata": {
        "id": "PBYnU5bRT3fa",
        "colab": {
          "base_uri": "https://localhost:8080/",
          "height": 642
        },
        "outputId": "6296fc1d-6895-48cc-811b-1babf1588f2f"
      },
      "source": [
        "inspect(\"How many members\")"
      ],
      "execution_count": null,
      "outputs": [
        {
          "output_type": "stream",
          "text": [
            "------------------------------PRINT ALL AND TYPE-----------------------------------\n",
            "0       NaN\n",
            "1       NaN\n",
            "2       NaN\n",
            "3       NaN\n",
            "4       NaN\n",
            "         ..\n",
            "32074   NaN\n",
            "32075   NaN\n",
            "32076   NaN\n",
            "32077   NaN\n",
            "32078   NaN\n",
            "Name: How many members, Length: 32079, dtype: float64\n",
            "-------------------------------RANGE OF VALUES---------------------------------------\n",
            "MIN 0.0\n",
            "MAX 7.0\n",
            "-------------------------NUMBER OF MISSING VALUES----------------------------------\n",
            "31650\n",
            "-------------------------PERCENT OF MISSING VALUES---------------------------------\n",
            "0.986626765173478\n",
            "-------------------------DISTRIBUTION OF VALUES---------------------------------\n"
          ],
          "name": "stdout"
        },
        {
          "output_type": "display_data",
          "data": {
            "image/png": "[encoded data removed]",
            "text/plain": [
              "<Figure size 432x288 with 1 Axes>"
            ]
          },
          "metadata": {
            "tags": [],
            "needs_background": "light"
          }
        }
      ]
    },
    {
      "cell_type": "markdown",
      "metadata": {
        "id": "yHhm7lHDS8-i"
      },
      "source": [
        "## Variable 25: Are any of the children in the household separated or unaccompanied?"
      ]
    },
    {
      "cell_type": "code",
      "metadata": {
        "id": "LKnjy_9_T7Cv",
        "colab": {
          "base_uri": "https://localhost:8080/"
        },
        "outputId": "c907144e-8da3-45ba-f679-1f9051edf7f6"
      },
      "source": [
        "inspect(\"Are any of the children in the household separated or unaccompanied?\")\n",
        "#Make lower)\n",
        "df[\"Are any of the children in the household separated or unaccompanied?\"] = toLowerCase(df, \"Are any of the children in the household separated or unaccompanied?\")\n"
      ],
      "execution_count": null,
      "outputs": [
        {
          "output_type": "stream",
          "text": [
            "------------------------------PRINT ALL AND TYPE-----------------------------------\n",
            "0        NaN\n",
            "1        NaN\n",
            "2        NaN\n",
            "3        NaN\n",
            "4         no\n",
            "        ... \n",
            "32074     no\n",
            "32075     no\n",
            "32076    NaN\n",
            "32077    NaN\n",
            "32078     no\n",
            "Name: Are any of the children in the household separated or unaccompanied?, Length: 32079, dtype: object\n",
            "-------------------------------UNIQUE VALUES---------------------------------------\n",
            "[nan 'no' 'yes' 'refuse_to_answer' 'No']\n",
            "-------------------------NUMBER OF MISSING VALUES----------------------------------\n",
            "13794\n",
            "-------------------------PERCENT OF MISSING VALUES---------------------------------\n",
            "0.4300009351912466\n"
          ],
          "name": "stdout"
        }
      ]
    },
    {
      "cell_type": "markdown",
      "metadata": {
        "id": "bepfg9CFVIsT"
      },
      "source": [
        "####After changes"
      ]
    },
    {
      "cell_type": "code",
      "metadata": {
        "id": "VzudCTisVJ8P",
        "colab": {
          "base_uri": "https://localhost:8080/"
        },
        "outputId": "ed2ad4e7-7aa2-4c8a-c1af-b77daa681757"
      },
      "source": [
        "inspect(\"Are any of the children in the household separated or unaccompanied?\")"
      ],
      "execution_count": null,
      "outputs": [
        {
          "output_type": "stream",
          "text": [
            "------------------------------PRINT ALL AND TYPE-----------------------------------\n",
            "0        NaN\n",
            "1        NaN\n",
            "2        NaN\n",
            "3        NaN\n",
            "4         no\n",
            "        ... \n",
            "32074     no\n",
            "32075     no\n",
            "32076    NaN\n",
            "32077    NaN\n",
            "32078     no\n",
            "Name: Are any of the children in the household separated or unaccompanied?, Length: 32079, dtype: object\n",
            "-------------------------------UNIQUE VALUES---------------------------------------\n",
            "[nan 'no' 'yes' 'refuse_to_answer']\n",
            "-------------------------NUMBER OF MISSING VALUES----------------------------------\n",
            "13794\n",
            "-------------------------PERCENT OF MISSING VALUES---------------------------------\n",
            "0.4300009351912466\n"
          ],
          "name": "stdout"
        }
      ]
    },
    {
      "cell_type": "markdown",
      "metadata": {
        "id": "guimnQavTCfn"
      },
      "source": [
        "## Variable 26: Number of separated minors (related to the family, i.e. nephew)"
      ]
    },
    {
      "cell_type": "code",
      "metadata": {
        "id": "rqThiUFmT_HO",
        "colab": {
          "base_uri": "https://localhost:8080/",
          "height": 659
        },
        "outputId": "7c4001e2-ba68-41d0-b7d1-29fce47a0ab8"
      },
      "source": [
        "inspect(\"Number of separated minors (related to the family, i.e. nephew)\")"
      ],
      "execution_count": null,
      "outputs": [
        {
          "output_type": "stream",
          "text": [
            "------------------------------PRINT ALL AND TYPE-----------------------------------\n",
            "0       NaN\n",
            "1       NaN\n",
            "2       NaN\n",
            "3       NaN\n",
            "4       NaN\n",
            "         ..\n",
            "32074   NaN\n",
            "32075   NaN\n",
            "32076   NaN\n",
            "32077   NaN\n",
            "32078   NaN\n",
            "Name: Number of separated minors (related to the family, i.e. nephew), Length: 32079, dtype: float64\n",
            "-------------------------------RANGE OF VALUES---------------------------------------\n",
            "MIN 0.0\n",
            "MAX 16.0\n",
            "-------------------------NUMBER OF MISSING VALUES----------------------------------\n",
            "31722\n",
            "-------------------------PERCENT OF MISSING VALUES---------------------------------\n",
            "0.9888712241653418\n",
            "-------------------------DISTRIBUTION OF VALUES---------------------------------\n"
          ],
          "name": "stdout"
        },
        {
          "output_type": "display_data",
          "data": {
            "image/png": "[encoded data removed]",
            "text/plain": [
              "<Figure size 432x288 with 1 Axes>"
            ]
          },
          "metadata": {
            "tags": [],
            "needs_background": "light"
          }
        }
      ]
    },
    {
      "cell_type": "markdown",
      "metadata": {
        "id": "waIMjHc7TDyI"
      },
      "source": [
        "## Variable 27: Number of unaccompanied minors (not related, i.e. orphan)"
      ]
    },
    {
      "cell_type": "code",
      "metadata": {
        "id": "qiKowHq2UMRC",
        "colab": {
          "base_uri": "https://localhost:8080/",
          "height": 659
        },
        "outputId": "0d7c6f3f-cf16-4e30-edbd-787cd9896317"
      },
      "source": [
        "inspect(\"Number of unaccompanied minors (not related, i.e. orphan)\")"
      ],
      "execution_count": null,
      "outputs": [
        {
          "output_type": "stream",
          "text": [
            "------------------------------PRINT ALL AND TYPE-----------------------------------\n",
            "0       NaN\n",
            "1       NaN\n",
            "2       NaN\n",
            "3       NaN\n",
            "4       NaN\n",
            "         ..\n",
            "32074   NaN\n",
            "32075   NaN\n",
            "32076   NaN\n",
            "32077   NaN\n",
            "32078   NaN\n",
            "Name: Number of unaccompanied minors (not related, i.e. orphan), Length: 32079, dtype: float64\n",
            "-------------------------------RANGE OF VALUES---------------------------------------\n",
            "MIN 0.0\n",
            "MAX 6.0\n",
            "-------------------------NUMBER OF MISSING VALUES----------------------------------\n",
            "31723\n",
            "-------------------------PERCENT OF MISSING VALUES---------------------------------\n",
            "0.9889023972068954\n",
            "-------------------------DISTRIBUTION OF VALUES---------------------------------\n"
          ],
          "name": "stdout"
        },
        {
          "output_type": "display_data",
          "data": {
            "image/png": "[encoded data removed]",
            "text/plain": [
              "<Figure size 432x288 with 1 Axes>"
            ]
          },
          "metadata": {
            "tags": [],
            "needs_background": "light"
          }
        }
      ]
    },
    {
      "cell_type": "markdown",
      "metadata": {
        "id": "BRphn7ZmTFeE"
      },
      "source": [
        "## Variable 28: Does anyone have a chronic illness or critical medical condition? "
      ]
    },
    {
      "cell_type": "code",
      "metadata": {
        "id": "rNSJ2MQ_UOha",
        "colab": {
          "base_uri": "https://localhost:8080/"
        },
        "outputId": "397deda9-8cc4-4587-adbb-73bb3d1032c6"
      },
      "source": [
        "inspect(\"Does anyone have a chronic illness or critical medical condition?\")\n",
        "#Make lower\n",
        "df[\"Does anyone have a chronic illness or critical medical condition?\"] = toLowerCase(df, \"Does anyone have a chronic illness or critical medical condition?\")"
      ],
      "execution_count": null,
      "outputs": [
        {
          "output_type": "stream",
          "text": [
            "------------------------------PRINT ALL AND TYPE-----------------------------------\n",
            "0         no\n",
            "1        yes\n",
            "2         no\n",
            "3         no\n",
            "4        yes\n",
            "        ... \n",
            "32074    yes\n",
            "32075     no\n",
            "32076    yes\n",
            "32077    yes\n",
            "32078    yes\n",
            "Name: Does anyone have a chronic illness or critical medical condition?, Length: 32079, dtype: object\n",
            "-------------------------------UNIQUE VALUES---------------------------------------\n",
            "['no' 'yes' nan 'refuse_to_answer' 'No']\n",
            "-------------------------NUMBER OF MISSING VALUES----------------------------------\n",
            "1672\n",
            "-------------------------PERCENT OF MISSING VALUES---------------------------------\n",
            "0.05212132547772686\n"
          ],
          "name": "stdout"
        }
      ]
    },
    {
      "cell_type": "markdown",
      "metadata": {
        "id": "6nHaUAlAVMmx"
      },
      "source": [
        "####After changes"
      ]
    },
    {
      "cell_type": "code",
      "metadata": {
        "id": "kIhH8O2IVOb3",
        "colab": {
          "base_uri": "https://localhost:8080/"
        },
        "outputId": "39f090cc-1885-42ad-e2a2-f1fd7b280fe9"
      },
      "source": [
        "inspect(\"Does anyone have a chronic illness or critical medical condition?\")\r\n"
      ],
      "execution_count": null,
      "outputs": [
        {
          "output_type": "stream",
          "text": [
            "------------------------------PRINT ALL AND TYPE-----------------------------------\n",
            "0         no\n",
            "1        yes\n",
            "2         no\n",
            "3         no\n",
            "4        yes\n",
            "        ... \n",
            "32074    yes\n",
            "32075     no\n",
            "32076    yes\n",
            "32077    yes\n",
            "32078    yes\n",
            "Name: Does anyone have a chronic illness or critical medical condition?, Length: 32079, dtype: object\n",
            "-------------------------------UNIQUE VALUES---------------------------------------\n",
            "['no' 'yes' nan 'refuse_to_answer']\n",
            "-------------------------NUMBER OF MISSING VALUES----------------------------------\n",
            "1672\n",
            "-------------------------PERCENT OF MISSING VALUES---------------------------------\n",
            "0.05212132547772686\n"
          ],
          "name": "stdout"
        }
      ]
    },
    {
      "cell_type": "markdown",
      "metadata": {
        "id": "5GaDOrUyUVZ6"
      },
      "source": []
    },
    {
      "cell_type": "markdown",
      "metadata": {
        "id": "Z2HmHD5qUW66"
      },
      "source": [
        "## Variable 29: Number chronically ill people/with critical medical conditions"
      ]
    },
    {
      "cell_type": "code",
      "metadata": {
        "id": "94eNMi1cUgX4",
        "colab": {
          "base_uri": "https://localhost:8080/",
          "height": 659
        },
        "outputId": "0ce790dc-5b5b-4c7e-a67d-a22dded648ce"
      },
      "source": [
        "inspect(\"Number chronically ill people/with critical medical conditions\")"
      ],
      "execution_count": null,
      "outputs": [
        {
          "output_type": "stream",
          "text": [
            "------------------------------PRINT ALL AND TYPE-----------------------------------\n",
            "0        0.0\n",
            "1        1.0\n",
            "2        0.0\n",
            "3        0.0\n",
            "4        1.0\n",
            "        ... \n",
            "32074    1.0\n",
            "32075    0.0\n",
            "32076    1.0\n",
            "32077    2.0\n",
            "32078    1.0\n",
            "Name: Number chronically ill people/with critical medical conditions, Length: 32079, dtype: float64\n",
            "-------------------------------RANGE OF VALUES---------------------------------------\n",
            "MIN 0.0\n",
            "MAX 11111.0\n",
            "-------------------------NUMBER OF MISSING VALUES----------------------------------\n",
            "4470\n",
            "-------------------------PERCENT OF MISSING VALUES---------------------------------\n",
            "0.13934349574487984\n",
            "-------------------------DISTRIBUTION OF VALUES---------------------------------\n"
          ],
          "name": "stdout"
        },
        {
          "output_type": "display_data",
          "data": {
            "image/png": "[encoded data removed]",
            "text/plain": [
              "<Figure size 432x288 with 1 Axes>"
            ]
          },
          "metadata": {
            "tags": [],
            "needs_background": "light"
          }
        }
      ]
    },
    {
      "cell_type": "markdown",
      "metadata": {
        "id": "1vMxFjUoUYiV"
      },
      "source": [
        "## Variable 30: Is any member of your family identified with COVID-19 or experienced flu-like symptoms or have been in contact with a COVID-19 positive case in the previous 14 days?"
      ]
    },
    {
      "cell_type": "code",
      "metadata": {
        "id": "zDlRbqN9Ullb",
        "colab": {
          "base_uri": "https://localhost:8080/"
        },
        "outputId": "258aa54f-922e-424c-e87c-d042370fcc61"
      },
      "source": [
        "inspect(\"Is any member of your family identified with COVID-19 or experienced flu-like symptoms or have been in contact with a COVID-19 positive case in the previous 14 days?\")\n",
        "#Make lower\n",
        "df[\"Is any member of your family identified with COVID-19 or experienced flu-like symptoms or have been in contact with a COVID-19 positive case in the previous 14 days?\"] = toLowerCase(df, \"Is any member of your family identified with COVID-19 or experienced flu-like symptoms or have been in contact with a COVID-19 positive case in the previous 14 days?\")"
      ],
      "execution_count": null,
      "outputs": [
        {
          "output_type": "stream",
          "text": [
            "------------------------------PRINT ALL AND TYPE-----------------------------------\n",
            "0         no\n",
            "1         no\n",
            "2         no\n",
            "3         no\n",
            "4         no\n",
            "        ... \n",
            "32074     no\n",
            "32075     no\n",
            "32076    yes\n",
            "32077     no\n",
            "32078     no\n",
            "Name: Is any member of your family identified with COVID-19 or experienced flu-like symptoms or have been in contact with a COVID-19 positive case in the previous 14 days?, Length: 32079, dtype: object\n",
            "-------------------------------UNIQUE VALUES---------------------------------------\n",
            "['no' nan 'yes' 'No']\n",
            "-------------------------NUMBER OF MISSING VALUES----------------------------------\n",
            "2984\n",
            "-------------------------PERCENT OF MISSING VALUES---------------------------------\n",
            "0.09302035599613455\n"
          ],
          "name": "stdout"
        }
      ]
    },
    {
      "cell_type": "markdown",
      "metadata": {
        "id": "VvrrWK6nVP5F"
      },
      "source": [
        "####After changes"
      ]
    },
    {
      "cell_type": "code",
      "metadata": {
        "id": "_EcSLc3TVQ6j",
        "colab": {
          "base_uri": "https://localhost:8080/"
        },
        "outputId": "78c4a10c-47bd-4c27-cac6-0750aad88788"
      },
      "source": [
        "inspect(\"Is any member of your family identified with COVID-19 or experienced flu-like symptoms or have been in contact with a COVID-19 positive case in the previous 14 days?\")"
      ],
      "execution_count": null,
      "outputs": [
        {
          "output_type": "stream",
          "text": [
            "------------------------------PRINT ALL AND TYPE-----------------------------------\n",
            "0         no\n",
            "1         no\n",
            "2         no\n",
            "3         no\n",
            "4         no\n",
            "        ... \n",
            "32074     no\n",
            "32075     no\n",
            "32076    yes\n",
            "32077     no\n",
            "32078     no\n",
            "Name: Is any member of your family identified with COVID-19 or experienced flu-like symptoms or have been in contact with a COVID-19 positive case in the previous 14 days?, Length: 32079, dtype: object\n",
            "-------------------------------UNIQUE VALUES---------------------------------------\n",
            "['no' nan 'yes']\n",
            "-------------------------NUMBER OF MISSING VALUES----------------------------------\n",
            "2984\n",
            "-------------------------PERCENT OF MISSING VALUES---------------------------------\n",
            "0.09302035599613455\n"
          ],
          "name": "stdout"
        }
      ]
    },
    {
      "cell_type": "markdown",
      "metadata": {
        "id": "0EhDNx9IUZpe"
      },
      "source": [
        "## Variable 31: Does anyone have a physical or mental disability?"
      ]
    },
    {
      "cell_type": "code",
      "metadata": {
        "id": "LIyGMHV9Usiu",
        "colab": {
          "base_uri": "https://localhost:8080/"
        },
        "outputId": "7c8963cb-9074-4177-96fe-11540a3339e1"
      },
      "source": [
        "inspect(\"Does anyone have a physical or mental disability?\")\n",
        "#Make lower\n",
        "df[\"Does anyone have a physical or mental disability?\"] = toLowerCase(df, \"Does anyone have a physical or mental disability?\")"
      ],
      "execution_count": null,
      "outputs": [
        {
          "output_type": "stream",
          "text": [
            "------------------------------PRINT ALL AND TYPE-----------------------------------\n",
            "0         no\n",
            "1         no\n",
            "2         no\n",
            "3         no\n",
            "4        yes\n",
            "        ... \n",
            "32074     no\n",
            "32075     no\n",
            "32076     no\n",
            "32077     no\n",
            "32078     no\n",
            "Name: Does anyone have a physical or mental disability?, Length: 32079, dtype: object\n",
            "-------------------------------UNIQUE VALUES---------------------------------------\n",
            "['no' 'yes' nan 'refuse_to_answer' 'No']\n",
            "-------------------------NUMBER OF MISSING VALUES----------------------------------\n",
            "1674\n",
            "-------------------------PERCENT OF MISSING VALUES---------------------------------\n",
            "0.05218367156083419\n"
          ],
          "name": "stdout"
        }
      ]
    },
    {
      "cell_type": "markdown",
      "metadata": {
        "id": "iv8iDgnlVUNX"
      },
      "source": [
        "####After changes"
      ]
    },
    {
      "cell_type": "code",
      "metadata": {
        "id": "R265kPupVVLh",
        "colab": {
          "base_uri": "https://localhost:8080/"
        },
        "outputId": "5b615282-0ec5-46c0-cb10-9b0ec77ab724"
      },
      "source": [
        "inspect(\"Does anyone have a physical or mental disability?\")"
      ],
      "execution_count": null,
      "outputs": [
        {
          "output_type": "stream",
          "text": [
            "------------------------------PRINT ALL AND TYPE-----------------------------------\n",
            "0         no\n",
            "1         no\n",
            "2         no\n",
            "3         no\n",
            "4        yes\n",
            "        ... \n",
            "32074     no\n",
            "32075     no\n",
            "32076     no\n",
            "32077     no\n",
            "32078     no\n",
            "Name: Does anyone have a physical or mental disability?, Length: 32079, dtype: object\n",
            "-------------------------------UNIQUE VALUES---------------------------------------\n",
            "['no' 'yes' nan 'refuse_to_answer']\n",
            "-------------------------NUMBER OF MISSING VALUES----------------------------------\n",
            "1674\n",
            "-------------------------PERCENT OF MISSING VALUES---------------------------------\n",
            "0.05218367156083419\n"
          ],
          "name": "stdout"
        }
      ]
    },
    {
      "cell_type": "markdown",
      "metadata": {
        "id": "dyQ5N2UnUcjN"
      },
      "source": [
        "## Variable 32: Number with non-disaster related physical and permanent disability"
      ]
    },
    {
      "cell_type": "code",
      "metadata": {
        "id": "fn_H0dYIU1Wa",
        "colab": {
          "base_uri": "https://localhost:8080/",
          "height": 659
        },
        "outputId": "a2f47902-2083-4218-d826-8ccf34443500"
      },
      "source": [
        "inspect(\"Number with non-disaster related physical and permanent disability\")"
      ],
      "execution_count": null,
      "outputs": [
        {
          "output_type": "stream",
          "text": [
            "------------------------------PRINT ALL AND TYPE-----------------------------------\n",
            "0        0.0\n",
            "1        0.0\n",
            "2        0.0\n",
            "3        0.0\n",
            "4        2.0\n",
            "        ... \n",
            "32074    0.0\n",
            "32075    0.0\n",
            "32076    0.0\n",
            "32077    0.0\n",
            "32078    0.0\n",
            "Name: Number with non-disaster related physical and permanent disability, Length: 32079, dtype: float64\n",
            "-------------------------------RANGE OF VALUES---------------------------------------\n",
            "MIN 0.0\n",
            "MAX 13.0\n",
            "-------------------------NUMBER OF MISSING VALUES----------------------------------\n",
            "6670\n",
            "-------------------------PERCENT OF MISSING VALUES---------------------------------\n",
            "0.20792418716294148\n",
            "-------------------------DISTRIBUTION OF VALUES---------------------------------\n"
          ],
          "name": "stdout"
        },
        {
          "output_type": "display_data",
          "data": {
            "image/png": "[encoded data removed]",
            "text/plain": [
              "<Figure size 432x288 with 1 Axes>"
            ]
          },
          "metadata": {
            "tags": [],
            "needs_background": "light"
          }
        }
      ]
    },
    {
      "cell_type": "markdown",
      "metadata": {
        "id": "yYcI9T1AU6Vb"
      },
      "source": [
        "## Variable 33: Number with disaster related physical and permanent disability"
      ]
    },
    {
      "cell_type": "code",
      "metadata": {
        "id": "P6-PnC22U8-l",
        "colab": {
          "base_uri": "https://localhost:8080/",
          "height": 659
        },
        "outputId": "6eae7063-2a77-4b43-84db-fe7a8e28f95c"
      },
      "source": [
        "inspect(\"Number with disaster related physical and permanent disability\")\n",
        "# Negative values ?"
      ],
      "execution_count": null,
      "outputs": [
        {
          "output_type": "stream",
          "text": [
            "------------------------------PRINT ALL AND TYPE-----------------------------------\n",
            "0        0.0\n",
            "1        0.0\n",
            "2        0.0\n",
            "3        0.0\n",
            "4        0.0\n",
            "        ... \n",
            "32074    0.0\n",
            "32075    0.0\n",
            "32076    0.0\n",
            "32077    0.0\n",
            "32078    0.0\n",
            "Name: Number with disaster related physical and permanent disability, Length: 32079, dtype: float64\n",
            "-------------------------------RANGE OF VALUES---------------------------------------\n",
            "MIN -1.0\n",
            "MAX 24575.0\n",
            "-------------------------NUMBER OF MISSING VALUES----------------------------------\n",
            "6670\n",
            "-------------------------PERCENT OF MISSING VALUES---------------------------------\n",
            "0.20792418716294148\n",
            "-------------------------DISTRIBUTION OF VALUES---------------------------------\n"
          ],
          "name": "stdout"
        },
        {
          "output_type": "display_data",
          "data": {
            "image/png": "[encoded data removed]",
            "text/plain": [
              "<Figure size 432x288 with 1 Axes>"
            ]
          },
          "metadata": {
            "tags": [],
            "needs_background": "light"
          }
        }
      ]
    },
    {
      "cell_type": "markdown",
      "metadata": {
        "id": "GC7DWyWhVA-o"
      },
      "source": [
        "## Variable 34: Does any member of your family need immediate first aid support?"
      ]
    },
    {
      "cell_type": "code",
      "metadata": {
        "id": "J-Y1Kv-iVLIt",
        "colab": {
          "base_uri": "https://localhost:8080/"
        },
        "outputId": "34ea185c-d97f-4168-8720-d7f80c7f97e9"
      },
      "source": [
        "inspect(\"Does any member of your family need immediate first aid support?\")\n",
        "#Make lower\n",
        "df[\"Does any member of your family need immediate first aid support?\"] = toLowerCase(df, \"Does any member of your family need immediate first aid support?\")"
      ],
      "execution_count": null,
      "outputs": [
        {
          "output_type": "stream",
          "text": [
            "------------------------------PRINT ALL AND TYPE-----------------------------------\n",
            "0         no\n",
            "1         no\n",
            "2         no\n",
            "3         no\n",
            "4         no\n",
            "        ... \n",
            "32074    yes\n",
            "32075     no\n",
            "32076     no\n",
            "32077     no\n",
            "32078     no\n",
            "Name: Does any member of your family need immediate first aid support?, Length: 32079, dtype: object\n",
            "-------------------------------UNIQUE VALUES---------------------------------------\n",
            "['no' nan 'yes' 'No']\n",
            "-------------------------NUMBER OF MISSING VALUES----------------------------------\n",
            "2984\n",
            "-------------------------PERCENT OF MISSING VALUES---------------------------------\n",
            "0.09302035599613455\n"
          ],
          "name": "stdout"
        }
      ]
    },
    {
      "cell_type": "markdown",
      "metadata": {
        "id": "Do7QgymvVXuO"
      },
      "source": [
        "####After changes"
      ]
    },
    {
      "cell_type": "code",
      "metadata": {
        "id": "IXmRuwAhVY3z",
        "colab": {
          "base_uri": "https://localhost:8080/"
        },
        "outputId": "cd3b1a2b-82ab-4d47-e7d3-04a1dd42d31d"
      },
      "source": [
        "inspect(\"Does any member of your family need immediate first aid support?\")"
      ],
      "execution_count": null,
      "outputs": [
        {
          "output_type": "stream",
          "text": [
            "------------------------------PRINT ALL AND TYPE-----------------------------------\n",
            "0         no\n",
            "1         no\n",
            "2         no\n",
            "3         no\n",
            "4         no\n",
            "        ... \n",
            "32074    yes\n",
            "32075     no\n",
            "32076     no\n",
            "32077     no\n",
            "32078     no\n",
            "Name: Does any member of your family need immediate first aid support?, Length: 32079, dtype: object\n",
            "-------------------------------UNIQUE VALUES---------------------------------------\n",
            "['no' nan 'yes']\n",
            "-------------------------NUMBER OF MISSING VALUES----------------------------------\n",
            "2984\n",
            "-------------------------PERCENT OF MISSING VALUES---------------------------------\n",
            "0.09302035599613455\n"
          ],
          "name": "stdout"
        }
      ]
    },
    {
      "cell_type": "markdown",
      "metadata": {
        "id": "SisCU17BVDS2"
      },
      "source": [
        "## Variable 35, 36: Does any member of your family need chronic medications/healthcare? | How many members4"
      ]
    },
    {
      "cell_type": "code",
      "metadata": {
        "id": "zXJC58bzVbdg",
        "colab": {
          "base_uri": "https://localhost:8080/"
        },
        "outputId": "fcd083fe-3c1a-458c-9fae-3c4b248d9b2d"
      },
      "source": [
        "inspect(\"Does any member of your family need chronic medications/healthcare?\")"
      ],
      "execution_count": null,
      "outputs": [
        {
          "output_type": "stream",
          "text": [
            "------------------------------PRINT ALL AND TYPE-----------------------------------\n",
            "0        yes\n",
            "1        yes\n",
            "2         no\n",
            "3         no\n",
            "4         no\n",
            "        ... \n",
            "32074    yes\n",
            "32075     no\n",
            "32076    yes\n",
            "32077    yes\n",
            "32078    yes\n",
            "Name: Does any member of your family need chronic medications/healthcare?, Length: 32079, dtype: object\n",
            "-------------------------------UNIQUE VALUES---------------------------------------\n",
            "['yes' 'no' nan]\n",
            "-------------------------NUMBER OF MISSING VALUES----------------------------------\n",
            "2631\n",
            "-------------------------PERCENT OF MISSING VALUES---------------------------------\n",
            "0.08201627232769101\n"
          ],
          "name": "stdout"
        }
      ]
    },
    {
      "cell_type": "code",
      "metadata": {
        "id": "G0mxVHpaVgUU",
        "colab": {
          "base_uri": "https://localhost:8080/",
          "height": 659
        },
        "outputId": "754dd4b4-31c8-42f9-8386-fb52e6a8fc30"
      },
      "source": [
        "inspect(\"How many members4\")"
      ],
      "execution_count": null,
      "outputs": [
        {
          "output_type": "stream",
          "text": [
            "------------------------------PRINT ALL AND TYPE-----------------------------------\n",
            "0        NaN\n",
            "1        1.0\n",
            "2        NaN\n",
            "3        NaN\n",
            "4        NaN\n",
            "        ... \n",
            "32074    1.0\n",
            "32075    0.0\n",
            "32076    1.0\n",
            "32077    2.0\n",
            "32078    1.0\n",
            "Name: How many members4, Length: 32079, dtype: float64\n",
            "-------------------------------RANGE OF VALUES---------------------------------------\n",
            "MIN 0.0\n",
            "MAX 28.0\n",
            "-------------------------NUMBER OF MISSING VALUES----------------------------------\n",
            "7887\n",
            "-------------------------PERCENT OF MISSING VALUES---------------------------------\n",
            "0.24586177873375106\n",
            "-------------------------DISTRIBUTION OF VALUES---------------------------------\n"
          ],
          "name": "stdout"
        },
        {
          "output_type": "display_data",
          "data": {
            "image/png": "[encoded data removed]",
            "text/plain": [
              "<Figure size 432x288 with 1 Axes>"
            ]
          },
          "metadata": {
            "tags": [],
            "needs_background": "light"
          }
        }
      ]
    },
    {
      "cell_type": "markdown",
      "metadata": {
        "id": "meTOJZ_jVF2Q"
      },
      "source": [
        "## Variable 37: Do your family has access to healthcare or medication since the incident? | Why?"
      ]
    },
    {
      "cell_type": "code",
      "metadata": {
        "id": "AZNXp2hSVrdx",
        "colab": {
          "base_uri": "https://localhost:8080/"
        },
        "outputId": "e810268d-79a5-49d8-94a1-35f9cf3047be"
      },
      "source": [
        "inspect(\"Do your family has access to healthcare or medication since the incident?\")\n",
        "#Make lower\n",
        "df[\"Do your family has access to healthcare or medication since the incident?\"] = toLowerCase(df, \"Do your family has access to healthcare or medication since the incident?\")"
      ],
      "execution_count": null,
      "outputs": [
        {
          "output_type": "stream",
          "text": [
            "------------------------------PRINT ALL AND TYPE-----------------------------------\n",
            "0         yes\n",
            "1         yes\n",
            "2         yes\n",
            "3         yes\n",
            "4        none\n",
            "         ... \n",
            "32074     yes\n",
            "32075     yes\n",
            "32076     yes\n",
            "32077     yes\n",
            "32078    none\n",
            "Name: Do your family has access to healthcare or medication since the incident?, Length: 32079, dtype: object\n",
            "-------------------------------UNIQUE VALUES---------------------------------------\n",
            "['yes' 'none' 'partial' nan 'None']\n",
            "-------------------------NUMBER OF MISSING VALUES----------------------------------\n",
            "1672\n",
            "-------------------------PERCENT OF MISSING VALUES---------------------------------\n",
            "0.05212132547772686\n"
          ],
          "name": "stdout"
        }
      ]
    },
    {
      "cell_type": "markdown",
      "metadata": {
        "id": "lEJ5xYv5Vapm"
      },
      "source": [
        "####After changes"
      ]
    },
    {
      "cell_type": "code",
      "metadata": {
        "id": "BNH06zKYVbff",
        "colab": {
          "base_uri": "https://localhost:8080/"
        },
        "outputId": "f5c22493-1a28-4999-dfef-391cbd9b2527"
      },
      "source": [
        "inspect(\"Do your family has access to healthcare or medication since the incident?\")"
      ],
      "execution_count": null,
      "outputs": [
        {
          "output_type": "stream",
          "text": [
            "------------------------------PRINT ALL AND TYPE-----------------------------------\n",
            "0         yes\n",
            "1         yes\n",
            "2         yes\n",
            "3         yes\n",
            "4        none\n",
            "         ... \n",
            "32074     yes\n",
            "32075     yes\n",
            "32076     yes\n",
            "32077     yes\n",
            "32078    none\n",
            "Name: Do your family has access to healthcare or medication since the incident?, Length: 32079, dtype: object\n",
            "-------------------------------UNIQUE VALUES---------------------------------------\n",
            "['yes' 'none' 'partial' nan]\n",
            "-------------------------NUMBER OF MISSING VALUES----------------------------------\n",
            "1672\n",
            "-------------------------PERCENT OF MISSING VALUES---------------------------------\n",
            "0.05212132547772686\n"
          ],
          "name": "stdout"
        }
      ]
    },
    {
      "cell_type": "code",
      "metadata": {
        "id": "46gYhBxVVyTP",
        "colab": {
          "base_uri": "https://localhost:8080/"
        },
        "outputId": "f5d42609-cc35-46f4-e29f-cf28858a31a2"
      },
      "source": [
        "inspect(\"Why?\")\n",
        "# Since people can choose more than one option, its taking each combination of options as a different value"
      ],
      "execution_count": null,
      "outputs": [
        {
          "output_type": "stream",
          "text": [
            "------------------------------PRINT ALL AND TYPE-----------------------------------\n",
            "0                                NaN\n",
            "1                                NaN\n",
            "2                                NaN\n",
            "3                                NaN\n",
            "4        can't_afford_it_financially\n",
            "                    ...             \n",
            "32074                            NaN\n",
            "32075                            NaN\n",
            "32076                            NaN\n",
            "32077                            NaN\n",
            "32078    can't_afford_it_financially\n",
            "Name: Why?, Length: 32079, dtype: object\n",
            "-------------------------------UNIQUE VALUES---------------------------------------\n",
            "[nan \"can't_afford_it_financially\"\n",
            " \"can't_afford_it_financially,no/not_enough_healthcare_centers,denied_access_covid,no_transportation_available\"\n",
            " 'no/not_enough_healthcare_centers' 'family_doesnt_need_healthcare'\n",
            " \"can't_afford_it_financially,family_doesnt_need_healthcare\"\n",
            " \"can't_afford_it_financially,no/not_enough_healthcare_centers\"\n",
            " 'no_transportation_available' 'denied_access_explosion'\n",
            " \"can't_afford_it_financially,no_transportation_available\"\n",
            " 'no/not_enough_healthcare_centers,denied_access_covid'\n",
            " \"can't_afford_it_financially,denied_access_covid\" 'denied_access_covid'\n",
            " \"no/not_enough_healthcare_centers,can't_afford_it_financially\"\n",
            " \"can't_afford_it_financially,no/not_enough_healthcare_centers,no_transportation_available\"\n",
            " \"denied_access_explosion,can't_afford_it_financially\"\n",
            " \"no_transportation_available,can't_afford_it_financially\"\n",
            " \"can't_afford_it_financially,denied_access_explosion\"\n",
            " \"can't_afford_it_financially,no_transportation_available,no/not_enough_healthcare_centers\"\n",
            " \"family_doesnt_need_healthcare,can't_afford_it_financially\"\n",
            " 'no/not_enough_healthcare_centers,no_transportation_available'\n",
            " \"can't_afford_it_financially,no/not_enough_healthcare_centers,no_transportation_available,denied_access_explosion,family_doesnt_need_healthcare\"\n",
            " \"can't_afford_it_financially,no/not_enough_healthcare_centers,family_doesnt_need_healthcare\"\n",
            " \"denied_access_covid,can't_afford_it_financially\"\n",
            " 'family_doesnt_need_healthcare,no_transportation_available'\n",
            " 'denied_access_explosion,no/not_enough_healthcare_centers'\n",
            " \"can't_afford_it_financially,denied_access_covid,no/not_enough_healthcare_centers\"\n",
            " 'no/not_enough_healthcare_centers,denied_access_explosion'\n",
            " \"can't_afford_it_financially,no/not_enough_healthcare_centers,no_transportation_available,denied_access_covid,denied_access_explosion,family_doesnt_need_healthcare\"\n",
            " \"no/not_enough_healthcare_centers,can't_afford_it_financially,no_transportation_available\"\n",
            " 'denied_access_covid,family_doesnt_need_healthcare'\n",
            " \"can't_afford_it_financially,denied_access_covid,denied_access_explosion\"\n",
            " \"can't_afford_it_financially,no/not_enough_healthcare_centers,no_transportation_available,denied_access_covid\"\n",
            " \"denied_access_covid,denied_access_explosion,can't_afford_it_financially\"\n",
            " \"can't_afford_it_financially,no/not_enough_healthcare_centers,denied_access_covid\"\n",
            " 'denied_access_covid,no/not_enough_healthcare_centers'\n",
            " 'family_doesnt_need_healthcare,denied_access_explosion'\n",
            " 'family_doesnt_need_healthcare,no/not_enough_healthcare_centers'\n",
            " \"no_transportation_available,can't_afford_it_financially,no/not_enough_healthcare_centers\"\n",
            " 'no_transportation_available,no/not_enough_healthcare_centers'\n",
            " \"no/not_enough_healthcare_centers,no_transportation_available,can't_afford_it_financially\"\n",
            " 'no_transportation_available,family_doesnt_need_healthcare' 'Syrian'\n",
            " \"can't_afford_it_financially,no/not_enough_healthcare_centers,denied_access_explosion\"\n",
            " \"can't_afford_it_financially,no_transportation_available,family_doesnt_need_healthcare\"\n",
            " 'no/not_enough_healthcare_centers,no_transportation_available,denied_access_explosion'\n",
            " 'no/not_enough_healthcare_centers,family_doesnt_need_healthcare'\n",
            " 'denied_access_covid,denied_access_explosion'\n",
            " 'family_doesnt_need_healthcare,denied_access_covid'\n",
            " \"can't_afford_it_financially,no_transportation_available,denied_access_explosion\"\n",
            " \"can't_afford_it_financially,denied_access_explosion,denied_access_covid\"\n",
            " \"can't_afford_it_financially,no/not_enough_healthcare_centers,no_transportation_available,denied_access_explosion\"\n",
            " \"can't_afford_it_financially,family_doesnt_need_healthcare,no/not_enough_healthcare_centers\"]\n",
            "-------------------------NUMBER OF MISSING VALUES----------------------------------\n",
            "15725\n",
            "-------------------------PERCENT OF MISSING VALUES---------------------------------\n",
            "0.49019607843137253\n"
          ],
          "name": "stdout"
        }
      ]
    },
    {
      "cell_type": "markdown",
      "metadata": {
        "id": "U4H3ySmmWPjt"
      },
      "source": [
        "# WATER"
      ]
    },
    {
      "cell_type": "markdown",
      "metadata": {
        "id": "ptfaSRDPVHED"
      },
      "source": [
        "## Variable 38: What is the source of cooking/drinking water since the incident? "
      ]
    },
    {
      "cell_type": "code",
      "metadata": {
        "id": "yTUH7r47WAVC",
        "colab": {
          "base_uri": "https://localhost:8080/"
        },
        "outputId": "da960571-4ec7-4616-ca6e-790f6ab32821"
      },
      "source": [
        "inspect(\"What is the source of cooking/drinking water since the incident?\")\n",
        "# Since people can choose more than one option, its taking each combination of options as a different value"
      ],
      "execution_count": null,
      "outputs": [
        {
          "output_type": "stream",
          "text": [
            "------------------------------PRINT ALL AND TYPE-----------------------------------\n",
            "0                                public_filtered_water\n",
            "1        public_filtered_water,purchased_mineral_water\n",
            "2                                public_filtered_water\n",
            "3                              purchased_mineral_water\n",
            "4               public_tank/reservoir,unprotected_well\n",
            "                             ...                      \n",
            "32074    purchased_mineral_water,public_filtered_water\n",
            "32075                          purchased_mineral_water\n",
            "32076                          purchased_mineral_water\n",
            "32077    public_filtered_water,purchased_mineral_water\n",
            "32078                          purchased_mineral_water\n",
            "Name: What is the source of cooking/drinking water since the incident?, Length: 32079, dtype: object\n",
            "-------------------------------UNIQUE VALUES---------------------------------------\n",
            "['public_filtered_water' 'public_filtered_water,purchased_mineral_water'\n",
            " 'purchased_mineral_water' 'public_tank/reservoir,unprotected_well' nan\n",
            " 'public_tank/reservoir' 'protected_well'\n",
            " 'public_filtered_water,public_tank/reservoir'\n",
            " 'purchased_mineral_water,public_tank/reservoir'\n",
            " 'purchased_mineral_water,protected_well'\n",
            " 'purchased_mineral_water,public_filtered_water' 'none'\n",
            " 'public_tank/reservoir,public_filtered_water'\n",
            " 'protected_well,purchased_mineral_water'\n",
            " 'protected_well,public_filtered_water'\n",
            " 'public_tank/reservoir,purchased_mineral_water'\n",
            " 'purchased_mineral_water,unprotected_well' 'unprotected_well'\n",
            " 'purchased_mineral_water,public_filtered_water,public_tank/reservoir'\n",
            " 'protected_well,public_tank/reservoir'\n",
            " 'unprotected_well,public_tank/reservoir'\n",
            " 'public_filtered_water,protected_well'\n",
            " 'unprotected_well,purchased_mineral_water'\n",
            " 'public_tank/reservoir,protected_well'\n",
            " 'purchased_mineral_water,public_filtered_water,unprotected_well'\n",
            " 'public_filtered_water,unprotected_well'\n",
            " 'public_tank/reservoir,public_filtered_water,purchased_mineral_water'\n",
            " 'purchased_mineral_water,public_filtered_water,protected_well'\n",
            " 'public_filtered_water,purchased_mineral_water,public_tank/reservoir'\n",
            " 'public_filtered_water,protected_well,purchased_mineral_water'\n",
            " 'public_tank/reservoir,protected_well,purchased_mineral_water'\n",
            " 'purchased_mineral_water,protected_well,public_tank/reservoir'\n",
            " 'public_filtered_water,protected_well,public_tank/reservoir'\n",
            " 'public_filtered_water,public_tank/reservoir,purchased_mineral_water'\n",
            " 'protected_well,public_filtered_water,purchased_mineral_water'\n",
            " 'unprotected_well,public_filtered_water' 'Son of 12 '\n",
            " 'purchased_mineral_water,protected_well,public_filtered_water'\n",
            " 'purchased_mineral_water,public_filtered_water,protected_well,unprotected_well,public_tank/reservoir'\n",
            " 'purchased_mineral_water,none' 'protected_well,unprotected_well'\n",
            " 'public_filtered_water,purchased_mineral_water,unprotected_well'\n",
            " 'purchased_mineral_water,public_tank/reservoir,public_filtered_water'\n",
            " 'public_filtered_water,purchased_mineral_water,protected_well'\n",
            " 'protected_well,public_filtered_water,purchased_mineral_water,unprotected_well']\n",
            "-------------------------NUMBER OF MISSING VALUES----------------------------------\n",
            "1670\n",
            "-------------------------PERCENT OF MISSING VALUES---------------------------------\n",
            "0.05205897939461953\n"
          ],
          "name": "stdout"
        }
      ]
    },
    {
      "cell_type": "markdown",
      "metadata": {
        "id": "zH7BqL-hVIGL"
      },
      "source": [
        "## Variable 39: What is the source of washing water? "
      ]
    },
    {
      "cell_type": "code",
      "metadata": {
        "id": "tqH-XnSKWQ4G",
        "colab": {
          "base_uri": "https://localhost:8080/"
        },
        "outputId": "27e233ed-94f9-4981-ef90-103b9c3a8c33"
      },
      "source": [
        "inspect(\"What is the source of washing water?\")\n",
        "# Since people can choose more than one option, its taking each combination of options as a different value"
      ],
      "execution_count": null,
      "outputs": [
        {
          "output_type": "stream",
          "text": [
            "------------------------------PRINT ALL AND TYPE-----------------------------------\n",
            "0                                public_filtered_water\n",
            "1                                public_filtered_water\n",
            "2                                public_filtered_water\n",
            "3                              purchased_mineral_water\n",
            "4               public_tank/reservoir,unprotected_well\n",
            "                             ...                      \n",
            "32074    purchased_mineral_water,public_filtered_water\n",
            "32075                          purchased_mineral_water\n",
            "32076    purchased_mineral_water,public_filtered_water\n",
            "32077                            public_tank/reservoir\n",
            "32078                            public_tank/reservoir\n",
            "Name: What is the source of washing water?, Length: 32079, dtype: object\n",
            "-------------------------------UNIQUE VALUES---------------------------------------\n",
            "['public_filtered_water' 'purchased_mineral_water'\n",
            " 'public_tank/reservoir,unprotected_well' 'protected_well' nan\n",
            " 'public_tank/reservoir' 'public_filtered_water,protected_well'\n",
            " 'public_tank/reservoir,public_filtered_water' 'unprotected_well' 'none'\n",
            " 'purchased_mineral_water,public_tank/reservoir'\n",
            " 'public_filtered_water,unprotected_well'\n",
            " 'purchased_mineral_water,public_filtered_water'\n",
            " 'public_filtered_water,purchased_mineral_water'\n",
            " 'public_filtered_water,public_tank/reservoir'\n",
            " 'protected_well,public_filtered_water'\n",
            " 'protected_well,public_tank/reservoir'\n",
            " 'purchased_mineral_water,protected_well'\n",
            " 'public_tank/reservoir,purchased_mineral_water'\n",
            " 'protected_well,purchased_mineral_water'\n",
            " 'public_tank/reservoir,protected_well'\n",
            " 'unprotected_well,public_tank/reservoir'\n",
            " 'protected_well,public_filtered_water,public_tank/reservoir'\n",
            " 'unprotected_well,purchased_mineral_water'\n",
            " 'purchased_mineral_water,unprotected_well'\n",
            " 'unprotected_well,public_filtered_water'\n",
            " 'purchased_mineral_water,public_filtered_water,unprotected_well'\n",
            " 'public_tank/reservoir,protected_well,public_filtered_water'\n",
            " 'public_filtered_water,purchased_mineral_water,public_tank/reservoir'\n",
            " 'purchased_mineral_water,public_tank/reservoir,public_filtered_water'\n",
            " 'purchased_mineral_water,public_filtered_water,protected_well'\n",
            " 'public_tank/reservoir,public_filtered_water,purchased_mineral_water'\n",
            " 'unprotected_well,protected_well'\n",
            " 'purchased_mineral_water,protected_well,public_tank/reservoir'\n",
            " 'public_filtered_water,purchased_mineral_water,protected_well'\n",
            " 'public_filtered_water,public_tank/reservoir,purchased_mineral_water'\n",
            " 'public_tank/reservoir,protected_well,purchased_mineral_water'\n",
            " 'public_filtered_water,unprotected_well,public_tank/reservoir'\n",
            " 'purchased_mineral_water,public_filtered_water,public_tank/reservoir'\n",
            " 'protected_well,public_filtered_water,purchased_mineral_water'\n",
            " 'public_filtered_water,protected_well,unprotected_well'\n",
            " 'public_filtered_water,protected_well,purchased_mineral_water'\n",
            " 'purchased_mineral_water,public_filtered_water,protected_well,unprotected_well,public_tank/reservoir'\n",
            " 'public_tank/reservoir,unprotected_well,public_filtered_water'\n",
            " 'protected_well,unprotected_well'\n",
            " 'public_filtered_water,public_tank/reservoir,protected_well'\n",
            " 'purchased_mineral_water,protected_well,public_filtered_water'\n",
            " 'public_tank/reservoir,purchased_mineral_water,protected_well'\n",
            " 'protected_well,unprotected_well,public_tank/reservoir'\n",
            " 'purchased_mineral_water,protected_well,unprotected_well']\n",
            "-------------------------NUMBER OF MISSING VALUES----------------------------------\n",
            "1673\n",
            "-------------------------PERCENT OF MISSING VALUES---------------------------------\n",
            "0.05215249851928053\n"
          ],
          "name": "stdout"
        }
      ]
    },
    {
      "cell_type": "markdown",
      "metadata": {
        "id": "crpthgpEVJhc"
      },
      "source": [
        "## Variable 40, 41: Is the water supply functioning in the apartment/ house? (Assuming functional prior to blast) | Why not?"
      ]
    },
    {
      "cell_type": "code",
      "metadata": {
        "id": "mSdKFelvWX_r",
        "colab": {
          "base_uri": "https://localhost:8080/"
        },
        "outputId": "4c739ad8-137e-4737-d363-4e56283013ab"
      },
      "source": [
        "inspect(\"Is the water supply functioning in the apartment/ house? (Assuming functional prior to blast)\")\n",
        "#Make lower\n",
        "df[\"Is the water supply functioning in the apartment/ house? (Assuming functional prior to blast)\"] = toLowerCase(df, \"Is the water supply functioning in the apartment/ house? (Assuming functional prior to blast)\")"
      ],
      "execution_count": null,
      "outputs": [
        {
          "output_type": "stream",
          "text": [
            "------------------------------PRINT ALL AND TYPE-----------------------------------\n",
            "0        yes\n",
            "1        yes\n",
            "2        yes\n",
            "3        yes\n",
            "4        yes\n",
            "        ... \n",
            "32074    yes\n",
            "32075    yes\n",
            "32076    yes\n",
            "32077    yes\n",
            "32078    yes\n",
            "Name: Is the water supply functioning in the apartment/ house? (Assuming functional prior to blast), Length: 32079, dtype: object\n",
            "-------------------------------UNIQUE VALUES---------------------------------------\n",
            "['yes' nan 'water_supply_not_functional_prior' 'no' 'Yes']\n",
            "-------------------------NUMBER OF MISSING VALUES----------------------------------\n",
            "2629\n",
            "-------------------------PERCENT OF MISSING VALUES---------------------------------\n",
            "0.08195392624458368\n"
          ],
          "name": "stdout"
        }
      ]
    },
    {
      "cell_type": "markdown",
      "metadata": {
        "id": "txEuztJ2VgcD"
      },
      "source": [
        "####After changes"
      ]
    },
    {
      "cell_type": "code",
      "metadata": {
        "id": "IuIbqlAmVh66",
        "colab": {
          "base_uri": "https://localhost:8080/"
        },
        "outputId": "10675b63-0bac-4848-b85b-30ff27bb0cfc"
      },
      "source": [
        "inspect(\"Is the water supply functioning in the apartment/ house? (Assuming functional prior to blast)\")"
      ],
      "execution_count": null,
      "outputs": [
        {
          "output_type": "stream",
          "text": [
            "------------------------------PRINT ALL AND TYPE-----------------------------------\n",
            "0        yes\n",
            "1        yes\n",
            "2        yes\n",
            "3        yes\n",
            "4        yes\n",
            "        ... \n",
            "32074    yes\n",
            "32075    yes\n",
            "32076    yes\n",
            "32077    yes\n",
            "32078    yes\n",
            "Name: Is the water supply functioning in the apartment/ house? (Assuming functional prior to blast), Length: 32079, dtype: object\n",
            "-------------------------------UNIQUE VALUES---------------------------------------\n",
            "['yes' nan 'water_supply_not_functional_prior' 'no']\n",
            "-------------------------NUMBER OF MISSING VALUES----------------------------------\n",
            "2629\n",
            "-------------------------PERCENT OF MISSING VALUES---------------------------------\n",
            "0.08195392624458368\n"
          ],
          "name": "stdout"
        }
      ]
    },
    {
      "cell_type": "code",
      "metadata": {
        "id": "PfBYZJxlWi2u",
        "colab": {
          "base_uri": "https://localhost:8080/"
        },
        "outputId": "d6433313-9747-4903-ba4f-1e8f38ca2dbc"
      },
      "source": [
        "inspect(\"Why not?\")\n",
        "# Since people can choose more than one option, its taking each combination of options as a different value"
      ],
      "execution_count": null,
      "outputs": [
        {
          "output_type": "stream",
          "text": [
            "------------------------------PRINT ALL AND TYPE-----------------------------------\n",
            "0        NaN\n",
            "1        NaN\n",
            "2        NaN\n",
            "3        NaN\n",
            "4        NaN\n",
            "        ... \n",
            "32074    NaN\n",
            "32075    NaN\n",
            "32076    NaN\n",
            "32077    NaN\n",
            "32078    NaN\n",
            "Name: Why not?, Length: 32079, dtype: object\n",
            "-------------------------------UNIQUE VALUES---------------------------------------\n",
            "[nan 'broken_internal_pipes' 'broken_taps_basin' 'broken_external_network'\n",
            " 'broken_internal_pipes,broken_water_tanks,broken_taps_basin'\n",
            " 'broken_water_tanks' 'broken_taps_basin,broken_external_network'\n",
            " 'broken_taps_basin,broken_internal_pipes,broken_water_tanks,broken_external_network'\n",
            " 'broken_taps_basin,broken_internal_pipes'\n",
            " 'broken_internal_pipes,broken_external_network'\n",
            " 'broken_internal_pipes,broken_taps_basin'\n",
            " 'broken_external_network,broken_internal_pipes'\n",
            " 'broken_taps_basin,broken_water_tanks'\n",
            " 'broken_water_tanks,broken_internal_pipes,broken_taps_basin'\n",
            " 'broken_internal_pipes,broken_water_tanks,broken_external_network'\n",
            " 'broken_taps_basin,broken_internal_pipes,broken_water_tanks'\n",
            " 'broken_internal_pipes,broken_water_tanks'\n",
            " 'broken_internal_pipes,broken_water_tanks,broken_external_network,broken_taps_basin'\n",
            " 'broken_water_tanks,broken_external_network,broken_internal_pipes'\n",
            " 'broken_external_network,broken_water_tanks,broken_internal_pipes,broken_taps_basin'\n",
            " 'broken_water_tanks,broken_internal_pipes'\n",
            " 'broken_internal_pipes,broken_taps_basin,broken_water_tanks,broken_external_network'\n",
            " 'broken_internal_pipes,broken_taps_basin,broken_external_network'\n",
            " 'broken_external_network,broken_taps_basin,broken_internal_pipes'\n",
            " 'broken_water_tanks,broken_external_network'\n",
            " 'broken_external_network,broken_taps_basin'\n",
            " 'broken_taps_basin,broken_internal_pipes,broken_external_network'\n",
            " 'broken_water_tanks,broken_taps_basin'\n",
            " 'broken_external_network,broken_water_tanks'\n",
            " 'broken_external_network,broken_internal_pipes,broken_taps_basin'\n",
            " 'broken_external_network,broken_taps_basin,broken_internal_pipes,broken_water_tanks'\n",
            " 'broken_taps_basin,broken_external_network,broken_internal_pipes,broken_water_tanks'\n",
            " 'broken_taps_basin,broken_internal_pipes,broken_external_network,broken_water_tanks'\n",
            " 'broken_internal_pipes,broken_water_tanks,broken_taps_basin,broken_external_network'\n",
            " 'broken_internal_pipes,broken_taps_basin,broken_water_tanks'\n",
            " 'broken_taps_basin,broken_water_tanks,broken_internal_pipes,broken_external_network']\n",
            "-------------------------NUMBER OF MISSING VALUES----------------------------------\n",
            "31072\n",
            "-------------------------PERCENT OF MISSING VALUES---------------------------------\n",
            "0.96860874715546\n"
          ],
          "name": "stdout"
        }
      ]
    },
    {
      "cell_type": "markdown",
      "metadata": {
        "id": "fztagDzMWqw-"
      },
      "source": [
        "## Variable 42, 43, 44: What was the tank's capacity | Specify | your_place"
      ]
    },
    {
      "cell_type": "code",
      "metadata": {
        "id": "uoFkbvuKWxRY",
        "colab": {
          "base_uri": "https://localhost:8080/"
        },
        "outputId": "d64d9025-85b8-4c5a-99e7-0242f839d68c"
      },
      "source": [
        "inspect(\"What was the tank's capacity\")\n",
        "#Make numerical?"
      ],
      "execution_count": null,
      "outputs": [
        {
          "output_type": "stream",
          "text": [
            "------------------------------PRINT ALL AND TYPE-----------------------------------\n",
            "0        NaN\n",
            "1        NaN\n",
            "2        NaN\n",
            "3        NaN\n",
            "4        NaN\n",
            "        ... \n",
            "32074    NaN\n",
            "32075    NaN\n",
            "32076    NaN\n",
            "32077    NaN\n",
            "32078    NaN\n",
            "Name: What was the tank's capacity, Length: 32079, dtype: object\n",
            "-------------------------------UNIQUE VALUES---------------------------------------\n",
            "[nan '2000 Liters' 'other' '500 Liters' '1000 Liters' '3000 Liters'\n",
            " '100 liters' '5000 Litres' '500 Litres' '4000 Litres' '1500 Litres' 1000\n",
            " '750 Litres']\n",
            "-------------------------NUMBER OF MISSING VALUES----------------------------------\n",
            "31766\n",
            "-------------------------PERCENT OF MISSING VALUES---------------------------------\n",
            "0.990242837993703\n"
          ],
          "name": "stdout"
        }
      ]
    },
    {
      "cell_type": "code",
      "metadata": {
        "id": "IJrt3rwVW5oD",
        "colab": {
          "base_uri": "https://localhost:8080/"
        },
        "outputId": "4f7877dd-157f-4f41-aa24-595c50e12df1"
      },
      "source": [
        "inspect(\"Specify\")\n",
        "#Spelling and make lower\n",
        "df[\"Specify\"] = toLowerCase(df, \"Specify\")"
      ],
      "execution_count": null,
      "outputs": [
        {
          "output_type": "stream",
          "text": [
            "------------------------------PRINT ALL AND TYPE-----------------------------------\n",
            "0        NaN\n",
            "1        NaN\n",
            "2        NaN\n",
            "3        NaN\n",
            "4        NaN\n",
            "        ... \n",
            "32074    NaN\n",
            "32075    NaN\n",
            "32076    NaN\n",
            "32077    NaN\n",
            "32078    NaN\n",
            "Name: Specify, Length: 32079, dtype: object\n",
            "-------------------------------UNIQUE VALUES---------------------------------------\n",
            "[nan '100000' '300' '1600' 'no water tank' 'Unknown ' 'Unkown' 'Unknown'\n",
            " 'medium' 'Shared' 'Medium' '10' 'طاقة شمسية']\n",
            "-------------------------NUMBER OF MISSING VALUES----------------------------------\n",
            "32052\n",
            "-------------------------PERCENT OF MISSING VALUES---------------------------------\n",
            "0.999158327878051\n"
          ],
          "name": "stdout"
        }
      ]
    },
    {
      "cell_type": "markdown",
      "metadata": {
        "id": "od_22qUKVlg3"
      },
      "source": [
        "####After changes"
      ]
    },
    {
      "cell_type": "code",
      "metadata": {
        "id": "7q6RPsijVkgZ",
        "colab": {
          "base_uri": "https://localhost:8080/"
        },
        "outputId": "48003f94-784d-4597-c220-64979369d79c"
      },
      "source": [
        "df[\"Specify\"] = df[\"Specify\"].replace('unknown ', 'unknown')\n",
        "df[\"Specify\"] = df[\"Specify\"].replace('unkown', 'unknown')\n",
        "inspect(\"Specify\")"
      ],
      "execution_count": null,
      "outputs": [
        {
          "output_type": "stream",
          "text": [
            "------------------------------PRINT ALL AND TYPE-----------------------------------\n",
            "0        NaN\n",
            "1        NaN\n",
            "2        NaN\n",
            "3        NaN\n",
            "4        NaN\n",
            "        ... \n",
            "32074    NaN\n",
            "32075    NaN\n",
            "32076    NaN\n",
            "32077    NaN\n",
            "32078    NaN\n",
            "Name: Specify, Length: 32079, dtype: object\n",
            "-------------------------------UNIQUE VALUES---------------------------------------\n",
            "[nan '100000' '300' '1600' 'no water tank' 'unknown' 'medium' 'shared'\n",
            " '10' 'طاقة شمسية']\n",
            "-------------------------NUMBER OF MISSING VALUES----------------------------------\n",
            "32052\n",
            "-------------------------PERCENT OF MISSING VALUES---------------------------------\n",
            "0.999158327878051\n"
          ],
          "name": "stdout"
        }
      ]
    },
    {
      "cell_type": "code",
      "metadata": {
        "id": "sqaJKuGYXQo2",
        "colab": {
          "base_uri": "https://localhost:8080/"
        },
        "outputId": "0481584c-3132-4e43-9599-63a0cbc73361"
      },
      "source": [
        "inspect(\"your_place\")"
      ],
      "execution_count": null,
      "outputs": [
        {
          "output_type": "stream",
          "text": [
            "------------------------------PRINT ALL AND TYPE-----------------------------------\n",
            "0        NaN\n",
            "1        NaN\n",
            "2        NaN\n",
            "3        NaN\n",
            "4        NaN\n",
            "        ... \n",
            "32074    NaN\n",
            "32075    NaN\n",
            "32076    NaN\n",
            "32077    NaN\n",
            "32078    NaN\n",
            "Name: your_place, Length: 32079, dtype: object\n",
            "-------------------------------UNIQUE VALUES---------------------------------------\n",
            "[nan 'no' 'yes']\n",
            "-------------------------NUMBER OF MISSING VALUES----------------------------------\n",
            "28728\n",
            "-------------------------PERCENT OF MISSING VALUES---------------------------------\n",
            "0.8955391377536707\n"
          ],
          "name": "stdout"
        }
      ]
    },
    {
      "cell_type": "markdown",
      "metadata": {
        "id": "joZrPveoWU4v"
      },
      "source": [
        "# HOUSE CONDITIONS "
      ]
    },
    {
      "cell_type": "markdown",
      "metadata": {
        "id": "8tdTUsUCXDx_"
      },
      "source": [
        "## Variable 45: What is your occupancy type"
      ]
    },
    {
      "cell_type": "code",
      "metadata": {
        "id": "b0JWhs83Xde4",
        "colab": {
          "base_uri": "https://localhost:8080/"
        },
        "outputId": "b5b9272f-a71b-472e-844e-d1727556ef43"
      },
      "source": [
        "inspect(\"What is your occupancy type\")"
      ],
      "execution_count": null,
      "outputs": [
        {
          "output_type": "stream",
          "text": [
            "------------------------------PRINT ALL AND TYPE-----------------------------------\n",
            "0           NaN\n",
            "1           NaN\n",
            "2           NaN\n",
            "3           NaN\n",
            "4           NaN\n",
            "          ...  \n",
            "32074    Rented\n",
            "32075    Rented\n",
            "32076     Owned\n",
            "32077    Rented\n",
            "32078     Owned\n",
            "Name: What is your occupancy type, Length: 32079, dtype: object\n",
            "-------------------------------UNIQUE VALUES---------------------------------------\n",
            "[nan 'Rented' 'Owned' 'Hosted']\n",
            "-------------------------NUMBER OF MISSING VALUES----------------------------------\n",
            "6789\n",
            "-------------------------PERCENT OF MISSING VALUES---------------------------------\n",
            "0.21163377910782755\n"
          ],
          "name": "stdout"
        }
      ]
    },
    {
      "cell_type": "markdown",
      "metadata": {
        "id": "I-lU2jw1XjR6"
      },
      "source": [
        "## Variable 46: Are any of the following structural damages observed inside the apartment/ house?"
      ]
    },
    {
      "cell_type": "code",
      "metadata": {
        "id": "bHRGiBZ3XeYG",
        "colab": {
          "base_uri": "https://localhost:8080/"
        },
        "outputId": "e923dbe5-e5af-457f-ffbf-5f4606408202"
      },
      "source": [
        "inspect(\"Are any of the following structural damages observed inside the apartment/ house?\")\n",
        "# Since people can choose more than one option, its taking each combination of options as a different value"
      ],
      "execution_count": null,
      "outputs": [
        {
          "output_type": "stream",
          "text": [
            "------------------------------PRINT ALL AND TYPE-----------------------------------\n",
            "0                                        none_of_the_above\n",
            "1                                        none_of_the_above\n",
            "2                                        none_of_the_above\n",
            "3                                        none_of_the_above\n",
            "4                                        none_of_the_above\n",
            "                               ...                        \n",
            "32074    collapsed_or_damaged_balcony(s),collapsed_ceil...\n",
            "32075                                    none_of_the_above\n",
            "32076                                    none_of_the_above\n",
            "32077                         collapsed_ceiling/_roof_slab\n",
            "32078                                    none_of_the_above\n",
            "Name: Are any of the following structural damages observed inside the apartment/ house?, Length: 32079, dtype: object\n",
            "-------------------------------UNIQUE VALUES---------------------------------------\n",
            "['none_of_the_above' nan 'collapsed_ceiling/_roof_slab'\n",
            " 'collapsed_or_damaged_balcony(s)'\n",
            " 'collapsed_or_damaged_beams,collapsed_or_damaged_columns,collapsed_ceiling/_roof_slab'\n",
            " 'collapsed_or_damaged_balcony(s),collapsed_ceiling/_roof_slab'\n",
            " 'collapsed_or_damaged_beams,collapsed_ceiling/_roof_slab'\n",
            " 'collapsed_or_damaged_beams,collapsed_or_damaged_columns'\n",
            " 'collapsed_or_damaged_columns' 'collapsed_or_damaged_beams'\n",
            " 'collapsed_or_damaged_columns,collapsed_ceiling/_roof_slab'\n",
            " 'collapsed_ceiling/_roof_slab,collapsed_or_damaged_balcony(s)'\n",
            " 'collapsed_or_damaged_columns,collapsed_or_damaged_beams,collapsed_or_damaged_balcony(s),collapsed_ceiling/_roof_slab'\n",
            " 'collapsed_or_damaged_columns,collapsed_or_damaged_beams'\n",
            " 'collapsed_ceiling/_roof_slab,collapsed_or_damaged_columns,collapsed_or_damaged_balcony(s)'\n",
            " 'collapsed_or_damaged_columns,collapsed_or_damaged_beams,collapsed_ceiling/_roof_slab'\n",
            " 'collapsed_ceiling/_roof_slab,collapsed_or_damaged_columns'\n",
            " 'collapsed_or_damaged_columns,collapsed_or_damaged_beams,collapsed_ceiling/_roof_slab,collapsed_or_damaged_balcony(s)'\n",
            " 'collapsed_or_damaged_columns,collapsed_or_damaged_balcony(s)'\n",
            " 'collapsed_or_damaged_balcony(s),collapsed_or_damaged_beams,collapsed_or_damaged_columns'\n",
            " 'collapsed_or_damaged_beams,collapsed_or_damaged_balcony(s)'\n",
            " 'collapsed_or_damaged_columns,collapsed_ceiling/_roof_slab,collapsed_or_damaged_balcony(s)'\n",
            " 'collapsed_ceiling/_roof_slab,collapsed_or_damaged_beams'\n",
            " 'collapsed_or_damaged_balcony(s),collapsed_or_damaged_columns'\n",
            " 'collapsed_ceiling/_roof_slab,collapsed_or_damaged_beams,collapsed_or_damaged_balcony(s)'\n",
            " 'collapsed_ceiling/_roof_slab,collapsed_or_damaged_beams,collapsed_or_damaged_columns,collapsed_or_damaged_balcony(s)'\n",
            " 'collapsed_or_damaged_columns,collapsed_or_damaged_beams,collapsed_or_damaged_balcony(s)'\n",
            " 'collapsed_ceiling/_roof_slab,collapsed_or_damaged_columns,collapsed_or_damaged_beams'\n",
            " 'collapsed_or_damaged_balcony(s),collapsed_ceiling/_roof_slab,collapsed_or_damaged_beams'\n",
            " 'collapsed_or_damaged_balcony(s),collapsed_ceiling/_roof_slab,collapsed_or_damaged_columns'\n",
            " 'collapsed_or_damaged_columns,collapsed_or_damaged_balcony(s),collapsed_ceiling/_roof_slab'\n",
            " 'collapsed_or_damaged_balcony(s),collapsed_or_damaged_beams'\n",
            " 'collapsed_ceiling/_roof_slab,collapsed_or_damaged_balcony(s),collapsed_or_damaged_beams'\n",
            " 'collapsed_ceiling/_roof_slab,collapsed_or_damaged_beams,collapsed_or_damaged_columns'\n",
            " 'collapsed_or_damaged_beams,collapsed_ceiling/_roof_slab,collapsed_or_damaged_balcony(s)'\n",
            " 'collapsed_or_damaged_columns,collapsed_or_damaged_balcony(s),collapsed_or_damaged_beams,collapsed_ceiling/_roof_slab'\n",
            " 'collapsed_or_damaged_beams,collapsed_or_damaged_columns,collapsed_or_damaged_balcony(s)'\n",
            " 'collapsed_or_damaged_columns,collapsed_ceiling/_roof_slab,collapsed_or_damaged_balcony(s),collapsed_or_damaged_beams'\n",
            " 'collapsed_or_damaged_beams,collapsed_ceiling/_roof_slab,collapsed_or_damaged_columns'\n",
            " 'collapsed_ceiling/_roof_slab,collapsed_or_damaged_balcony(s),collapsed_or_damaged_beams,collapsed_or_damaged_columns'\n",
            " 'collapsed_or_damaged_balcony(s),collapsed_or_damaged_columns,collapsed_ceiling/_roof_slab'\n",
            " 'collapsed_or_damaged_balcony(s),collapsed_ceiling/_roof_slab,collapsed_or_damaged_beams,collapsed_or_damaged_columns'\n",
            " 'collapsed_or_damaged_balcony(s),collapsed_or_damaged_columns,collapsed_or_damaged_beams'\n",
            " 'collapsed_or_damaged_columns,collapsed_ceiling/_roof_slab,collapsed_or_damaged_beams,collapsed_or_damaged_balcony(s)'\n",
            " 'collapsed_or_damaged_columns,collapsed_or_damaged_balcony(s),collapsed_or_damaged_beams'\n",
            " 'collapsed_or_damaged_beams,collapsed_or_damaged_balcony(s),collapsed_or_damaged_columns'\n",
            " 'collapsed_or_damaged_balcony(s),collapsed_or_damaged_beams,collapsed_or_damaged_columns,collapsed_ceiling/_roof_slab'\n",
            " 'collapsed_or_damaged_beams,collapsed_ceiling/_roof_slab,collapsed_or_damaged_columns,collapsed_or_damaged_balcony(s)'\n",
            " 'collapsed_or_damaged_beams,collapsed_ceiling/_roof_slab,collapsed_or_damaged_balcony(s),collapsed_or_damaged_columns'\n",
            " 'collapsed_ceiling/_roof_slab,collapsed_or_damaged_balcony(s),collapsed_or_damaged_columns'\n",
            " 'collapsed_or_damaged_columns,collapsed_ceiling/_roof_slab,collapsed_or_damaged_beams'\n",
            " 'collapsed_or_damaged_balcony(s),collapsed_or_damaged_beams,collapsed_ceiling/_roof_slab'\n",
            " 'collapsed_ceiling/_roof_slab,collapsed_or_damaged_columns,collapsed_or_damaged_beams,collapsed_or_damaged_balcony(s)'\n",
            " 'collapsed_or_damaged_beams,collapsed_or_damaged_balcony(s),collapsed_ceiling/_roof_slab'\n",
            " 'collapsed_or_damaged_balcony(s),collapsed_or_damaged_columns,collapsed_ceiling/_roof_slab,collapsed_or_damaged_beams'\n",
            " 'collapsed_or_damaged_beams,collapsed_or_damaged_columns,collapsed_ceiling/_roof_slab,collapsed_or_damaged_balcony(s)'\n",
            " 'collapsed_ceiling/_roof_slab,collapsed_or_damaged_beams,collapsed_or_damaged_balcony(s),collapsed_or_damaged_columns'\n",
            " 'collapsed_or_damaged_balcony(s),collapsed_ceiling/_roof_slab,collapsed_or_damaged_columns,collapsed_or_damaged_beams'\n",
            " 'broken_windows,fallen_walls' 'broken_windows'\n",
            " 'broken_windows,fallen_walls,fallen_ceiling'\n",
            " 'broken_windows,no_access_to_basic_services'\n",
            " 'broken_windows,no_access_to_basic_amenities'\n",
            " 'broken_windows,fallen_walls,no_access_to_basic_amenities,no_access_to_basic_services'\n",
            " 'broken_windows,fallen_walls,fallen_ceiling,no_access_to_basic_services,no_access_to_basic_amenities'\n",
            " 'broken_windows,no_access_to_basic_amenities,no_access_to_basic_services'\n",
            " 'fallen_walls'\n",
            " 'broken_windows,fallen_ceiling,no_access_to_basic_amenities'\n",
            " 'broken_windows,fallen_walls,no_access_to_basic_services'\n",
            " 'broken_windows,fallen_ceiling' 'fallen_walls,broken_windows'\n",
            " 'fallen_ceiling,broken_windows' 'complete_destruction'\n",
            " 'no_access_to_basic_services'\n",
            " 'broken_windows,fallen_walls,no_access_to_basic_amenities'\n",
            " 'fallen_walls,fallen_ceiling,broken_windows'\n",
            " 'broken_windows,no_access_to_basic_services,no_access_to_basic_amenities'\n",
            " 'broken_windows,fallen_ceiling,fallen_walls'\n",
            " 'fallen_walls,fallen_ceiling' 'fallen_ceiling'\n",
            " 'broken_windows,complete_destruction'\n",
            " 'broken_windows,fallen_walls,no_access_to_basic_services,no_access_to_basic_amenities,fallen_ceiling'\n",
            " 'no_access_to_basic_services,broken_windows,fallen_walls'\n",
            " 'broken_windows,fallen_walls,fallen_ceiling,complete_destruction'\n",
            " 'broken_windows,fallen_ceiling,no_access_to_basic_services'\n",
            " 'broken_windows,fallen_ceiling,no_access_to_basic_amenities,fallen_walls,no_access_to_basic_services'\n",
            " 'broken_windows,no_access_to_basic_amenities,fallen_ceiling'\n",
            " 'broken_windows,fallen_ceiling,no_access_to_basic_amenities,complete_destruction,no_access_to_basic_services'\n",
            " 'broken_windows,fallen_ceiling,no_access_to_basic_amenities,complete_destruction'\n",
            " 'broken_windows,no_access_to_basic_services,no_access_to_basic_amenities,complete_destruction'\n",
            " 'collapsed_ceiling/_roof_slab,collapsed_or_damaged_balcony(s),collapsed_or_damaged_columns,collapsed_or_damaged_beams'\n",
            " 'broken_windows,no_access_to_basic_amenities,no_access_to_basic_services,fallen_walls'\n",
            " 'broken_windows,no_access_to_basic_amenities,fallen_walls'\n",
            " 'fallen_ceiling,broken_windows,no_access_to_basic_services'\n",
            " 'collapsed_or_damaged_columns,collapsed_or_damaged_balcony(s),collapsed_ceiling/_roof_slab,collapsed_or_damaged_beams'\n",
            " 'collapsed_or_damaged_balcony(s),collapsed_or_damaged_columns,collapsed_or_damaged_beams,collapsed_ceiling/_roof_slab'\n",
            " 'collapsed_or_damaged_columns,collapsed_ceiling/_roof_slab,collapsed_or_damaged_balcony(s)collapsed_or_damaged_beams'\n",
            " 'collapsed_or_damaged_balcony(s),collapsed_or_damaged_beams,collapsed_ceiling/_roof_slabcollapsed_or_damaged_columns'\n",
            " 'collapsed_or_damaged_beams,collapsed_or_damaged_balcony(s),collapsed_ceiling/_roof_slab,collapsed_or_damaged_columns'\n",
            " 'collapsed_or_damaged_beams,collapsed_or_damaged_columns,collapsed_or_damaged_balcony(s),collapsed_ceiling/_roof_slab'\n",
            " 'collapsed_or_damaged_balcony(s),collapsed_or_damaged_beams,collapsed_ceiling/_roof_slab,collapsed_or_damaged_columns'\n",
            " 'collapsed_or_damaged_beams,collapsed_or_damaged_balcony(s),collapsed_or_damaged_columns,collapsed_ceiling/_roof_slab']\n",
            "-------------------------NUMBER OF MISSING VALUES----------------------------------\n",
            "2638\n",
            "-------------------------PERCENT OF MISSING VALUES---------------------------------\n",
            "0.08223448361856667\n"
          ],
          "name": "stdout"
        }
      ]
    },
    {
      "cell_type": "markdown",
      "metadata": {
        "id": "gV9l42dTXr94"
      },
      "source": [
        "## Variable 47: What is the condition of the EXTERNAL door(s)? \n"
      ]
    },
    {
      "cell_type": "code",
      "metadata": {
        "id": "Ek4o3htyYHpg",
        "colab": {
          "base_uri": "https://localhost:8080/"
        },
        "outputId": "3c8d1532-b4e4-45a2-da9a-6fa1dd4b5741"
      },
      "source": [
        "inspect(\"What is the condition of the EXTERNAL door(s)?\")"
      ],
      "execution_count": null,
      "outputs": [
        {
          "output_type": "stream",
          "text": [
            "------------------------------PRINT ALL AND TYPE-----------------------------------\n",
            "0                     no_damage_intact\n",
            "1                     no_damage_intact\n",
            "2                     no_damage_intact\n",
            "3        minor_not_closable_repairable\n",
            "4        minor_closable_and_repairable\n",
            "                     ...              \n",
            "32074    minor_not_closable_repairable\n",
            "32075    minor_not_closable_repairable\n",
            "32076    minor_closable_and_repairable\n",
            "32077    minor_not_closable_repairable\n",
            "32078                 no_damage_intact\n",
            "Name: What is the condition of the EXTERNAL door(s)?, Length: 32079, dtype: object\n",
            "-------------------------------UNIQUE VALUES---------------------------------------\n",
            "['no_damage_intact' 'minor_not_closable_repairable'\n",
            " 'minor_closable_and_repairable' nan 'major_not_repairable_be_replaced'\n",
            " 'not very good']\n",
            "-------------------------NUMBER OF MISSING VALUES----------------------------------\n",
            "2984\n",
            "-------------------------PERCENT OF MISSING VALUES---------------------------------\n",
            "0.09302035599613455\n"
          ],
          "name": "stdout"
        }
      ]
    },
    {
      "cell_type": "markdown",
      "metadata": {
        "id": "Rrc3GdE2YGDL"
      },
      "source": [
        "## Variable 48: What are the conditions of windows? "
      ]
    },
    {
      "cell_type": "code",
      "metadata": {
        "id": "EvkObAkbYN7W",
        "colab": {
          "base_uri": "https://localhost:8080/"
        },
        "outputId": "517d0343-3973-4244-e6e9-8388d757ee88"
      },
      "source": [
        "inspect(\"What are the conditions of windows?\")\n",
        "# Since people can choose more than one option, its taking each combination of options as a different value"
      ],
      "execution_count": null,
      "outputs": [
        {
          "output_type": "stream",
          "text": [
            "------------------------------PRINT ALL AND TYPE-----------------------------------\n",
            "0                                   broken_shattered_glass\n",
            "1                                   broken_shattered_glass\n",
            "2                                   broken_shattered_glass\n",
            "3        broken_shattered_glass,damaged_frames_shattere...\n",
            "4                                   broken_shattered_glass\n",
            "                               ...                        \n",
            "32074    broken_shattered_glass,damaged_frames_shattere...\n",
            "32075                               broken_shattered_glass\n",
            "32076                               broken_shattered_glass\n",
            "32077                       damaged_frames_shattered_glass\n",
            "32078                               broken_shattered_glass\n",
            "Name: What are the conditions of windows?, Length: 32079, dtype: object\n",
            "-------------------------------UNIQUE VALUES---------------------------------------\n",
            "['broken_shattered_glass'\n",
            " 'broken_shattered_glass,damaged_frames_shattered_glass'\n",
            " 'damaged_frames_shattered_glass' 'no_damage_intact' nan\n",
            " 'damaged_frames_shattered_glass,broken_shattered_glass'\n",
            " 'broken_shattered_glass,no_damage_intact'\n",
            " 'no_damage_intact,broken_shattered_glass'\n",
            " 'damaged_frames_shattered_glass,no_damage_intact'\n",
            " 'no_damage_intact,damaged_frames_shattered_glass'\n",
            " 'broken_shattered_glass,damaged_frames_shattered_glass,no_damage_intact'\n",
            " 'broken damaged'\n",
            " 'no_damage_intact,damaged_frames_shattered_glass,broken_shattered_glass']\n",
            "-------------------------NUMBER OF MISSING VALUES----------------------------------\n",
            "2984\n",
            "-------------------------PERCENT OF MISSING VALUES---------------------------------\n",
            "0.09302035599613455\n"
          ],
          "name": "stdout"
        }
      ]
    },
    {
      "cell_type": "markdown",
      "metadata": {
        "id": "hc6x5eOAYS2t"
      },
      "source": [
        "## Variable 49: Have external openings been sealed off using temporary material (e.g plastic sheeting and timber)?"
      ]
    },
    {
      "cell_type": "code",
      "metadata": {
        "id": "v2Uu-oX-Yb1u",
        "colab": {
          "base_uri": "https://localhost:8080/"
        },
        "outputId": "8db2bcdf-996a-40ee-d494-0fefd380ff7c"
      },
      "source": [
        "inspect(\"Have external openings been sealed off using temporary material (e.g plastic sheeting and timber)?\")"
      ],
      "execution_count": null,
      "outputs": [
        {
          "output_type": "stream",
          "text": [
            "------------------------------PRINT ALL AND TYPE-----------------------------------\n",
            "0        yes\n",
            "1        yes\n",
            "2        yes\n",
            "3         no\n",
            "4         no\n",
            "        ... \n",
            "32074    yes\n",
            "32075    yes\n",
            "32076     no\n",
            "32077     no\n",
            "32078     no\n",
            "Name: Have external openings been sealed off using temporary material (e.g plastic sheeting and timber)?, Length: 32079, dtype: object\n",
            "-------------------------------UNIQUE VALUES---------------------------------------\n",
            "['yes' 'no' nan]\n",
            "-------------------------NUMBER OF MISSING VALUES----------------------------------\n",
            "2986\n",
            "-------------------------PERCENT OF MISSING VALUES---------------------------------\n",
            "0.09308270207924187\n"
          ],
          "name": "stdout"
        }
      ]
    },
    {
      "cell_type": "markdown",
      "metadata": {
        "id": "R0p7I-9fYXX6"
      },
      "source": [
        "## Variable 50: Toilet condition"
      ]
    },
    {
      "cell_type": "code",
      "metadata": {
        "id": "9a9rhkJCYgqY",
        "colab": {
          "base_uri": "https://localhost:8080/"
        },
        "outputId": "e5ec2a26-731e-43ca-8e1b-b8f89f25b01b"
      },
      "source": [
        "df[\"Toilet condition\"] = df[\"Toilet condition\"].replace('gd', 'acceptable')\n",
        "inspect(\"Toilet condition\")"
      ],
      "execution_count": null,
      "outputs": [
        {
          "output_type": "stream",
          "text": [
            "------------------------------PRINT ALL AND TYPE-----------------------------------\n",
            "0        acceptable\n",
            "1        acceptable\n",
            "2        acceptable\n",
            "3        acceptable\n",
            "4        acceptable\n",
            "            ...    \n",
            "32074    acceptable\n",
            "32075    acceptable\n",
            "32076    acceptable\n",
            "32077    acceptable\n",
            "32078    acceptable\n",
            "Name: Toilet condition, Length: 32079, dtype: object\n",
            "-------------------------------UNIQUE VALUES---------------------------------------\n",
            "['acceptable' nan 'Unacceptable_black_water_leakage'\n",
            " 'unacceptable_broken_hardware' 'unacceptable']\n",
            "-------------------------NUMBER OF MISSING VALUES----------------------------------\n",
            "1674\n",
            "-------------------------PERCENT OF MISSING VALUES---------------------------------\n",
            "0.05218367156083419\n"
          ],
          "name": "stdout"
        }
      ]
    },
    {
      "cell_type": "markdown",
      "metadata": {
        "id": "LnYJ__Q5Wg7j"
      },
      "source": [
        "# INCOME/ FINANCES"
      ]
    },
    {
      "cell_type": "markdown",
      "metadata": {
        "id": "IgV2ShqhYlSh"
      },
      "source": [
        "## Variable 51: How many members generated income in the last 2 weeks"
      ]
    },
    {
      "cell_type": "code",
      "metadata": {
        "id": "9Gg7Fs9NYo2g",
        "colab": {
          "base_uri": "https://localhost:8080/",
          "height": 659
        },
        "outputId": "a3668925-c536-4781-8e84-de69dc424ccf"
      },
      "source": [
        "inspect(\"How many members generated income in the last 2 weeks\")\n",
        "#Negative values"
      ],
      "execution_count": null,
      "outputs": [
        {
          "output_type": "stream",
          "text": [
            "------------------------------PRINT ALL AND TYPE-----------------------------------\n",
            "0        0.0\n",
            "1        0.0\n",
            "2        0.0\n",
            "3        0.0\n",
            "4        0.0\n",
            "        ... \n",
            "32074    1.0\n",
            "32075    1.0\n",
            "32076    1.0\n",
            "32077    1.0\n",
            "32078    1.0\n",
            "Name: How many members generated income in the last 2 weeks, Length: 32079, dtype: float64\n",
            "-------------------------------RANGE OF VALUES---------------------------------------\n",
            "MIN -1.0\n",
            "MAX 40000000.0\n",
            "-------------------------NUMBER OF MISSING VALUES----------------------------------\n",
            "77\n",
            "-------------------------PERCENT OF MISSING VALUES---------------------------------\n",
            "0.002400324199632158\n",
            "-------------------------DISTRIBUTION OF VALUES---------------------------------\n"
          ],
          "name": "stdout"
        },
        {
          "output_type": "display_data",
          "data": {
            "image/png": "[encoded data removed]",
            "text/plain": [
              "<Figure size 432x288 with 1 Axes>"
            ]
          },
          "metadata": {
            "tags": [],
            "needs_background": "light"
          }
        }
      ]
    },
    {
      "cell_type": "markdown",
      "metadata": {
        "id": "wd8fIu7GYuQX"
      },
      "source": [
        "## Variable 52: What is the total income generated on monthly basis"
      ]
    },
    {
      "cell_type": "code",
      "metadata": {
        "id": "LUq_pF0UYx4N",
        "colab": {
          "base_uri": "https://localhost:8080/",
          "height": 659
        },
        "outputId": "e1b8b899-363b-491b-d224-2116a24af1ff"
      },
      "source": [
        "inspect(\"What is the total income generated on monthly basis\")"
      ],
      "execution_count": null,
      "outputs": [
        {
          "output_type": "stream",
          "text": [
            "------------------------------PRINT ALL AND TYPE-----------------------------------\n",
            "0              0.0\n",
            "1         500000.0\n",
            "2        1000000.0\n",
            "3              0.0\n",
            "4              0.0\n",
            "           ...    \n",
            "32074     700000.0\n",
            "32075     800000.0\n",
            "32076     900000.0\n",
            "32077    6000000.0\n",
            "32078          0.0\n",
            "Name: What is the total income generated on monthly basis, Length: 32079, dtype: float64\n",
            "-------------------------------RANGE OF VALUES---------------------------------------\n",
            "MIN 0.0\n",
            "MAX 2100000303.0\n",
            "-------------------------NUMBER OF MISSING VALUES----------------------------------\n",
            "1697\n",
            "-------------------------PERCENT OF MISSING VALUES---------------------------------\n",
            "0.05290065151656847\n",
            "-------------------------DISTRIBUTION OF VALUES---------------------------------\n"
          ],
          "name": "stdout"
        },
        {
          "output_type": "display_data",
          "data": {
            "image/png": "[encoded data removed]",
            "text/plain": [
              "<Figure size 432x288 with 1 Axes>"
            ]
          },
          "metadata": {
            "tags": [],
            "needs_background": "light"
          }
        }
      ]
    },
    {
      "cell_type": "markdown",
      "metadata": {
        "id": "dZERfK7UY2Vz"
      },
      "source": [
        "## Variable 53, 54: Do you have any saving? | How much?"
      ]
    },
    {
      "cell_type": "code",
      "metadata": {
        "id": "jbExKzV0Y5UG",
        "colab": {
          "base_uri": "https://localhost:8080/"
        },
        "outputId": "53fab4b7-3cd6-44b2-d4cd-8a6bd1a1e366"
      },
      "source": [
        "df[\"Do you have any saving?\"] = toLowerCase(df, \"Do you have any saving?\")\n",
        "inspect(\"Do you have any saving?\")\n",
        "# Make lower"
      ],
      "execution_count": null,
      "outputs": [
        {
          "output_type": "stream",
          "text": [
            "------------------------------PRINT ALL AND TYPE-----------------------------------\n",
            "0        NaN\n",
            "1        NaN\n",
            "2        NaN\n",
            "3        NaN\n",
            "4        NaN\n",
            "        ... \n",
            "32074    NaN\n",
            "32075    NaN\n",
            "32076    NaN\n",
            "32077    NaN\n",
            "32078    NaN\n",
            "Name: Do you have any saving?, Length: 32079, dtype: object\n",
            "-------------------------------UNIQUE VALUES---------------------------------------\n",
            "[nan 'no' 'yes' 'refuse to answer ']\n",
            "-------------------------NUMBER OF MISSING VALUES----------------------------------\n",
            "25689\n",
            "-------------------------PERCENT OF MISSING VALUES---------------------------------\n",
            "0.8008042644720845\n"
          ],
          "name": "stdout"
        }
      ]
    },
    {
      "cell_type": "code",
      "metadata": {
        "id": "W2sNdSMrZA15",
        "colab": {
          "base_uri": "https://localhost:8080/",
          "height": 659
        },
        "outputId": "afb3de5d-8983-4940-d66e-aaf79ebef67f"
      },
      "source": [
        "inspect(\"How much?\")"
      ],
      "execution_count": null,
      "outputs": [
        {
          "output_type": "stream",
          "text": [
            "------------------------------PRINT ALL AND TYPE-----------------------------------\n",
            "0        0.0\n",
            "1        0.0\n",
            "2        0.0\n",
            "3        0.0\n",
            "4        0.0\n",
            "        ... \n",
            "32074    0.0\n",
            "32075    0.0\n",
            "32076    0.0\n",
            "32077    0.0\n",
            "32078    0.0\n",
            "Name: How much?, Length: 32079, dtype: float64\n",
            "-------------------------------RANGE OF VALUES---------------------------------------\n",
            "MIN 0.0\n",
            "MAX 1000000000.0\n",
            "-------------------------NUMBER OF MISSING VALUES----------------------------------\n",
            "6042\n",
            "-------------------------PERCENT OF MISSING VALUES---------------------------------\n",
            "0.18834751706724026\n",
            "-------------------------DISTRIBUTION OF VALUES---------------------------------\n"
          ],
          "name": "stdout"
        },
        {
          "output_type": "display_data",
          "data": {
            "image/png": "[encoded data removed]",
            "text/plain": [
              "<Figure size 432x288 with 1 Axes>"
            ]
          },
          "metadata": {
            "tags": [],
            "needs_background": "light"
          }
        }
      ]
    },
    {
      "cell_type": "markdown",
      "metadata": {
        "id": "qkBB0nMbY3sO"
      },
      "source": [
        "## Variable 55, 56: Did you receive any assistance since the incident | What type of assistance?"
      ]
    },
    {
      "cell_type": "code",
      "metadata": {
        "id": "ogAsY59SY9CS",
        "colab": {
          "base_uri": "https://localhost:8080/"
        },
        "outputId": "6fc8ad45-be51-4e9c-8cd5-930184e4b52e"
      },
      "source": [
        "df[\"Did you receive any assistance since the incident\"] = toLowerCase(df, \"Did you receive any assistance since the incident\")\n",
        "inspect(\"Did you receive any assistance since the incident\")\n",
        "#Make lower"
      ],
      "execution_count": null,
      "outputs": [
        {
          "output_type": "stream",
          "text": [
            "------------------------------PRINT ALL AND TYPE-----------------------------------\n",
            "0        yes\n",
            "1        yes\n",
            "2        yes\n",
            "3        NaN\n",
            "4        yes\n",
            "        ... \n",
            "32074    NaN\n",
            "32075    NaN\n",
            "32076    NaN\n",
            "32077    NaN\n",
            "32078    NaN\n",
            "Name: Did you receive any assistance since the incident, Length: 32079, dtype: object\n",
            "-------------------------------UNIQUE VALUES---------------------------------------\n",
            "['yes' nan 'no']\n",
            "-------------------------NUMBER OF MISSING VALUES----------------------------------\n",
            "23084\n",
            "-------------------------PERCENT OF MISSING VALUES---------------------------------\n",
            "0.7195984912247888\n"
          ],
          "name": "stdout"
        }
      ]
    },
    {
      "cell_type": "code",
      "metadata": {
        "id": "2lEd_UaeZMeY",
        "colab": {
          "base_uri": "https://localhost:8080/"
        },
        "outputId": "7d7ea0dd-375f-4d3f-8b37-3201f8fc6789"
      },
      "source": [
        "inspect(\"What type of assistance?\")\n",
        "# Since people can choose more than one option, its taking each combination of options as a different value"
      ],
      "execution_count": null,
      "outputs": [
        {
          "output_type": "stream",
          "text": [
            "------------------------------PRINT ALL AND TYPE-----------------------------------\n",
            "0        food\n",
            "1        food\n",
            "2        food\n",
            "3        none\n",
            "4        food\n",
            "         ... \n",
            "32074    food\n",
            "32075    none\n",
            "32076    none\n",
            "32077    none\n",
            "32078    cash\n",
            "Name: What type of assistance?, Length: 32079, dtype: object\n",
            "-------------------------------UNIQUE VALUES---------------------------------------\n",
            "['food' 'none'\n",
            " 'food,cash,water,clothes_and_shoes,transport,community_and_psychosocial'\n",
            " nan 'other' 'water' 'food,shelter' 'food,water' 'cash'\n",
            " 'infant_formula_baby_food,food' 'infant_formula_baby_food,water,cash'\n",
            " 'infant_formula_baby_food' 'food,cash' 'shelter' 'cash,food'\n",
            " 'food,infant_formula_baby_food' 'cash,food,infant_formula_baby_food'\n",
            " 'cash,food,water' 'food,cash,water' 'infant_formula_baby_food,other'\n",
            " 'clothes_and_shoes' 'food,cash,shelter,transport'\n",
            " 'food,cash,shelter,clothes_and_shoes'\n",
            " 'food,cash,shelter,community_and_psychosocial' 'shelter,food,cash,other'\n",
            " 'cash,shelter' 'food,water,other' 'food,cash,shelter'\n",
            " 'food,cash,shelter,other' 'food,cash,water,community_and_psychosocial'\n",
            " 'food,other' 'food,clothes_and_shoes' 'food,cash,shelter,water'\n",
            " 'food,cash,clothes_and_shoes' 'shelter,cash' 'food,cash,other'\n",
            " 'cash,food,shelter' 'shelter,cash,food' 'shelter,food,cash'\n",
            " 'food,cash,shelter,clothes_and_shoes,transport' 'cash,food,shelter,other'\n",
            " 'clothes_and_shoes,cash' 'other,food' 'community_and_psychosocial'\n",
            " 'food,cash,water,infant_formula_baby_food'\n",
            " 'infant_formula_baby_food,cash,food,transport,water,community_and_psychosocial'\n",
            " 'food,cash,clothes_and_shoes,infant_formula_baby_food' 'other,cash'\n",
            " 'shelter,food'\n",
            " 'cash,food,shelter,community_and_psychosocial,clothes_and_shoes'\n",
            " 'food,cash,clothes_and_shoes,transport'\n",
            " 'community_and_psychosocial,cash,food'\n",
            " 'food,cash,community_and_psychosocial'\n",
            " 'food,cash,transport,clothes_and_shoes,community_and_psychosocial,water,shelter'\n",
            " 'infant_formula_baby_food,cash,food' 'infant_formula_baby_food,food,cash'\n",
            " 'food,cash,infant_formula_baby_food' 'cash,food,clothes_and_shoes'\n",
            " 'cash,other,shelter,clothes_and_shoes,food'\n",
            " 'food,clothes_and_shoes,other,shelter'\n",
            " 'food,cash,clothes_and_shoes,water' 'food,transport,clothes_and_shoes'\n",
            " 'food,cash,shelter,transport,clothes_and_shoes'\n",
            " 'food,infant_formula_baby_food,cash' 'cash,food,other'\n",
            " 'food,cash,shelter,other,community_and_psychosocial'\n",
            " 'food,cash,shelter,infant_formula_baby_food,clothes_and_shoes'\n",
            " 'food,shelter,cash,other' 'cash,shelter,food' 'food,shelter,cash'\n",
            " 'cash,food,shelter,infant_formula_baby_food'\n",
            " 'food,shelter,cash,clothes_and_shoes' 'water,food,cash' 'water,food'\n",
            " 'other,cash,food' 'cash,infant_formula_baby_food'\n",
            " 'food,infant_formula_baby_food,clothes_and_shoes,cash' 'cash,water'\n",
            " 'food,transport'\n",
            " 'food,cash,shelter,community_and_psychosocial,transport,clothes_and_shoes,infant_formula_baby_food,other'\n",
            " 'shelter,cash,food,community_and_psychosocial,other'\n",
            " 'infant_formula_baby_food,food,other' 'water,shelter,cash,food'\n",
            " 'infant_formula_baby_food,cash' 'family_tracing,cash'\n",
            " 'cash,family_tracing' 'food,cash,family_tracing' 'cash,other'\n",
            " 'community_and_psychosocial,cash' 'cash,clothes_and_shoes'\n",
            " 'cash,community_and_psychosocial'\n",
            " 'food,cash,infant_formula_baby_food,community_and_psychosocial'\n",
            " 'food,family_tracing' 'cash,community_and_psychosocial,food'\n",
            " 'food,cash,water,shelter' 'food,cash,water,clothes_and_shoes,transport'\n",
            " 'cash,food,other,transport,water' 'cash,water,other'\n",
            " 'clothes_and_shoes,food' 'food,shelter,cash,water'\n",
            " 'shelter,cash,infant_formula_baby_food' 'shelter,other,food'\n",
            " 'cash,food,shelter,water' 'cash,infant_formula_baby_food,food'\n",
            " 'infant_formula_baby_food,food,water,cash'\n",
            " 'cash,food,community_and_psychosocial,other'\n",
            " 'community_and_psychosocial,food,cash' 'food,clothes_and_shoes,shelter'\n",
            " 'food,cash,clothes_and_shoes,shelter,other'\n",
            " 'food,cash,shelter,community_and_psychosocial,transport'\n",
            " 'food,shelter,clothes_and_shoes,other'\n",
            " 'clothes_and_shoes,transport,community_and_psychosocial,cash,food'\n",
            " 'cash,shelter,transport' 'food,other,cash'\n",
            " 'food,cash,shelter,water,family_tracing'\n",
            " 'food,cash,shelter,clothes_and_shoes,other' 'cash,shelter,water'\n",
            " 'community_and_psychosocial,food'\n",
            " 'cash,food,transport,water,clothes_and_shoes'\n",
            " 'cash,infant_formula_baby_food,clothes_and_shoes' 'food,water,shelter'\n",
            " 'cash,food,transport,clothes_and_shoes,infant_formula_baby_food'\n",
            " 'food,cash,water,shelter,clothes_and_shoes,transport,family_tracing'\n",
            " 'food,cash,shelter,infant_formula_baby_food,clothes_and_shoes,community_and_psychosocial,water'\n",
            " 'food,family_tracing,community_and_psychosocial'\n",
            " 'food,cash,water,clothes_and_shoes'\n",
            " 'food,cash,water,transport,clothes_and_shoes,family_tracing'\n",
            " 'shelter,clothes_and_shoes,cash'\n",
            " 'cash,food,water,clothes_and_shoes,transport' 'cash,food,transport'\n",
            " 'infant_formula_baby_food,food,cash,shelter' 'family_tracing'\n",
            " 'food,water,cash' 'food,clothes_and_shoes,cash'\n",
            " 'food,community_and_psychosocial,cash'\n",
            " 'food,infant_formula_baby_food,clothes_and_shoes'\n",
            " 'cash,food,community_and_psychosocial' 'other,shelter'\n",
            " 'clothes_and_shoes,transport,food,cash,water'\n",
            " 'food,shelter,cash,other,clothes_and_shoes' 'food,water,transport'\n",
            " 'cash,food,infant_formula_baby_food,other'\n",
            " 'clothes_and_shoes,infant_formula_baby_food,food,cash'\n",
            " 'food,clothes_and_shoes,infant_formula_baby_food'\n",
            " 'cash,infant_formula_baby_food,clothes_and_shoes,food'\n",
            " 'infant_formula_baby_food,cash,clothes_and_shoes,food,water'\n",
            " 'cash,water,transport'\n",
            " 'cash,clothes_and_shoes,community_and_psychosocial'\n",
            " 'food,cash,transport,community_and_psychosocial'\n",
            " 'food,cash,water,infant_formula_baby_food,clothes_and_shoes'\n",
            " 'food,cash,shelter,infant_formula_baby_food'\n",
            " 'food,cash,shelter,water,clothes_and_shoes,transport'\n",
            " 'cash,infant_formula_baby_food,water'\n",
            " 'infant_formula_baby_food,clothes_and_shoes'\n",
            " 'cash,water,clothes_and_shoes' 'food,cash,water,other'\n",
            " 'food,cash,water,clothes_and_shoes,transport,other'\n",
            " 'food,cash,water,transport' 'infant_formula_baby_food,food,cash,water'\n",
            " 'cash,clothes_and_shoes,food' 'cash,food,clothes_and_shoes,transport'\n",
            " 'cash,clothes_and_shoes,transport'\n",
            " 'infant_formula_baby_food,clothes_and_shoes,cash'\n",
            " 'food,cash,water,clothes_and_shoes,infant_formula_baby_food'\n",
            " 'infant_formula_baby_food,clothes_and_shoes,food'\n",
            " 'infant_formula_baby_food,cash,food,clothes_and_shoes'\n",
            " 'cash,clothes_and_shoes,water'\n",
            " 'food,cash,shelter,clothes_and_shoes,water'\n",
            " 'infant_formula_baby_food,cash,clothes_and_shoes'\n",
            " 'food,shelter,infant_formula_baby_food'\n",
            " 'infant_formula_baby_food,food,cash,clothes_and_shoes'\n",
            " 'food,cash,water,shelter,infant_formula_baby_food,clothes_and_shoes,transport'\n",
            " 'infant_formula_baby_food,community_and_psychosocial'\n",
            " 'infant_formula_baby_food,clothes_and_shoes,cash,food'\n",
            " 'food,cash,other,infant_formula_baby_food,clothes_and_shoes'\n",
            " 'food,cash,clothes_and_shoes,shelter,water'\n",
            " 'food,other,infant_formula_baby_food'\n",
            " 'cash,clothes_and_shoes,other,infant_formula_baby_food'\n",
            " 'cash,food,water,shelter,clothes_and_shoes'\n",
            " 'cash,clothes_and_shoes,food,water' 'hygiene_items' 'Food'\n",
            " 'cash,shelter,food,community_and_psychosocial,clothes_and_shoes'\n",
            " 'cash,shelter,community_and_psychosocial'\n",
            " 'food,cash,shelter,clothes_and_shoes,infant_formula_baby_food,community_and_psychosocial'\n",
            " 'clothes_and_shoes,shelter,cash,community_and_psychosocial,food' 'No'\n",
            " 'Medical_Assistance' 'Shelter_Repair' 'Small assistance'\n",
            " 'Water,face masks,gloves' 'Cash'\n",
            " 'cash,family_tracing,clothes_and_shoes,food'\n",
            " 'cash,food,family_tracing,clothes_and_shoes'\n",
            " 'cash,transport,community_and_psychosocial,food'\n",
            " 'food,water,infant_formula_baby_food' 'Food ' 'organisations' 'repair '\n",
            " 'infant_formula_baby_food,food,water,clothes_and_shoes,cash' 'Food water'\n",
            " 'food / hygienist kit' 'moune' 'no daman' 'None' 'Military '\n",
            " 'tried but nothing' 'Shelter_Repairs' 'DAMAN (INSURANCE)' 'Money' 'food '\n",
            " 'water,shelter' 'transport' 'infant_formula_baby_food,cash,food,other'\n",
            " 'cash,food,water,other'\n",
            " 'food,cash,clothes_and_shoes,shelter,transport,water,community_and_psychosocial'\n",
            " 'cash,other,food' 'transport,water,shelter,food,cash'\n",
            " 'food,cash,infant_formula_baby_food,water' 'cash,transport'\n",
            " 'clothes_and_shoes,food,cash'\n",
            " 'food,infant_formula_baby_food,community_and_psychosocial'\n",
            " 'food,community_and_psychosocial' 'food,clothes_and_shoes,water,other'\n",
            " 'food,cash,shelter,infant_formula_baby_food,clothes_and_shoes,transport,water'\n",
            " 'family_tracing,cash,transport' 'food,cash,clothes_and_shoes,other'\n",
            " 'food,infant_formula_baby_food,clothes_and_shoes,cash,other'\n",
            " 'food,infant_formula_baby_food,other'\n",
            " 'cash,infant_formula_baby_food,clothes_and_shoes,transport,community_and_psychosocial,food'\n",
            " 'cash,infant_formula_baby_food,food,water' 'water,food,other,cash'\n",
            " 'food,cash,shelter,water,other'\n",
            " 'food,cash,shelter,water,transport,clothes_and_shoes,infant_formula_baby_food'\n",
            " 'infant_formula_baby_food,clothes_and_shoes,food,cash'\n",
            " 'food,cash,shelter,water,infant_formula_baby_food,clothes_and_shoes'\n",
            " 'food,cash,shelter,water,clothes_and_shoes,community_and_psychosocial'\n",
            " 'food,cash,water,transport,clothes_and_shoes'\n",
            " 'food,clothes_and_shoes,cash,infant_formula_baby_food'\n",
            " 'cash,food,clothes_and_shoes,infant_formula_baby_food'\n",
            " 'food,cash,water,clothes_and_shoes,community_and_psychosocial'\n",
            " 'food,cash,water,shelter,infant_formula_baby_food,clothes_and_shoes'\n",
            " 'cash,food,clothes_and_shoes,community_and_psychosocial'\n",
            " 'cash,water,food' 'clothes_and_shoes,other' 'shelter,other'\n",
            " 'other,infant_formula_baby_food,cash' 'food,shelter,other'\n",
            " 'food,infant_formula_baby_food,cash,clothes_and_shoes'\n",
            " 'food,cash,water,clothes_and_shoes,infant_formula_baby_food,family_tracing'\n",
            " 'infant_formula_baby_food,food,clothes_and_shoes'\n",
            " 'food,cash,infant_formula_baby_food,clothes_and_shoes'\n",
            " 'food,infant_formula_baby_food,clothes_and_shoes,cash,shelter'\n",
            " 'food,water,cash,shelter,infant_formula_baby_food,clothes_and_shoes'\n",
            " 'cash,infant_formula_baby_food,food,clothes_and_shoes'\n",
            " 'cash,food,shelter,water,infant_formula_baby_food,clothes_and_shoes'\n",
            " 'food,cash,shelter,water,clothes_and_shoes'\n",
            " 'food,cash,shelter,water,clothes_and_shoes,community_and_psychosocial,other'\n",
            " 'food,cash,infant_formula_baby_food,clothes_and_shoes,water'\n",
            " 'cash,transport,food' 'cash,water,community_and_psychosocial'\n",
            " 'cash,infant_formula_baby_food,other'\n",
            " 'food,cash,clothes_and_shoes,community_and_psychosocial'\n",
            " 'food,cash,shelter,infant_formula_baby_food,clothes_and_shoes,water'\n",
            " 'food,shelter,cash,clothes_and_shoes,water' 'shelter,cash,food,water'\n",
            " 'cash,food,infant_formula_baby_food,clothes_and_shoes'\n",
            " 'infant_formula_baby_food,food,community_and_psychosocial'\n",
            " 'food,cash,infant_formula_baby_food,clothes_and_shoes,community_and_psychosocial'\n",
            " 'water,cash' 'cash,food,infant_formula_baby_food,water'\n",
            " 'shelter,food,water,clothes_and_shoes,community_and_psychosocial,cash,infant_formula_baby_food'\n",
            " 'other,food,cash,shelter' 'food,transport,cash'\n",
            " 'cash,infant_formula_baby_food,clothes_and_shoes,community_and_psychosocial'\n",
            " 'infant_formula_baby_food,cash,food,shelter' 'cash,food,family_tracing'\n",
            " 'transport,food' 'other,infant_formula_baby_food'\n",
            " 'food,water,cash,clothes_and_shoes,community_and_psychosocial,shelter,transport'\n",
            " 'community_and_psychosocial,other' 'food,other,shelter'\n",
            " 'shelter,infant_formula_baby_food']\n",
            "-------------------------NUMBER OF MISSING VALUES----------------------------------\n",
            "7739\n",
            "-------------------------PERCENT OF MISSING VALUES---------------------------------\n",
            "0.2412481685838087\n"
          ],
          "name": "stdout"
        }
      ]
    },
    {
      "cell_type": "markdown",
      "metadata": {
        "id": "9wcofoUkZXtd"
      },
      "source": [
        "## Variable 57, 58: Can you estimate how many days your current income, savings and assets can sustain your needed minimum expenditures without additional help? | How many?"
      ]
    },
    {
      "cell_type": "code",
      "metadata": {
        "id": "7WdPVJMTZaKI",
        "colab": {
          "base_uri": "https://localhost:8080/"
        },
        "outputId": "d9f9e212-ce8e-4410-f2af-f1b6bd9a62ef"
      },
      "source": [
        "inspect(\"Can you estimate how many days your current income, savings and assets can sustain your needed minimum expenditures without additional help?\")\n",
        "# Spellings and language"
      ],
      "execution_count": null,
      "outputs": [
        {
          "output_type": "stream",
          "text": [
            "------------------------------PRINT ALL AND TYPE-----------------------------------\n",
            "0        NaN\n",
            "1        NaN\n",
            "2        NaN\n",
            "3        NaN\n",
            "4        NaN\n",
            "        ... \n",
            "32074     no\n",
            "32075     no\n",
            "32076    yes\n",
            "32077     no\n",
            "32078     no\n",
            "Name: Can you estimate how many days your current income, savings and assets can sustain your needed minimum expenditures without additional help?, Length: 32079, dtype: object\n",
            "-------------------------------UNIQUE VALUES---------------------------------------\n",
            "[nan 'no' 'yes' 'refuse_to_answer' 'كلا' 'Between 14 and 30 days'\n",
            " 'Less than 7 days' 'No financial help needed'\n",
            " 'Relatives send money usually ' 'No need for assistance ' 60\n",
            " 'No need for help' 'عشرة ايام' '6 days ' 'اقل من شهر'\n",
            " 'live everyday and its day ' 'اسبوع' 'No' 'Nothing ' 'More than 365 days'\n",
            " 4 'between 14 and 30 days' 'X' 'لا' 'All' 'whole month' 'نعن' 'Cash'\n",
            " 'Yes' 'sustainable' 'نعم' 'طعام و شراب' 'شهر' 'one week' 9 'none'\n",
            " '٤ شهور ' 'شهر كامل' 'لا يوجد مدخول ' 3 'الشهر كامل' 'عشرة أيام'\n",
            " 'One week' 'O' '٣ شهور ' 'كل الشهر' '4 months' 'حسب يوم بيوم'\n",
            " 'لا يوجد دخل اخر 6 اشهر كلو بالدين' 'Yes ' 'كل يوم بيومه' 'food' 'month'\n",
            " 'لا يمكن الصمود' 'No ' '6 شهور' 'one month' 'سنة'\n",
            " \"he lost all his savings reparing the house, he's living on his current salary\"\n",
            " 'ليس كافيا' 'Electronics' 'Private' 'No.' 'Nothing' 'Food'\n",
            " 'لا يوجد دخل حاليا' 'لامال' 'More than 1 year'\n",
            " 'Always recieving assistance' 'غير معروف' 'شهرين' 'لا يوجد مدخرات'\n",
            " 'اقساط الجامعات ' 'None' 'اقل من جمعة' 'One month' 'Few weeks'\n",
            " 'كل يوم بيوم ' 'عشر ايام' 'Less_than_14_days' 'Few months'\n",
            " 'طالما يعمل الاولاد' 'Month' 'na' 'غير محدد' '4 days' 'Half of the month'\n",
            " 'Till winter' 43894 'ممكن' 'ايام١٠' 'day by day ' 'Less than a month'\n",
            " 'رفض الاجابة' 'لا يوجد' 'كلا ' 'تكفي لعشر ايام' 'yee' 'merteh so far'\n",
            " 'More than a month ' 'Yed' '     ' 'Less than 10 days ' 'Yea'\n",
            " 'Whole month' 'Monthly ' 'Ma bta3rif' 'Cant handle' 'Always'\n",
            " 'لا يوجد مال حالياً' 'Yes I can ' 'Barely ' 'يلبي احتياجات' 'ولا يوم'\n",
            " 'Whole month ' 'يكفي شهريا' 'ايام' 'One month ' 'كل الايام' 'Few weeks '\n",
            " 'اشهر' 'Less than 10 days' 'One week max' 'لا٠']\n",
            "-------------------------NUMBER OF MISSING VALUES----------------------------------\n",
            "2442\n",
            "-------------------------PERCENT OF MISSING VALUES---------------------------------\n",
            "0.07612456747404844\n"
          ],
          "name": "stdout"
        }
      ]
    },
    {
      "cell_type": "code",
      "metadata": {
        "id": "ifkN8OqqZivC",
        "colab": {
          "base_uri": "https://localhost:8080/",
          "height": 659
        },
        "outputId": "fd1153a7-d145-4179-d1f7-1156fa14383a"
      },
      "source": [
        "inspect(\"How many?\")\n",
        "#What does this mean\n",
        "#Negative values"
      ],
      "execution_count": null,
      "outputs": [
        {
          "output_type": "stream",
          "text": [
            "------------------------------PRINT ALL AND TYPE-----------------------------------\n",
            "0        NaN\n",
            "1        NaN\n",
            "2        NaN\n",
            "3        NaN\n",
            "4        NaN\n",
            "        ... \n",
            "32074    NaN\n",
            "32075    NaN\n",
            "32076    7.0\n",
            "32077    NaN\n",
            "32078    NaN\n",
            "Name: How many?, Length: 32079, dtype: float64\n",
            "-------------------------------RANGE OF VALUES---------------------------------------\n",
            "MIN -30.0\n",
            "MAX 450000000.0\n",
            "-------------------------NUMBER OF MISSING VALUES----------------------------------\n",
            "25641\n",
            "-------------------------PERCENT OF MISSING VALUES---------------------------------\n",
            "0.7993079584775087\n",
            "-------------------------DISTRIBUTION OF VALUES---------------------------------\n"
          ],
          "name": "stdout"
        },
        {
          "output_type": "display_data",
          "data": {
            "image/png": "[encoded data removed]",
            "text/plain": [
              "<Figure size 432x288 with 1 Axes>"
            ]
          },
          "metadata": {
            "tags": [],
            "needs_background": "light"
          }
        }
      ]
    },
    {
      "cell_type": "markdown",
      "metadata": {
        "id": "8McDt45MWrJu"
      },
      "source": [
        "# BASIC NEEDS"
      ]
    },
    {
      "cell_type": "markdown",
      "metadata": {
        "id": "_A-79HjqZrBj"
      },
      "source": [
        "## Variable 59 - 65: What are the basic needs you will have the most difficulties meeting in the coming 7 days (Rank 1st, 2nd and 3rd)? "
      ]
    },
    {
      "cell_type": "code",
      "metadata": {
        "id": "m6Jy-ZENZui7",
        "colab": {
          "base_uri": "https://localhost:8080/"
        },
        "outputId": "179466fc-88c8-4aa0-f72d-c11a9ee5e2a2"
      },
      "source": [
        "inspect(\"What are the basic needs you will have the most difficulties meeting in the coming 7 days (Rank 1st, 2nd and 3rd)?\")\n",
        "# Spelling, language. Maybe best to categorize them"
      ],
      "execution_count": null,
      "outputs": [
        {
          "output_type": "stream",
          "text": [
            "------------------------------PRINT ALL AND TYPE-----------------------------------\n",
            "0        NaN\n",
            "1        NaN\n",
            "2        NaN\n",
            "3        NaN\n",
            "4        NaN\n",
            "        ... \n",
            "32074    NaN\n",
            "32075    NaN\n",
            "32076    NaN\n",
            "32077    NaN\n",
            "32078    NaN\n",
            "Name: What are the basic needs you will have the most difficulties meeting in the coming 7 days (Rank 1st, 2nd and 3rd)?, Length: 32079, dtype: object\n",
            "-------------------------------UNIQUE VALUES---------------------------------------\n",
            "[nan 'الطعام' 'المال' 'Food and electric maintenance ' 'N/a' 'Food' 'Na'\n",
            " 'Money' 'Medication, meat, and other goods' 'Nothing'\n",
            " '1-Rent 2- food assistance '\n",
            " '1-Rent 2- Food assistance - 3-diapers and milk'\n",
            " '1-medications 2-food asiatance 3- medical support'\n",
            " '1-Medications 2- food assisstance ' '1-Rent 2- food assistance -Milk '\n",
            " '1-Travel 2-rent-food assistance' 'ادوية، مازوت، مواد تنظيف، '\n",
            " 'Medicine , food, water ' 'تامين الدواء' 'Rent for house'\n",
            " 'علاج فزيائي للطفل، اجار بيت' 'Rent for house, food, medicals'\n",
            " '1. Rent  2nd health 3rd food' 'Rent of the house, food, medical'\n",
            " 'Rent, medicals' 'Medicals, electricity payment'\n",
            " 'Health and food and rent' '1st' '3rd' '2nd'\n",
            " 'المسكن ، المصروف ، الأكل ، الملابس' 'المسكن ، الطبابة' 'المسكن'\n",
            " 'المسكن ، الملبس ، المصروف' 'المسكن ، المأكل ، المصروف'\n",
            " 'أجار المسكن ، المصروف ، المأكل' 'الأكل ، المسكن ، الملابس'\n",
            " 'أجار المنزل ، المصروف ، المأكل' 'لا شيئ' 0 'لا حاجة ' '.' 'Yes'\n",
            " 'مواد غذائية' 'المواد الغيذائية' 'صحية' 'لا شيء' 'X' '..' 'الزجاج' 1\n",
            " 'Cash' 'Milk' 'لا جواب' 'مال' 'Z' 'no' 'Nutrition ' 'cash' 'ادوية'\n",
            " 'تصليح' 'لا' '-' 'ا' 'اصلاح النوافذ' 2 'المواد الغيذاذية و اغراض الطفل'\n",
            " 'المواد الغيذاذية والادوية ' 'مواد غذائية و ادوية و مواد تنظيف'\n",
            " 'المواد الغيذائية والادوية والمواد التنضيف' 'المواد الغذائية والادوية'\n",
            " 'No' 'التصليح' 'طعام' 'لا صعوبة' 'kahraba,may....' 'No difficulties'\n",
            " 'Yes ' 'الاولى' ',' 'الأدوية' 'الاكل' 'ادوية ' 'المدارس ' 'None'\n",
            " 'مواد غزائية والادوية' 'Medicine' 'ترميم' 'مواد غذائية مواد تنظيف' 'Rent'\n",
            " 'اصلاح النوافذ ' 'الطبابة' 'دواء مواد غذائية'\n",
            " 'مواد الغيذائية والمواد التنديف' 'اجار0' 'لا يوجد' 'Tosli7 2zez' 'Tosli7'\n",
            " 'لا احتياجات' 'امور الأولاد' 'مواد غيذائية وادوية'\n",
            " 'مواد غذائية مياه ادوات تنظيف' 'food,money,medicament,water'\n",
            " 'money,food,medicament' 'الوضع المادي جيد'\n",
            " 'مواد التنظيف الاكثر استعمالاً' 'تصليح الشبابيك والابواب'\n",
            " 'مال-دواء-تصليح زجاج' 'مال-دواء-تصليح رجاج' 'اصلاحات'\n",
            " 'غذاء الأمن السيولة تعليم' 'زجاج-ادوية-مال' 'yes' 'الصحة' 'دواء'\n",
            " 'الغذاء السيولة مأوى' 'شبابيك' 'تصليح الشبابيك'\n",
            " 'مواد غذائية/ مواد التنظيف' 'حليب اطفال' 'Services' 'الأمن السيولة غذاء'\n",
            " 'نعم' 'Tosli7 l2zez ' 'Food ' 'Shelter' 'Foods ' 'Hdksme' 'Maintenance '\n",
            " 'دواء، تصليح المأوى' 'اكل أجار ' 'food' 'Medication' 'food and water'\n",
            " 'Furniture ' 'تصليح المنزل' 'عفش' 'renovation of house ' 'منزل و عفش'\n",
            " 'Financial help' 'سيوله' 'Housing/ medication /food '\n",
            " 'Cash/medication/food' 'Housing / cash money ' 'زجاج ' 'تصليح البيت'\n",
            " 'تصليحات' 'تصليح سيارة' 'Electronics' 'Fixing' 'Medication ' 'مصاري'\n",
            " 'اكل مصاري ' ':' 'repair' 'Medicine ' 'Housing ' 'المدخل'\n",
            " 'Housing/food/medication' 'House fixing' 'كهرباء'\n",
            " 'Housing /food /cash money ' 'Reconstructing their home' 'شبابيك و ابواب'\n",
            " 'اكل' 'Shelters ' 'استقرار وأمان' ' ماوى' 'home repair' 'دوا'\n",
            " 'akl w tosli7at' 'اجار البيت والتغذية' 'Shelter repair' 'money' 'لاشيء'\n",
            " 'الدواء' 'اجار ادوية' 'نقود' 'Cash( rent payment), hygiene , clothes'\n",
            " 'Repairing house' 'اجار السکن' 'Kahraba' 'سيولة ' 'لا يوجد '\n",
            " 'ادوية ضنان سيولة' 'ألأكل' 'سيولة' 'Food, baby diapers...' 'Masare'\n",
            " 'غذاء' 'Kahraba ' 'Money ' 'Medicament' 37623 'Clothes'\n",
            " 'Repair carband home' 'Shelter ' 'Windows, food' 'مواد عذائية' 'Windows'\n",
            " 'تأمين فرصة عمل' 'Food حليب' 'Hdjsns' 'غذاء ' 'بيت' 'مواد تنظيف' 'Akel'\n",
            " 'لت شىء' 'دواء ومواد غذائية' 'الأجار' ' ,food,medicaments,money' 'Gas '\n",
            " 'مصروف' 'الادوية' 'Doors' 'Repair ' 'Medications' 'دواء ' 'Rent '\n",
            " 'Damage' 'Means of transportation' 'No electricity' 'Repair damage'\n",
            " 'Msare' 'madecine' 'تصليح ، ادوية' 'Shelter repairs' 'Tozbit l bayt'\n",
            " 'Dawa' 'في المنزل' 'الدواء ' 'مواد اساسية' 'Glass' 'عفش البيت'\n",
            " 'مواد عذاءيه' 'مدخول شهري' 'التالية' 'مواد غذائية، ' 'Wood ' 'التالية '\n",
            " 'اعاشات' 'ترميم المنزل،غسالة، تلفزيون، ادوية' 'ترميم بيت'\n",
            " 'المواد الغذائية' 'اكل و ادوية' 'ادوية ومواد غذائية, حفاضات'\n",
            " 'Milk for babies' 'ترميم للبيت، مواد غذائية، غسالة' 'لا مشكلة'\n",
            " 'تعديل الزجاج' 'Chemo medicine' 'ادوية مساعدة مادية' 'ادوية مدخول'\n",
            " 'ادوية زجاج خشب' 'ادوية وادوات تنظيف' 'زجاج' 'زجاج و خشب و مياه'\n",
            " 'كهرباء ']\n",
            "-------------------------NUMBER OF MISSING VALUES----------------------------------\n",
            "31508\n",
            "-------------------------PERCENT OF MISSING VALUES---------------------------------\n",
            "0.9822001932728577\n"
          ],
          "name": "stdout"
        }
      ]
    },
    {
      "cell_type": "code",
      "metadata": {
        "id": "gTTP5cu4Z2ZJ",
        "colab": {
          "base_uri": "https://localhost:8080/"
        },
        "outputId": "642994e9-666f-45e8-9a0a-3ffed0150d94"
      },
      "source": [
        "inspect(\"First priority\")\n",
        "#Make lower"
      ],
      "execution_count": null,
      "outputs": [
        {
          "output_type": "stream",
          "text": [
            "------------------------------PRINT ALL AND TYPE-----------------------------------\n",
            "0         NaN\n",
            "1         NaN\n",
            "2         NaN\n",
            "3         NaN\n",
            "4         NaN\n",
            "         ... \n",
            "32074    Cash\n",
            "32075    Food\n",
            "32076    Cash\n",
            "32077    Cash\n",
            "32078    Cash\n",
            "Name: First priority, Length: 32079, dtype: object\n",
            "-------------------------------UNIQUE VALUES---------------------------------------\n",
            "[nan 'None' 'Cash' 'Shelter_Repairs' 'Medication' 'Food' 'Medical_care'\n",
            " 'Other' 'Drinking_water' 'Shelter' 'Electricity' 'Income/livelihood'\n",
            " 'Hygiene_Kit'\n",
            " 'Care_for_familiy_members_with_special_needs_(e.g._children,_elders,_people_with_disabilities_or_chronically_ill,_pregnant_and_lactating_women)'\n",
            " 'Bedding/blankets' 'Toilets' 'Clothes'\n",
            " 'Information_on_how_aid_is_provided' 'Bedding/Blankets' 'Education'\n",
            " 'MEdication' 'Income/Livelihood' 'Drinking_Water' 'food']\n",
            "-------------------------NUMBER OF MISSING VALUES----------------------------------\n",
            "2208\n",
            "-------------------------PERCENT OF MISSING VALUES---------------------------------\n",
            "0.06883007575049098\n"
          ],
          "name": "stdout"
        }
      ]
    },
    {
      "cell_type": "code",
      "metadata": {
        "id": "TAtGdBjMaEyT",
        "colab": {
          "base_uri": "https://localhost:8080/"
        },
        "outputId": "7875fa25-d9af-4a7c-ad1e-8368a63cb8b4"
      },
      "source": [
        "inspect(\"Please specify\")"
      ],
      "execution_count": null,
      "outputs": [
        {
          "output_type": "stream",
          "text": [
            "------------------------------PRINT ALL AND TYPE-----------------------------------\n",
            "0        NaN\n",
            "1        NaN\n",
            "2        NaN\n",
            "3        NaN\n",
            "4        NaN\n",
            "        ... \n",
            "32074    NaN\n",
            "32075    NaN\n",
            "32076    NaN\n",
            "32077    NaN\n",
            "32078    NaN\n",
            "Name: Please specify, Length: 32079, dtype: object\n",
            "-------------------------------UNIQUE VALUES---------------------------------------\n",
            "[nan 'Psychology ' 'Kid_Necessity' 'Glass' 'Household_Items'\n",
            " 'Medications: gentle relief/ chondrovital/ calcium 600 mg/ aspirin avenzor 81 mg/magnesal plus/ diclo-neurobion'\n",
            " 'Education' 'Rent' 'Cancer' 'Emigration' 'Hearing aids' 'Migration'\n",
            " 'Earpiece' 'Security' 'Other' \"They can't paid the rent\" 'حفاضات ' 'None'\n",
            " 'Job vacancy' 'Baby milk diapers' 'milk and diapers' 'Nothing ' 'Nothing'\n",
            " 'He needs nothing ' 'No need' 'Baby kits' 'School payments'\n",
            " 'Cash for schools' 'الولادة' 'لا شيء' '.' 'مشكلة مزمنة في العين' '0'\n",
            " 'مدارس' 'Rent fees' 'Milk for the baby' 'University fees' ' nothing'\n",
            " '0000' '000' '00' 'All good' 'ايجار البيت' 'حليب حفاضات ' 'حليب حفاضات'\n",
            " 'Immigration' 'No needs' 'Car repairing' ' house rent'\n",
            " 'Milk and diapers for baby of 9months'\n",
            " 'Medication for epilepsy (baby 7months)' 'Diapers and milk' 'Schools'\n",
            " 'Education for children' 'Education for the children' 'Children uses'\n",
            " 'School for the child in the house' 'ايجار ' 'ايجا البيت' 'ايجار المنزل '\n",
            " 'ايجار' 'فواتير ماي بلديه' 'nothing' 'حليب للأطفال و حفاضات'\n",
            " 'Job vacancy (civil engineering)' 'House rent' 'School equipments '\n",
            " 'School for children' 'Traveling' ' .' 'ايجار منزل '\n",
            " 'بحاجة لاشتارك لداسه اخوها و عمل اخيها الاونلاين و الكهربا بحالة شبه دائما مقطوعه'\n",
            " 'مكسور ايجار منزل ٦ اشهر ' 'حفاض و حليب' 'ايجار و اشتراكات'\n",
            " 'They have no needs' 'Education for the kids. ' 'Job'\n",
            " 'Diapers for elderly ' ' 0' 'Car repair'\n",
            " 'His partner in home is syrian and has no personal documents'\n",
            " 'Education for the daughter' 'To pay the rent' 'كل شيء' 'برداية' 'الغاز'\n",
            " 'Girl,s school'\n",
            " 'Fix Fridge and Washing Machine that was ruined from the explosion'\n",
            " 'حليب وحفضات' 'حفضات وحليب' 'None ' 'Education ' 'Television'\n",
            " 'Diapers/ milk' 'Work for the husband'\n",
            " 'Education (school) for their small boys' 'A job ' 'Finding a job'\n",
            " 'School and books' 'Nothing specific'\n",
            " 'اعطاء المساعدات لناس تستحق المساعده اكثر من اصحاب البناء '\n",
            " 'الهجره الى بلد اخر' 'Milk and couche' 'Milk and pampers' 'Milk for baby'\n",
            " 'Rent fees for his wife' 'Electricity fees' 'Refuse to answer'\n",
            " 'Giving birth' 'Work' 'Diapers' 'Apartment rent'\n",
            " 'Apartment rent and clothes' 'حفاضات حليب' 'سفر'\n",
            " 'milk for kids, oil, beans' 'Dont need ' 'Diapers and baby milk'\n",
            " 'Diapers milk' 'Diapers milk for kids' 'Renting fees'\n",
            " 'Diapers and milk (nursey 2)' 'حفاضات' 'Nothing specific ' 'العمل' 'عمل'\n",
            " 'Diapers and milk for a year old' 'Cash for rent' 'Milk,diapers'\n",
            " 'Milk and diapers' 'Water tank' 'college' 'طرش البيت' 'مال' 'Diaper'\n",
            " 'Mortgage' 'Waer tank repair' 'Cash for school' 'Kitchen stuff'\n",
            " 'Rental price for house' 'تأمين وظيفة لرجل في ال ٥٠ من عمره'\n",
            " 'Psychological support' 'Washer machine' 'Baby milk and diapers'\n",
            " 'Baby needs' 'Dollars to send to their parents back home'\n",
            " 'Education fees for kids' 'سفر وهجره' 'Rent payment' 'Education fees'\n",
            " 'School costs' 'Health insurance' 'School costs for kids' 'Any'\n",
            " \"Kids' education\" 'Furniture' 'Baby diapers and milk' 'Baby kit'\n",
            " 'Rent in dollars' 'بحاجة الى معيل ' 'Nursey milk for the baby,diapers'\n",
            " 'Non' 'School fees' 'Baby supply' 'براد ' 'ادوات كهربائية'\n",
            " 'ادوات كهربائية و عفش' 'تلفاز وادوات كهربائية' 'Women hygiene'\n",
            " 'مسقفات البلدية' 'Work ' 'Gaz' 'Car repairs '\n",
            " 'براد ، tv, laptop, microwave' 'University' 'Cash for repaired shelter'\n",
            " 'Aptamil 3,diapers for baby' 'Washer machin'\n",
            " 'Computer for the online studying' 'اقساط المدارس'\n",
            " 'الرعاية الصحية و المعيشية لصاحب الإستمارة'\n",
            " 'اجراء عملية جراحية لرب الأسرة' 'Baby formula and diappers' 'Bo need'\n",
            " 'دفع الأجار' ' غير متوفر' 'قسط المنزل' 'School for son'\n",
            " 'Cash for education' 'Hearing device for her ears' 'Education University'\n",
            " 'Milk' 'Water Tank ' 'Children school needs' 'Children needs for school'\n",
            " 'Nursie 2 ,diapers' 'Diapers,milk  for new born' 'Dipers' 'School stuff'\n",
            " 'Children needs' 'Kid_Necessities' 'Computers' 'PPE' 'Kitchen Supplies'\n",
            " 'Psycosocial' 'House_Supplies' 'Transportation_Repair' 'Food' 'Insurance'\n",
            " 'Shelter' 'Medication' 'Cash' 'Tuition' 'Electricity' 'Travel'\n",
            " 'Shelter Repairs' 'Hygiene Kit' 'Doors' 'Aluminum' 'For the house '\n",
            " 'May be needed in the future ' 'Transportation' 'Rental fees' 'التعليم'\n",
            " 'Educatin fees' 'Education for kids' 'No neef' 'تعليم' 'Child needs'\n",
            " 'Children needsi' 'Info on the explosion' 'Repairs' 'تكاليف مدرسية'\n",
            " 'حفاضات و حليب' 'هجره' 'Milk and diapers ' 'وسائل التعلم عن بعد'\n",
            " 'بحاجة لعملية جراحية' 'Food for the baby' 'Milkd' 'للتعليم' 'لا شي '\n",
            " 'اوكسجين ' '٠' 'Psychological aid' 'No need ' 'اجار البيت'\n",
            " 'Special food for her so who has a physical disability. ( Milk, Castard, Corn Flakes )'\n",
            " 'Children needs ' 'Home appliances' 'Home fourniture' 'اجار المنزل'\n",
            " 'حليب للولاد' 'Na' 'تعويضات التصليحات بسبب الانفجار'\n",
            " 'Milk and diapers for baby' 'قسط الجامعة' 'حفاضات، حليب...'\n",
            " 'Psychological support for children' 'قسط البيت' 'دفع مستحقات المنزل'\n",
            " 'التعويضات' 'حليب' 'تعويض الأضرار' 'تعويض الضرر الذي تم اصلاحه'\n",
            " 'Universities' 'House rent ' 'House rental' 'المدارس' 'تعويض التصليح'\n",
            " 'حليب الأطفال']\n",
            "-------------------------NUMBER OF MISSING VALUES----------------------------------\n",
            "30320\n",
            "-------------------------PERCENT OF MISSING VALUES---------------------------------\n",
            "0.9451666199071044\n"
          ],
          "name": "stdout"
        }
      ]
    },
    {
      "cell_type": "code",
      "metadata": {
        "id": "mF_jbUyzaHbA",
        "colab": {
          "base_uri": "https://localhost:8080/"
        },
        "outputId": "ed516fb9-6618-4a8a-e5c7-a760684659e4"
      },
      "source": [
        "inspect(\"Second priority\")"
      ],
      "execution_count": null,
      "outputs": [
        {
          "output_type": "stream",
          "text": [
            "------------------------------PRINT ALL AND TYPE-----------------------------------\n",
            "0                    NaN\n",
            "1                    NaN\n",
            "2                    NaN\n",
            "3                    NaN\n",
            "4                    NaN\n",
            "              ...       \n",
            "32074               Food\n",
            "32075    Shelter_Repairs\n",
            "32076               Food\n",
            "32077         Medication\n",
            "32078               Food\n",
            "Name: Second priority, Length: 32079, dtype: object\n",
            "-------------------------------UNIQUE VALUES---------------------------------------\n",
            "[nan 'None' 'Hygiene_Kit' 'Medication' 'Medical_care' 'Food'\n",
            " 'Shelter_Repairs' 'Cash' 'Other'\n",
            " 'Care_for_familiy_members_with_special_needs_(e.g._children,_elders,_people_with_disabilities_or_chronically_ill,_pregnant_and_lactating_women)'\n",
            " 'Electricity' 'Income/livelihood' 'Drinking_water' 'Shelter' 'Clothes'\n",
            " 'Information_on_how_aid_is_provided' 'Bedding/blankets' 'Education'\n",
            " 'Toilets' 'Medical_Care' 'Drinking_Water' 'electricity' ' '\n",
            " 'Electricity ']\n",
            "-------------------------NUMBER OF MISSING VALUES----------------------------------\n",
            "2473\n",
            "-------------------------PERCENT OF MISSING VALUES---------------------------------\n",
            "0.07709093176221204\n"
          ],
          "name": "stdout"
        }
      ]
    },
    {
      "cell_type": "code",
      "metadata": {
        "id": "DOexJmvvaKtH",
        "colab": {
          "base_uri": "https://localhost:8080/"
        },
        "outputId": "bd79bcca-56ad-4aaf-a897-3960ff35d4f0"
      },
      "source": [
        "inspect(\"Please specify5\")"
      ],
      "execution_count": null,
      "outputs": [
        {
          "output_type": "stream",
          "text": [
            "------------------------------PRINT ALL AND TYPE-----------------------------------\n",
            "0        NaN\n",
            "1        NaN\n",
            "2        NaN\n",
            "3        NaN\n",
            "4        NaN\n",
            "        ... \n",
            "32074    NaN\n",
            "32075    NaN\n",
            "32076    NaN\n",
            "32077    NaN\n",
            "32078    NaN\n",
            "Name: Please specify5, Length: 32079, dtype: object\n",
            "-------------------------------UNIQUE VALUES---------------------------------------\n",
            "[nan 'Security' 'Medications' 'First Aid' 'Adult diapers' 'psychological '\n",
            " 'Kid_Necessity' 'Plumbing' 'Rent of the house' 'Rent' 'Hearing aids'\n",
            " 'Household_Items' 'School and books ' 'None' 'School' 'قرض'\n",
            " 'دفع اقساط المدرسة' 'AC air condtion' 'Nothing ' 'Noth8ng' '.'\n",
            " 'Needs nothing ' '0' 'No need' 'Job' 'Nothing' 'لا شيء' 'Education'\n",
            " 'NOTHING' 'Rent fees' '00000' '000' '0000' 'Fix shattered glass' 'tv'\n",
            " 'glass' 'Fan' 'No needs' 'Fridge' 'Milk and diapers' 'Baby milk/diabers'\n",
            " 'Milk 4 year old girl' 'Not in need of anything specific'\n",
            " 'Nothing specific' 'Other' 'No' 'اعانة اهله الضررين '\n",
            " 'Cleaning equipement' 'nothing' '٠' 'Migration' 'اجار المنزل' 'Renting'\n",
            " 'قسط الدراسه' 'Na' 'Fixing the doors ' 'Tv ' 'ايجار فواتير ' 'House rent'\n",
            " 'ايجار منزل' 'Pay school fees' 'washing machine' 'Nonen' 'لا شيء '\n",
            " 'Rent fees '\n",
            " 'Education for the boy 12 years old/ Sister also is handicapped '\n",
            " 'No Home supplies ' 'لا شئ' 'اغراض اطفال' 'اجار البيت' 'Work'\n",
            " 'No ,more needw' 'Medication for his wife and mother' 'Baby formula'\n",
            " 'Diapers' 'Emigration' 'Electronics for home schooling'\n",
            " 'Education: school fees' 'None ' 'Loan ' 'Nobe' 'سفر وهجرة' 'Milk'\n",
            " 'Education ' 'Diapers and baby formula' 'Refuse to answer'\n",
            " 'Anything for the 2 children - school clothes books...' 'Milk and dipers'\n",
            " 'حليب اطفال' 'تعليم اطفالهم' 'Diapers and milk' 'Children needs' 'لا شيئ'\n",
            " 'vitamins for kids, face masks ' 'حفاضات و حليب'\n",
            " 'Milk for the young children' 'No specific need' 'Tuition for school'\n",
            " 'Diappers and baby formula milk' 'مدرسة الاولاد' 'School tuition'\n",
            " 'Home supplies' 'Baby products' 'Bills' 'Khezzen may' 'Lunette'\n",
            " 'في الخارجية يوجد شادر بحاجة الى اعادة تصليح او اعمار سقف جديد بسبب حاجة صاحب الأسرة الى مساحة الخارجية لضروراته الخاصة '\n",
            " 'Schools' 'Child needs' 'Any type of work' 'No more needs' 'Cash rent'\n",
            " 'Non' 'Furniture' 'Vaccination for baby'\n",
            " 'Milk for his daughter : 4 years' 'Clothes for baby' 'Baby kit'\n",
            " 'Rent cash' 'Cancer patient. Needs hospitalization' 'University fees'\n",
            " 'ادوات كهربائية' 'فرن' 'Food medication' ' Refregirator and ghassale'\n",
            " 'ادوات كهربائية و عفش' '-' 'Home appliances' 'Washing machine'\n",
            " 'شادر للسقف' 'House hardware' 'فرن غاز' 'أقساط الجامعة' 'Shelter cash'\n",
            " 'طعام وحليب للاطفال وحفاضات ' 'Laptop' 'School fees ' 'Cleaning material'\n",
            " 'Home rental ' 'تصليح السيارة العمومية' 'حفاضات وحليب للأطفال'\n",
            " 'Curtains ' 'Financial aids' 'no' 'حليب وحفاضات لولد عمره سنة '\n",
            " 'Baby milk and diapers' 'دفع للمدارس' 'Baby formula and diappers'\n",
            " 'Cash for rent' 'Milk for the baby' 'غير متوفر' 'قسط السيارة '\n",
            " 'School for daughter' 'TV' 'Child Needs' 'No need ' 'School fees'\n",
            " 'Diapers for her son' 'Renting fees' 'Dipers' 'School supplies'\n",
            " 'Water motor' 'Cash money for school' 'Devices for online education'\n",
            " 'Foren' 'Nothint' 'children needs' 'Kids_Items' 'Insurance' 'Electricity'\n",
            " 'Food' 'Medication' 'Cash' 'House_Supplies' 'shelter'\n",
            " 'Transportation_Repair' 'Psycosocial' 'Shelter Repairs' 'Drinking_water'\n",
            " 'PPE' 'Furniture_Transport' 'Diesel' 'Transportation' 'Water'\n",
            " 'Bedding/blankets' 'ثياب للولد-' 'Plastic sheets ' 'مساعده جامعيه'\n",
            " 'مدارس' 'تعليم' 'Children needs ' 'Info' 'Diappers and milk'\n",
            " 'Milk and diapers for the infant' 'Nthn' 'Education fees'\n",
            " 'Milk and diapers for the baby'\n",
            " 'food for little kids milk bledina and diapers' 'Electronics' 'Couches'\n",
            " 'مستلزمات للبيت اثاث منزل' 'لا شي ' 'urgent surgery' 'TV, REFRIGERATOR'\n",
            " 'عفش' 'Medications livepran,aspicol' 'Baby formula and diapers' 'work'\n",
            " 'حفاضات وحليب' 'Computer ' 'School needs' 'التعليم' 'Ghaseli'\n",
            " 'حليب و حفاضات للاطفال' 'fridge' 'Walker for a special case person'\n",
            " 'School things' 'مفصل كتف مستعار ' 'Tv' 'قرطاسية لوازم الonline'\n",
            " 'psychologist' 'مستلزمات مولود جديد' 'House rental' 'baby dippears'\n",
            " 'cancer medicine' ' Nothing' 'قسط الجامعة' 'Refrigerator and tv'\n",
            " 'Legal papers' 'المدارس' 'Couche' 'furniture and home appliances'\n",
            " 'Milk for kids' 'Baby milk and dipears' 'Bed and matresses ' 'farch bet'\n",
            " 'farech bet' 'Helper fees' 'Milk for the kids']\n",
            "-------------------------NUMBER OF MISSING VALUES----------------------------------\n",
            "29937\n",
            "-------------------------PERCENT OF MISSING VALUES---------------------------------\n",
            "0.9332273449920508\n"
          ],
          "name": "stdout"
        }
      ]
    },
    {
      "cell_type": "code",
      "metadata": {
        "id": "NjdxsmOSaM4h",
        "colab": {
          "base_uri": "https://localhost:8080/"
        },
        "outputId": "056e0cbc-39f0-4775-9357-2253b81470f7"
      },
      "source": [
        "inspect(\"Third priority\")"
      ],
      "execution_count": null,
      "outputs": [
        {
          "output_type": "stream",
          "text": [
            "------------------------------PRINT ALL AND TYPE-----------------------------------\n",
            "0                 NaN\n",
            "1                 NaN\n",
            "2                 NaN\n",
            "3                 NaN\n",
            "4                 NaN\n",
            "             ...     \n",
            "32074     Hygiene_Kit\n",
            "32075     Electricity\n",
            "32076     Hygiene_Kit\n",
            "32077    Medical_care\n",
            "32078     Hygiene_Kit\n",
            "Name: Third priority, Length: 32079, dtype: object\n",
            "-------------------------------UNIQUE VALUES---------------------------------------\n",
            "[nan 'None' 'Income/livelihood' 'Food' 'Electricity' 'Medication'\n",
            " 'Medical_care' 'Cash' 'Drinking_Water' 'Hygiene_Kit' 'Shelter_Repairs'\n",
            " 'Other' 'Bedding/blankets' 'Drinking_water'\n",
            " 'Care_for_family_members_with_special_needs_(e.g._children,_elders,_people_with_disabilities_or_chronically_ill,_pregnant_and_lactating_women)'\n",
            " 'Information_on_how_aid_is_provided' 'Clothes' 'Shelter' 'Education'\n",
            " 'MEdical_Care' 'Medical_Care'\n",
            " 'Care_for_familiy_members_with_special_needs_(e.g._children,_elders,_people_with_disabilities_or_chronically_ill,_pregnant_and_lactating_women)'\n",
            " 'Toilets' 'food' 'cash' 'Medication ' 'Food ' 'Cash ' ' Cash'\n",
            " 'medication' 'Clothes ' 'clothes' 'food ']\n",
            "-------------------------NUMBER OF MISSING VALUES----------------------------------\n",
            "2782\n",
            "-------------------------PERCENT OF MISSING VALUES---------------------------------\n",
            "0.08672340160229433\n"
          ],
          "name": "stdout"
        }
      ]
    },
    {
      "cell_type": "code",
      "metadata": {
        "id": "CZ_94Z0caPwF",
        "colab": {
          "base_uri": "https://localhost:8080/"
        },
        "outputId": "cb673383-757d-4fe9-aa33-a08261ce3d00"
      },
      "source": [
        "inspect(\"Please specify6\")"
      ],
      "execution_count": null,
      "outputs": [
        {
          "output_type": "stream",
          "text": [
            "------------------------------PRINT ALL AND TYPE-----------------------------------\n",
            "0        NaN\n",
            "1        NaN\n",
            "2        NaN\n",
            "3        NaN\n",
            "4        NaN\n",
            "        ... \n",
            "32074    NaN\n",
            "32075    NaN\n",
            "32076    NaN\n",
            "32077    NaN\n",
            "32078    NaN\n",
            "Name: Please specify6, Length: 32079, dtype: object\n",
            "-------------------------------UNIQUE VALUES---------------------------------------\n",
            "[nan 'Kid_Items' 'Household_Items' 'Kid_Necessity'\n",
            " 'Medications: gentle relief/ chondrovital/ calcium 600 mg/ aspirin avenzor 81 mg/magnesal plus/ diclo-neurobion'\n",
            " 'Glasses' 'School' 'food and income ( very old people in need ) '\n",
            " 'Dog food' 'Glass for the window ' 'Rent' 'Asthma spray' 'Oxygen machine'\n",
            " 'Diapers for elderly ' 'Pampers' 'Open Heart Child ' 'Psycological'\n",
            " 'Fuel' 'Shcool' 'Internet' 'اشتركات' 'None'\n",
            " 'Repairing the kitchen and toilet' 'none' 'kids necessities'\n",
            " 'a larger water tank' 'حليب اطفال' 'حفاضات و حليب' 'قرض' 'حليب'\n",
            " 'رعاية ولدنا' 'Nothing ' 'stationnery school' 'school' 'Nothing' '.'\n",
            " 'لم يتم التحديد' '0' 'No need' 'اقساط جامعية' 'لا شيء' 'NOTHING'\n",
            " ' nothing' '0000' '000' 'Psychologist' 'تامين الايجار '\n",
            " 'Windows and doors repairing' 'Baby kits' 'Milk and diapers' 'Na'\n",
            " 'Travel (applied for visa to Brasil)' 'No needs' 'Car fixing'\n",
            " 'حليب حفاضات' 'Milk and couches' 'Milk' 'وظيفة' 'عمل'\n",
            " 'أقساط و مدفوعات للشقة و للسيارة' 'فقط طعام و شراب' 'None '\n",
            " 'Nothing specific' 'Nothing specific ' 'Other' 'School tuitions' 'ايجار '\n",
            " 'nothing' '٠' 'Sanitation works' 'Diapers, milk...' 'Education'\n",
            " 'تكاليف المدرسة' 'No another needs' 'No other needs'\n",
            " 'She doesnt have any more needs' 'ايجار البيت' 'حفاضات و حليب '\n",
            " 'اصلاح الاجزاء المتضرره من المنزل قبل الشتاء' 'Job for wife'\n",
            " 'TV / public water ' 'اصلاح الأضرار في المحل التابع له ' 'House rent'\n",
            " 'Diapers and baby food' 'TV' 'ايجار المنزل' 'School tuition fees'\n",
            " 'Immigration for other countries' 'Help for education' 'Cleaning kit'\n",
            " 'They need diapers and food for their babies' 'tv' \"Baby's kit\"\n",
            " 'مساعدات خاصة بالحمل ' 'Diapers and milk'\n",
            " 'Diapers and formula milk for the infant' 'Education for children'\n",
            " 'Milk and diapers for enfants' 'Psychological ' 'Rent fees'\n",
            " ' univerisity fees' 'Baby milk and diapers' 'Baby milk diapers'\n",
            " 'Expecting a kid soon' 'Finding a job' 'House expenses'\n",
            " 'TV/ public water' 'تنظيفات' 'تنظيف' 'لا شئ' 'school '\n",
            " 'Education for the kids' 'لوازم اطفال' 'Cash and psychological aid'\n",
            " 'عملية ماء زرقاء' 'Cash and food' 'Shop rental' 'Elecricity fees'\n",
            " 'Education ' 'Food' 'Job' 'X' 'بحاجة ضرورية الى اقسط مدارس وكتب'\n",
            " 'Furniture' 'Milk for babies' 'Home equipments' 'school tuition'\n",
            " 'Her mom`s insurance' 'ايجار و دين' 'diapers and child needs'\n",
            " 'Tanks reservoir' 'Money for college and school fees'\n",
            " 'Milk and dipers for babies'\n",
            " 'rented car. it reqiures money to repair it and pay for its rent.'\n",
            " 'School tuitions ' 'Milk and pampers for kids' 'Loan of university'\n",
            " 'Milk and pampers' 'حليب و حفاضات' 'حليب حفاضات ' 'علاج فزيائي '\n",
            " 'Milk and diapers for the infant' 'Refuse to answer'\n",
            " 'Job for the daughter 29' 'Roof' 'Diapers' 'حفاضات' 'Diapers ' 'Work'\n",
            " 'Reuniting with his family in turkey' 'حفوضة اطفال'\n",
            " 'Milk and diapers for epeliptic child. Five years old'\n",
            " 'Diapers and milk for enfants' 'Milk for 3 years old kid' 'حفضات '\n",
            " 'حفضات' 'كاش' 'persil, cleaning supplies ' 'Milk for kids' 'Nothing more'\n",
            " 'Cash for rent' 'School fees' 'No more needs'\n",
            " 'رب الأسرة هو رجل دين و يقوم بمساعدة غيره بحسب قوله'\n",
            " 'رب الأسرة بحاجة الى عمل لإعالة أسرته' 'Milk and diapers for  the infant'\n",
            " 'Diapers and milk for a one year old' 'Diapres and milk' 'Shcool fees '\n",
            " '“fi aalam bi haje aktar”' 'Patient use pumpers' 'اجار بيت'\n",
            " \"Psychological support for her youngest daughger, she's unable to speak or communicate after her father's death\"\n",
            " 'Medication not found in lebanon: epilepsia for her son' 'Adawet tondif'\n",
            " '3amalie la 3ayna tres urgent may zar2a' 'Lavix, concor 2.5'\n",
            " 'Education for the 4 children who has no access to any school whatsoever'\n",
            " 'Job Opportunities ' 'Jobs' 'اصلاح واجهة زجاجية كبير للمنزل'\n",
            " 'المدارس للأطفال' 'DIapers for the enfent' 'Daipers for the infants'\n",
            " 'Adult diapers' 'Child needs' 'School furniture ' 'Migration' 'Non'\n",
            " 'Wheel chair' 'Everything' 'Car repairs' 'No' 'Education for the kids.'\n",
            " 'Anything' 'House rent and food' 'Diapers for elderly' ' none' 'Schools'\n",
            " 'Home products' 'Kids care to let them happy games ...'\n",
            " 'Diapers and milk for the infants' 'education fees'\n",
            " 'Hygiene kit and blankets' 'Tv' 'PSS' 'Water tank' 'ادوات كهربائية'\n",
            " 'Immigration' '-' 'Furnace' 'Milk for infant' 'Nothung' 'School funds'\n",
            " 'Infant formula and diapers' 'غسالة' 'Children needs'\n",
            " 'Child school costs' 'Fan and television' 'Physical Therapy'\n",
            " 'Cleaning detergents ' 'Electronics (elet daghet, elet l sekkare tv..)'\n",
            " 'Opperation for the head at hospital khoury cost :21000000' 'Cleaning'\n",
            " 'غسالة ومكيفات' 'Fridges ' 'no' 'Electronics, fridge ' 'Life insurance'\n",
            " 'Lorvast 20ml,tarka 180/2' 'Cleaning products' 'House hardware' 'Nothong'\n",
            " 'Farech and chedir' 'بدل التصليحات ' 'تصليح المحل الخاص بهم'\n",
            " 'اصلاح المحل الخاص بالعائلة ' 'Food and hygien kit' 'فرن/خزانة/تخت.'\n",
            " 'Milk for baby' 'غير متوفر'\n",
            " 'Diapers for disabled woman caused by a stroke'\n",
            " 'Tablet or phone for the kids to study online'\n",
            " 'Milk and diapers for the children' 'Diapers and milk for the infant'\n",
            " 'To find a job opportunity for Fadi a 50 years old male with no job with experience pastry and kitchen'\n",
            " 'Milk and diapers for baby'\n",
            " 'They need to leave the country as soon as possible' 'Cash for rent ,'\n",
            " 'Cash for education' 'Electricity,hygiene kit.cash' 'Migrarion'\n",
            " 'Access To Medication ' 'Dipers' 'Rent, Food, Cash' 'Cash rent'\n",
            " 'Plumbing' 'Children_Items' 'Transportation_Repair' 'Insurance'\n",
            " 'Drinking_Water' 'Bills' 'Security' 'College' 'PPE' 'Windows' 'Glass'\n",
            " 'Doors' 'Medical Care' 'Travel' 'Secondary needs' 'Debt'\n",
            " 'Kitchen_Supplies' 'Shelter_Repair' 'Hygiene Kit' 'Clothes'\n",
            " 'Water Heater' 'Raw Material' 'Bedding/blankets' 'Wood' 'اجار المنزل'\n",
            " 'diapers' 'مفروشات المنزل' 'milk and diapers' 'تعليم'\n",
            " 'Children school needs' 'Hygien kit,cash money' 'Info' 'Na '\n",
            " 'Milk and diapers for the infants' 'Cash , livelyhood'\n",
            " 'Laptob for edcational purposes' 'Nghn' 'Washing machine' 'Detergents'\n",
            " 'لا يوجد ' 'baby things' 'اجار السيارة' 'العمل' 'Cover for the balcony'\n",
            " 'Living room' 'Dentist fees' 'ستائر للشرفة' 'University' 'لا شي '\n",
            " 'تعليمي' 'tozbit l hemmem w taresh w dhen ' 'Depakin crono,revotrid'\n",
            " 'Food and milk' 'Chairwheel and holding stick' 'Urgent : اجار بيت'\n",
            " 'مدخول شهري' 'Eduction' 'طلب هجرة' 'تعوض اصلاحات المنزل' 'School needs'\n",
            " 'Ghaz' 'احتياجات الابناء' 'electronics' 'ادوات كهربائية ، اثاث منزل'\n",
            " 'Ghaseli' 'تأمين المياه' 'Care severe injuries' 'نفقات عملية قريبة'\n",
            " 'Psychological support' 'baby food' 'التعليم' 'Nationality'\n",
            " 'تعويض التصليحات' 'Eduction ' 'عملية ضرورية' 'Eye surgery'\n",
            " 'Diapers for oldies' 'Education fees' 'قسط مدرسي' 'Milk and dipears'\n",
            " 'Dipears and milk' 'Bed' '3afech bet' 'House rent fees' 'المدارس']\n",
            "-------------------------NUMBER OF MISSING VALUES----------------------------------\n",
            "30644\n",
            "-------------------------PERCENT OF MISSING VALUES---------------------------------\n",
            "0.9552666853704916\n"
          ],
          "name": "stdout"
        }
      ]
    },
    {
      "cell_type": "markdown",
      "metadata": {
        "id": "omIFQcNQW2KN"
      },
      "source": [
        "# HOUSE DAMAGE / CONDITION"
      ]
    },
    {
      "cell_type": "markdown",
      "metadata": {
        "id": "pynFf-wqZzPK"
      },
      "source": [
        "## Variable 66: How many apartments are on the same floor? "
      ]
    },
    {
      "cell_type": "code",
      "metadata": {
        "id": "P6-7oRnsakRV",
        "colab": {
          "base_uri": "https://localhost:8080/",
          "height": 659
        },
        "outputId": "64fc5b59-5cc9-4a01-ce81-70418fd52739"
      },
      "source": [
        "inspect(\"How many apartments are on the same floor?\")"
      ],
      "execution_count": null,
      "outputs": [
        {
          "output_type": "stream",
          "text": [
            "------------------------------PRINT ALL AND TYPE-----------------------------------\n",
            "0        2.0\n",
            "1        2.0\n",
            "2        2.0\n",
            "3        1.0\n",
            "4        1.0\n",
            "        ... \n",
            "32074    5.0\n",
            "32075    2.0\n",
            "32076    2.0\n",
            "32077    0.0\n",
            "32078    2.0\n",
            "Name: How many apartments are on the same floor?, Length: 32079, dtype: float64\n",
            "-------------------------------RANGE OF VALUES---------------------------------------\n",
            "MIN 0.0\n",
            "MAX 100002.0\n",
            "-------------------------NUMBER OF MISSING VALUES----------------------------------\n",
            "7198\n",
            "-------------------------PERCENT OF MISSING VALUES---------------------------------\n",
            "0.2243835531032763\n",
            "-------------------------DISTRIBUTION OF VALUES---------------------------------\n"
          ],
          "name": "stdout"
        },
        {
          "output_type": "display_data",
          "data": {
            "image/png": "[encoded data removed]",
            "text/plain": [
              "<Figure size 432x288 with 1 Axes>"
            ]
          },
          "metadata": {
            "tags": [],
            "needs_background": "light"
          }
        }
      ]
    },
    {
      "cell_type": "markdown",
      "metadata": {
        "id": "Pn64YIRSanXq"
      },
      "source": [
        "## Variable 67: Is there a migrant worker or domenstic helper living with this household?"
      ]
    },
    {
      "cell_type": "code",
      "metadata": {
        "id": "q1D1UR_YawMA",
        "colab": {
          "base_uri": "https://localhost:8080/"
        },
        "outputId": "23a1a1f6-63cb-42be-b7f4-f343f484caf2"
      },
      "source": [
        "inspect(\"Is there a migrant worker or domenstic helper living with this household? \")"
      ],
      "execution_count": null,
      "outputs": [
        {
          "output_type": "stream",
          "text": [
            "------------------------------PRINT ALL AND TYPE-----------------------------------\n",
            "0         no\n",
            "1         no\n",
            "2        yes\n",
            "3         no\n",
            "4         no\n",
            "        ... \n",
            "32074     no\n",
            "32075     no\n",
            "32076     no\n",
            "32077     no\n",
            "32078     no\n",
            "Name: Is there a migrant worker or domenstic helper living with this household? , Length: 32079, dtype: object\n",
            "-------------------------------UNIQUE VALUES---------------------------------------\n",
            "['no' 'yes' nan]\n",
            "-------------------------NUMBER OF MISSING VALUES----------------------------------\n",
            "8724\n",
            "-------------------------PERCENT OF MISSING VALUES---------------------------------\n",
            "0.27195361451416816\n"
          ],
          "name": "stdout"
        }
      ]
    },
    {
      "cell_type": "markdown",
      "metadata": {
        "id": "LeaXdy3naoql"
      },
      "source": [
        "## Variable 68: Have you or any household member damaged/lost any personal documents? "
      ]
    },
    {
      "cell_type": "code",
      "metadata": {
        "id": "wrjU1Pzma2mi",
        "colab": {
          "base_uri": "https://localhost:8080/"
        },
        "outputId": "9f9a54c0-edac-485e-bee1-c0e6ab23fd05"
      },
      "source": [
        "inspect(\"Have you or any household member damaged/lost any personal documents?\")"
      ],
      "execution_count": null,
      "outputs": [
        {
          "output_type": "stream",
          "text": [
            "------------------------------PRINT ALL AND TYPE-----------------------------------\n",
            "0        yes\n",
            "1         no\n",
            "2         no\n",
            "3         no\n",
            "4         no\n",
            "        ... \n",
            "32074     no\n",
            "32075     no\n",
            "32076     no\n",
            "32077     no\n",
            "32078     no\n",
            "Name: Have you or any household member damaged/lost any personal documents?, Length: 32079, dtype: object\n",
            "-------------------------------UNIQUE VALUES---------------------------------------\n",
            "['yes' 'no' nan]\n",
            "-------------------------NUMBER OF MISSING VALUES----------------------------------\n",
            "8724\n",
            "-------------------------PERCENT OF MISSING VALUES---------------------------------\n",
            "0.27195361451416816\n"
          ],
          "name": "stdout"
        }
      ]
    },
    {
      "cell_type": "markdown",
      "metadata": {
        "id": "58rtiEhYW9Zs"
      },
      "source": [
        "# INFANTS"
      ]
    },
    {
      "cell_type": "markdown",
      "metadata": {
        "id": "9lU5iW9LaqGc"
      },
      "source": [
        "## Variable 69: Total number of members 0-12 months"
      ]
    },
    {
      "cell_type": "code",
      "metadata": {
        "id": "Wp50HdZma6ye",
        "colab": {
          "base_uri": "https://localhost:8080/",
          "height": 659
        },
        "outputId": "b055245f-98c9-4f59-980c-80ae84c23d93"
      },
      "source": [
        "inspect(\"Total number of members 0-12 months\")"
      ],
      "execution_count": null,
      "outputs": [
        {
          "output_type": "stream",
          "text": [
            "------------------------------PRINT ALL AND TYPE-----------------------------------\n",
            "0        0.0\n",
            "1        0.0\n",
            "2        0.0\n",
            "3        0.0\n",
            "4        0.0\n",
            "        ... \n",
            "32074    0.0\n",
            "32075    1.0\n",
            "32076    0.0\n",
            "32077    0.0\n",
            "32078    0.0\n",
            "Name: Total number of members 0-12 months, Length: 32079, dtype: float64\n",
            "-------------------------------RANGE OF VALUES---------------------------------------\n",
            "MIN 0.0\n",
            "MAX 233.0\n",
            "-------------------------NUMBER OF MISSING VALUES----------------------------------\n",
            "11513\n",
            "-------------------------PERCENT OF MISSING VALUES---------------------------------\n",
            "0.35889522740733815\n",
            "-------------------------DISTRIBUTION OF VALUES---------------------------------\n"
          ],
          "name": "stdout"
        },
        {
          "output_type": "display_data",
          "data": {
            "image/png": "[encoded data removed]",
            "text/plain": [
              "<Figure size 432x288 with 1 Axes>"
            ]
          },
          "metadata": {
            "tags": [],
            "needs_background": "light"
          }
        }
      ]
    },
    {
      "cell_type": "markdown",
      "metadata": {
        "id": "8IknxV75arZs"
      },
      "source": [
        "## Variable 70: Did the children (0-12) receive vaccinations? "
      ]
    },
    {
      "cell_type": "code",
      "metadata": {
        "id": "9EdEzx5ibGLR",
        "colab": {
          "base_uri": "https://localhost:8080/"
        },
        "outputId": "4ff02497-f951-4bc3-ed90-e0876c79f5e4"
      },
      "source": [
        "inspect(\"Did the children (0-12) receive vaccinations?\")"
      ],
      "execution_count": null,
      "outputs": [
        {
          "output_type": "stream",
          "text": [
            "------------------------------PRINT ALL AND TYPE-----------------------------------\n",
            "0        NaN\n",
            "1        NaN\n",
            "2        NaN\n",
            "3        NaN\n",
            "4        NaN\n",
            "        ... \n",
            "32074    NaN\n",
            "32075    yes\n",
            "32076    NaN\n",
            "32077    NaN\n",
            "32078    NaN\n",
            "Name: Did the children (0-12) receive vaccinations?, Length: 32079, dtype: object\n",
            "-------------------------------UNIQUE VALUES---------------------------------------\n",
            "[nan 'yes' 'no']\n",
            "-------------------------NUMBER OF MISSING VALUES----------------------------------\n",
            "31042\n",
            "-------------------------PERCENT OF MISSING VALUES---------------------------------\n",
            "0.9676735559088501\n"
          ],
          "name": "stdout"
        }
      ]
    },
    {
      "cell_type": "markdown",
      "metadata": {
        "id": "yJBZ8KSCbIbO"
      },
      "source": [
        "## Variable 71: Number of children not planning on going to school (despite being school aged)"
      ]
    },
    {
      "cell_type": "code",
      "metadata": {
        "id": "CxG4s9jdbLiE",
        "colab": {
          "base_uri": "https://localhost:8080/",
          "height": 659
        },
        "outputId": "632824eb-671a-457d-dff2-a5d73caf8fa7"
      },
      "source": [
        "inspect(\"Number of children not planning on going to school (despite being school aged)\")"
      ],
      "execution_count": null,
      "outputs": [
        {
          "output_type": "stream",
          "text": [
            "------------------------------PRINT ALL AND TYPE-----------------------------------\n",
            "0        0.0\n",
            "1        0.0\n",
            "2        0.0\n",
            "3        0.0\n",
            "4        0.0\n",
            "        ... \n",
            "32074    0.0\n",
            "32075    0.0\n",
            "32076    0.0\n",
            "32077    0.0\n",
            "32078    0.0\n",
            "Name: Number of children not planning on going to school (despite being school aged), Length: 32079, dtype: float64\n",
            "-------------------------------RANGE OF VALUES---------------------------------------\n",
            "MIN 0.0\n",
            "MAX 4.0\n",
            "-------------------------NUMBER OF MISSING VALUES----------------------------------\n",
            "7121\n",
            "-------------------------PERCENT OF MISSING VALUES---------------------------------\n",
            "0.22198322890364414\n",
            "-------------------------DISTRIBUTION OF VALUES---------------------------------\n"
          ],
          "name": "stdout"
        },
        {
          "output_type": "display_data",
          "data": {
            "image/png": "[encoded data removed]",
            "text/plain": [
              "<Figure size 432x288 with 1 Axes>"
            ]
          },
          "metadata": {
            "tags": [],
            "needs_background": "light"
          }
        }
      ]
    },
    {
      "cell_type": "markdown",
      "metadata": {
        "id": "xu_LdzR1XAvv"
      },
      "source": [
        "# SAFETY"
      ]
    },
    {
      "cell_type": "markdown",
      "metadata": {
        "id": "Kx5Xb57ebNzv"
      },
      "source": [
        "## Variable 72, 73: How has the Beirut explosion affected you and your household? (select all that apply) | Other, please specify7  "
      ]
    },
    {
      "cell_type": "code",
      "metadata": {
        "id": "bQlsG1flbVfb",
        "colab": {
          "base_uri": "https://localhost:8080/"
        },
        "outputId": "98e73c21-e0d0-4be1-f210-2ba05e61ef61"
      },
      "source": [
        "inspect(\"How has the Beirut explosion affected you and your household? (select all that apply)\")\n",
        "# Since people can choose more than one option, its taking each combination of options as a different value"
      ],
      "execution_count": null,
      "outputs": [
        {
          "output_type": "stream",
          "text": [
            "------------------------------PRINT ALL AND TYPE-----------------------------------\n",
            "0        NaN\n",
            "1        NaN\n",
            "2        NaN\n",
            "3        NaN\n",
            "4        NaN\n",
            "        ... \n",
            "32074    NaN\n",
            "32075    NaN\n",
            "32076    NaN\n",
            "32077    NaN\n",
            "32078    NaN\n",
            "Name: How has the Beirut explosion affected you and your household? (select all that apply), Length: 32079, dtype: object\n",
            "-------------------------------UNIQUE VALUES---------------------------------------\n",
            "[nan 'psychological_distress' 'physical_injury,psychological_distress'\n",
            " 'psychological_distress,physical_injury' 'psychological_distress,hosting'\n",
            " 'missing_family_member' 'other' 'physical_injury'\n",
            " 'physical_injury,other,psychological_distress'\n",
            " 'psychological_distress,other' 'hosting,psychological_distress'\n",
            " 'other,psychological_distress'\n",
            " 'physical_injury,psychological_distress,hosting' 'other,physical_injury'\n",
            " 'hosting' 'physical_injury,other' 'physical_injury,hosting'\n",
            " 'other,hosting' 'psychological_distress,physical_injury,other']\n",
            "-------------------------NUMBER OF MISSING VALUES----------------------------------\n",
            "31744\n",
            "-------------------------PERCENT OF MISSING VALUES---------------------------------\n",
            "0.9895570310795224\n"
          ],
          "name": "stdout"
        }
      ]
    },
    {
      "cell_type": "code",
      "metadata": {
        "id": "V5yPBsXwbghS",
        "colab": {
          "base_uri": "https://localhost:8080/"
        },
        "outputId": "1951373c-da0d-4341-8381-85dfce38a777"
      },
      "source": [
        "inspect(\"Other, please specify7\")\n",
        "#Language/ spelling"
      ],
      "execution_count": null,
      "outputs": [
        {
          "output_type": "stream",
          "text": [
            "------------------------------PRINT ALL AND TYPE-----------------------------------\n",
            "0        NaN\n",
            "1        NaN\n",
            "2        NaN\n",
            "3        NaN\n",
            "4        NaN\n",
            "        ... \n",
            "32074    NaN\n",
            "32075    NaN\n",
            "32076    NaN\n",
            "32077    NaN\n",
            "32078    NaN\n",
            "Name: Other, please specify7, Length: 32079, dtype: object\n",
            "-------------------------------UNIQUE VALUES---------------------------------------\n",
            "[nan 'لا شيئ' 'لا يوجد' 'لا يوجد ' 'اضرار منزلية' 'خوف لدى الابناء'\n",
            " 'خوف لدى الاطفال' 'خوف' 'Nothing' 'الطفلة بحاجة  الي مساعده نفسيه'\n",
            " 'لا احد' ' nothing' 'unjuries member family' 'fear for the children'\n",
            " 'feers' 'مرض نفسي' 'Asthma crisis' 'Only housing' 'نفسيا' 'Home damage'\n",
            " 'Home damage ' 'Housing' 'No damage' 'none' 'none ' 'مرض نفسي (الأولاد)'\n",
            " 'Objects' 'Lost some material like washing machine' 'Nothing ' 'None'\n",
            " 'أضرار في البيت' 'psychologically' 'غير متواجدين في البيت'\n",
            " 'Broken glass ' 'House damages ' 'لاشيء ' 'نفسي' 'Walls'\n",
            " 'غير قادر على أكل الطعام' 'لا ضرر' 'مرض نفسية' 'إصابة نفسية' 'No one'\n",
            " 'ال شئ' 'لاشي' 'لا أضرار' 'لا اضرار']\n",
            "-------------------------NUMBER OF MISSING VALUES----------------------------------\n",
            "31974\n",
            "-------------------------PERCENT OF MISSING VALUES---------------------------------\n",
            "0.9967268306368653\n"
          ],
          "name": "stdout"
        }
      ]
    },
    {
      "cell_type": "markdown",
      "metadata": {
        "id": "cs2oxgy3bwv_"
      },
      "source": [
        "## Variable 74: Question about protection safety and security: Do you have any concerns about your protection/safety?"
      ]
    },
    {
      "cell_type": "code",
      "metadata": {
        "id": "sjaiOlyob4vJ",
        "colab": {
          "base_uri": "https://localhost:8080/"
        },
        "outputId": "70298f37-2d34-4b5c-be7f-66293d3f400a"
      },
      "source": [
        "inspect(\"Question about protection safety and security: Do you have any concerns about your protection/safety? \")"
      ],
      "execution_count": null,
      "outputs": [
        {
          "output_type": "stream",
          "text": [
            "------------------------------PRINT ALL AND TYPE-----------------------------------\n",
            "0        NaN\n",
            "1        NaN\n",
            "2        NaN\n",
            "3        NaN\n",
            "4        NaN\n",
            "        ... \n",
            "32074    NaN\n",
            "32075    NaN\n",
            "32076    NaN\n",
            "32077    NaN\n",
            "32078    NaN\n",
            "Name: Question about protection safety and security: Do you have any concerns about your protection/safety? , Length: 32079, dtype: object\n",
            "-------------------------------UNIQUE VALUES---------------------------------------\n",
            "[nan 'no' 'yes']\n",
            "-------------------------NUMBER OF MISSING VALUES----------------------------------\n",
            "31745\n",
            "-------------------------PERCENT OF MISSING VALUES---------------------------------\n",
            "0.9895882041210761\n"
          ],
          "name": "stdout"
        }
      ]
    },
    {
      "cell_type": "markdown",
      "metadata": {
        "id": "zJcmGqe9cDRm"
      },
      "source": [
        "## Variable 75: Have you or anyone you know reported sexual or gender based violence/ abuse/ exploitation?"
      ]
    },
    {
      "cell_type": "code",
      "metadata": {
        "id": "UwDxftjUc6hX",
        "colab": {
          "base_uri": "https://localhost:8080/"
        },
        "outputId": "4c1c8f59-4c35-411f-e6f6-0383b26f61e0"
      },
      "source": [
        "inspect(\"Have you or anyone you know reported sexual or gender based violence/ abuse/ exploitation?\")"
      ],
      "execution_count": null,
      "outputs": [
        {
          "output_type": "stream",
          "text": [
            "------------------------------PRINT ALL AND TYPE-----------------------------------\n",
            "0        NaN\n",
            "1        NaN\n",
            "2        NaN\n",
            "3        NaN\n",
            "4        NaN\n",
            "        ... \n",
            "32074    NaN\n",
            "32075    NaN\n",
            "32076    NaN\n",
            "32077    NaN\n",
            "32078    NaN\n",
            "Name: Have you or anyone you know reported sexual or gender based violence/ abuse/ exploitation?, Length: 32079, dtype: object\n",
            "-------------------------------UNIQUE VALUES---------------------------------------\n",
            "[nan 'no' 'yes']\n",
            "-------------------------NUMBER OF MISSING VALUES----------------------------------\n",
            "31745\n",
            "-------------------------PERCENT OF MISSING VALUES---------------------------------\n",
            "0.9895882041210761\n"
          ],
          "name": "stdout"
        }
      ]
    },
    {
      "cell_type": "markdown",
      "metadata": {
        "id": "crZATpIJcE65"
      },
      "source": [
        "## Variable 76: Does the house/appartment allow for privacy and safety? "
      ]
    },
    {
      "cell_type": "code",
      "metadata": {
        "id": "NNL0xbs_c-7p",
        "colab": {
          "base_uri": "https://localhost:8080/"
        },
        "outputId": "203d0314-6dcc-4e6b-8c2c-49edd45cb507"
      },
      "source": [
        "inspect(\"Does the house/appartment allow for privacy and safety? \")"
      ],
      "execution_count": null,
      "outputs": [
        {
          "output_type": "stream",
          "text": [
            "------------------------------PRINT ALL AND TYPE-----------------------------------\n",
            "0        NaN\n",
            "1        NaN\n",
            "2        NaN\n",
            "3        NaN\n",
            "4        NaN\n",
            "        ... \n",
            "32074    NaN\n",
            "32075    NaN\n",
            "32076    NaN\n",
            "32077    NaN\n",
            "32078    NaN\n",
            "Name: Does the house/appartment allow for privacy and safety? , Length: 32079, dtype: object\n",
            "-------------------------------UNIQUE VALUES---------------------------------------\n",
            "[nan 'yes' 'no']\n",
            "-------------------------NUMBER OF MISSING VALUES----------------------------------\n",
            "31754\n",
            "-------------------------PERCENT OF MISSING VALUES---------------------------------\n",
            "0.9898687614950591\n"
          ],
          "name": "stdout"
        }
      ]
    },
    {
      "cell_type": "markdown",
      "metadata": {
        "id": "2QsIddwwXHB5"
      },
      "source": [
        "# OCCUPANTS DETAILS (BY GENDER)"
      ]
    },
    {
      "cell_type": "markdown",
      "metadata": {
        "id": "Z10azqX-cGD1"
      },
      "source": [
        "## Variable 77: Total number of apartments in the building"
      ]
    },
    {
      "cell_type": "code",
      "metadata": {
        "id": "6UIK2c4odGDF",
        "colab": {
          "base_uri": "https://localhost:8080/",
          "height": 659
        },
        "outputId": "2aaeb9e6-09a4-4653-94fa-8a0c6978ada8"
      },
      "source": [
        "inspect(\"Total number of apartments in the building\")"
      ],
      "execution_count": null,
      "outputs": [
        {
          "output_type": "stream",
          "text": [
            "------------------------------PRINT ALL AND TYPE-----------------------------------\n",
            "0        14.0\n",
            "1        14.0\n",
            "2        14.0\n",
            "3         5.0\n",
            "4         2.0\n",
            "         ... \n",
            "32074     5.0\n",
            "32075     3.0\n",
            "32076    20.0\n",
            "32077     0.0\n",
            "32078    18.0\n",
            "Name: Total number of apartments in the building, Length: 32079, dtype: float64\n",
            "-------------------------------RANGE OF VALUES---------------------------------------\n",
            "MIN 0.0\n",
            "MAX 423.0\n",
            "-------------------------NUMBER OF MISSING VALUES----------------------------------\n",
            "7837\n",
            "-------------------------PERCENT OF MISSING VALUES---------------------------------\n",
            "0.24430312665606782\n",
            "-------------------------DISTRIBUTION OF VALUES---------------------------------\n"
          ],
          "name": "stdout"
        },
        {
          "output_type": "display_data",
          "data": {
            "image/png": "[encoded data removed]",
            "text/plain": [
              "<Figure size 432x288 with 1 Axes>"
            ]
          },
          "metadata": {
            "tags": [],
            "needs_background": "light"
          }
        }
      ]
    },
    {
      "cell_type": "markdown",
      "metadata": {
        "id": "yzH9rP9fcHC1"
      },
      "source": [
        "## Variable 78: Total number of male members living now under the same roof (INCLUDING Head of Household)"
      ]
    },
    {
      "cell_type": "code",
      "metadata": {
        "id": "0RLCI7gSdOB2",
        "colab": {
          "base_uri": "https://localhost:8080/",
          "height": 659
        },
        "outputId": "33ae4140-5ab7-4dec-ffcf-aa876b14e1a1"
      },
      "source": [
        "inspect(\"Total number of male members living now under the same roof (INCLUDING Head of Household)\")"
      ],
      "execution_count": null,
      "outputs": [
        {
          "output_type": "stream",
          "text": [
            "------------------------------PRINT ALL AND TYPE-----------------------------------\n",
            "0        1.0\n",
            "1        0.0\n",
            "2        1.0\n",
            "3        2.0\n",
            "4        3.0\n",
            "        ... \n",
            "32074    1.0\n",
            "32075    2.0\n",
            "32076    2.0\n",
            "32077    1.0\n",
            "32078    2.0\n",
            "Name: Total number of male members living now under the same roof (INCLUDING Head of Household), Length: 32079, dtype: float64\n",
            "-------------------------------RANGE OF VALUES---------------------------------------\n",
            "MIN 0.0\n",
            "MAX 211.0\n",
            "-------------------------NUMBER OF MISSING VALUES----------------------------------\n",
            "9002\n",
            "-------------------------PERCENT OF MISSING VALUES---------------------------------\n",
            "0.2806197200660869\n",
            "-------------------------DISTRIBUTION OF VALUES---------------------------------\n"
          ],
          "name": "stdout"
        },
        {
          "output_type": "display_data",
          "data": {
            "image/png": "[encoded data removed]",
            "text/plain": [
              "<Figure size 432x288 with 1 Axes>"
            ]
          },
          "metadata": {
            "tags": [],
            "needs_background": "light"
          }
        }
      ]
    },
    {
      "cell_type": "markdown",
      "metadata": {
        "id": "vdbHDOvrdQMM"
      },
      "source": [
        "## Variable 79: Total number of female members living now under the same roof (INCLUDING Head of Household)"
      ]
    },
    {
      "cell_type": "code",
      "metadata": {
        "id": "E9htBvnZddTV",
        "colab": {
          "base_uri": "https://localhost:8080/",
          "height": 659
        },
        "outputId": "4204bef8-e532-4905-920b-b1c35bba9181"
      },
      "source": [
        "inspect(\"Total number of female members living now under the same roof (INCLUDING Head of Household)\")"
      ],
      "execution_count": null,
      "outputs": [
        {
          "output_type": "stream",
          "text": [
            "------------------------------PRINT ALL AND TYPE-----------------------------------\n",
            "0        2.0\n",
            "1        1.0\n",
            "2        1.0\n",
            "3        3.0\n",
            "4        1.0\n",
            "        ... \n",
            "32074    4.0\n",
            "32075    2.0\n",
            "32076    1.0\n",
            "32077    2.0\n",
            "32078    3.0\n",
            "Name: Total number of female members living now under the same roof (INCLUDING Head of Household), Length: 32079, dtype: float64\n",
            "-------------------------------RANGE OF VALUES---------------------------------------\n",
            "MIN 0.0\n",
            "MAX 23.0\n",
            "-------------------------NUMBER OF MISSING VALUES----------------------------------\n",
            "9002\n",
            "-------------------------PERCENT OF MISSING VALUES---------------------------------\n",
            "0.2806197200660869\n",
            "-------------------------DISTRIBUTION OF VALUES---------------------------------\n"
          ],
          "name": "stdout"
        },
        {
          "output_type": "display_data",
          "data": {
            "image/png": "[encoded data removed]",
            "text/plain": [
              "<Figure size 432x288 with 1 Axes>"
            ]
          },
          "metadata": {
            "tags": [],
            "needs_background": "light"
          }
        }
      ]
    },
    {
      "cell_type": "markdown",
      "metadata": {
        "id": "n9F4CSqfdRjb"
      },
      "source": [
        "## Variable 80: Number Male chronically ill people/with critical medical conditions"
      ]
    },
    {
      "cell_type": "code",
      "metadata": {
        "id": "Lklqv2tQdgd3",
        "colab": {
          "base_uri": "https://localhost:8080/",
          "height": 659
        },
        "outputId": "29c9d8a2-6f36-4f10-d9cf-f9c0874d18cd"
      },
      "source": [
        "inspect(\"Number Male chronically ill people/with critical medical conditions\")"
      ],
      "execution_count": null,
      "outputs": [
        {
          "output_type": "stream",
          "text": [
            "------------------------------PRINT ALL AND TYPE-----------------------------------\n",
            "0        NaN\n",
            "1        0.0\n",
            "2        NaN\n",
            "3        NaN\n",
            "4        1.0\n",
            "        ... \n",
            "32074    0.0\n",
            "32075    NaN\n",
            "32076    0.0\n",
            "32077    1.0\n",
            "32078    1.0\n",
            "Name: Number Male chronically ill people/with critical medical conditions, Length: 32079, dtype: float64\n",
            "-------------------------------RANGE OF VALUES---------------------------------------\n",
            "MIN 0.0\n",
            "MAX 22.0\n",
            "-------------------------NUMBER OF MISSING VALUES----------------------------------\n",
            "19389\n",
            "-------------------------PERCENT OF MISSING VALUES---------------------------------\n",
            "0.6044141026839989\n",
            "-------------------------DISTRIBUTION OF VALUES---------------------------------\n"
          ],
          "name": "stdout"
        },
        {
          "output_type": "display_data",
          "data": {
            "image/png": "[encoded data removed]",
            "text/plain": [
              "<Figure size 432x288 with 1 Axes>"
            ]
          },
          "metadata": {
            "tags": [],
            "needs_background": "light"
          }
        }
      ]
    },
    {
      "cell_type": "markdown",
      "metadata": {
        "id": "DZGWa_12dVuf"
      },
      "source": [
        "## Variable 81: Number Female chronically ill people/with critical medical conditions"
      ]
    },
    {
      "cell_type": "code",
      "metadata": {
        "id": "b2UUYrX6dmFR",
        "colab": {
          "base_uri": "https://localhost:8080/",
          "height": 659
        },
        "outputId": "f2b077e7-6efe-410c-d3d0-6e687b478c3a"
      },
      "source": [
        "inspect(\"Number Female chronically ill people/with critical medical conditions\")"
      ],
      "execution_count": null,
      "outputs": [
        {
          "output_type": "stream",
          "text": [
            "------------------------------PRINT ALL AND TYPE-----------------------------------\n",
            "0        NaN\n",
            "1        1.0\n",
            "2        NaN\n",
            "3        NaN\n",
            "4        0.0\n",
            "        ... \n",
            "32074    1.0\n",
            "32075    NaN\n",
            "32076    1.0\n",
            "32077    1.0\n",
            "32078    0.0\n",
            "Name: Number Female chronically ill people/with critical medical conditions, Length: 32079, dtype: float64\n",
            "-------------------------------RANGE OF VALUES---------------------------------------\n",
            "MIN 0.0\n",
            "MAX 110.0\n",
            "-------------------------NUMBER OF MISSING VALUES----------------------------------\n",
            "19144\n",
            "-------------------------PERCENT OF MISSING VALUES---------------------------------\n",
            "0.5967767075033511\n",
            "-------------------------DISTRIBUTION OF VALUES---------------------------------\n"
          ],
          "name": "stdout"
        },
        {
          "output_type": "display_data",
          "data": {
            "image/png": "[encoded data removed]",
            "text/plain": [
              "<Figure size 432x288 with 1 Axes>"
            ]
          },
          "metadata": {
            "tags": [],
            "needs_background": "light"
          }
        }
      ]
    },
    {
      "cell_type": "markdown",
      "metadata": {
        "id": "zvRoJ-qydpCW"
      },
      "source": [
        "## Variable 82: Number of Male with non-disaster related physical and permanent disability"
      ]
    },
    {
      "cell_type": "code",
      "metadata": {
        "id": "o6EzYIgCdqp1",
        "colab": {
          "base_uri": "https://localhost:8080/",
          "height": 659
        },
        "outputId": "f75a7e80-6565-40ca-f645-34801f22542e"
      },
      "source": [
        "inspect(\"Number of Male with non-disaster related physical and permanent disability\")"
      ],
      "execution_count": null,
      "outputs": [
        {
          "output_type": "stream",
          "text": [
            "------------------------------PRINT ALL AND TYPE-----------------------------------\n",
            "0        NaN\n",
            "1        NaN\n",
            "2        NaN\n",
            "3        NaN\n",
            "4        1.0\n",
            "        ... \n",
            "32074    NaN\n",
            "32075    NaN\n",
            "32076    NaN\n",
            "32077    NaN\n",
            "32078    NaN\n",
            "Name: Number of Male with non-disaster related physical and permanent disability, Length: 32079, dtype: float64\n",
            "-------------------------------RANGE OF VALUES---------------------------------------\n",
            "MIN 0.0\n",
            "MAX 8.0\n",
            "-------------------------NUMBER OF MISSING VALUES----------------------------------\n",
            "29745\n",
            "-------------------------PERCENT OF MISSING VALUES---------------------------------\n",
            "0.9272421210137474\n",
            "-------------------------DISTRIBUTION OF VALUES---------------------------------\n"
          ],
          "name": "stdout"
        },
        {
          "output_type": "display_data",
          "data": {
            "image/png": "[encoded data removed]",
            "text/plain": [
              "<Figure size 432x288 with 1 Axes>"
            ]
          },
          "metadata": {
            "tags": [],
            "needs_background": "light"
          }
        }
      ]
    },
    {
      "cell_type": "markdown",
      "metadata": {
        "id": "ii7Dar87dstk"
      },
      "source": [
        "## Variable 83: Number of Female with non-disaster related physical and permanent disability"
      ]
    },
    {
      "cell_type": "code",
      "metadata": {
        "id": "SOQeGufPdvKK",
        "colab": {
          "base_uri": "https://localhost:8080/",
          "height": 659
        },
        "outputId": "ead02f1a-8a46-4545-aeff-48b896506e5f"
      },
      "source": [
        "inspect(\"Number of Female with non-disaster related physical and permanent disability\")"
      ],
      "execution_count": null,
      "outputs": [
        {
          "output_type": "stream",
          "text": [
            "------------------------------PRINT ALL AND TYPE-----------------------------------\n",
            "0        NaN\n",
            "1        NaN\n",
            "2        NaN\n",
            "3        NaN\n",
            "4        1.0\n",
            "        ... \n",
            "32074    NaN\n",
            "32075    NaN\n",
            "32076    NaN\n",
            "32077    NaN\n",
            "32078    NaN\n",
            "Name: Number of Female with non-disaster related physical and permanent disability, Length: 32079, dtype: float64\n",
            "-------------------------------RANGE OF VALUES---------------------------------------\n",
            "MIN 0.0\n",
            "MAX 10.0\n",
            "-------------------------NUMBER OF MISSING VALUES----------------------------------\n",
            "29740\n",
            "-------------------------PERCENT OF MISSING VALUES---------------------------------\n",
            "0.927086255805979\n",
            "-------------------------DISTRIBUTION OF VALUES---------------------------------\n"
          ],
          "name": "stdout"
        },
        {
          "output_type": "display_data",
          "data": {
            "image/png": "[encoded data removed]",
            "text/plain": [
              "<Figure size 432x288 with 1 Axes>"
            ]
          },
          "metadata": {
            "tags": [],
            "needs_background": "light"
          }
        }
      ]
    },
    {
      "cell_type": "markdown",
      "metadata": {
        "id": "Hk8gKvjwdy3J"
      },
      "source": [
        "## Variable 84: Number of Male with disaster related physical and permanent disability"
      ]
    },
    {
      "cell_type": "code",
      "metadata": {
        "id": "3PuoeJbtd5FS",
        "colab": {
          "base_uri": "https://localhost:8080/",
          "height": 659
        },
        "outputId": "fab4f820-37ed-480e-a07d-3611bed33e52"
      },
      "source": [
        "inspect(\"Number of Male with disaster related physical and permanent disability\")\n",
        "# Negative values"
      ],
      "execution_count": null,
      "outputs": [
        {
          "output_type": "stream",
          "text": [
            "------------------------------PRINT ALL AND TYPE-----------------------------------\n",
            "0        NaN\n",
            "1        NaN\n",
            "2        NaN\n",
            "3        NaN\n",
            "4        0.0\n",
            "        ... \n",
            "32074    NaN\n",
            "32075    NaN\n",
            "32076    NaN\n",
            "32077    NaN\n",
            "32078    NaN\n",
            "Name: Number of Male with disaster related physical and permanent disability, Length: 32079, dtype: float64\n",
            "-------------------------------RANGE OF VALUES---------------------------------------\n",
            "MIN -1.0\n",
            "MAX 9.0\n",
            "-------------------------NUMBER OF MISSING VALUES----------------------------------\n",
            "29882\n",
            "-------------------------PERCENT OF MISSING VALUES---------------------------------\n",
            "0.9315128277065994\n",
            "-------------------------DISTRIBUTION OF VALUES---------------------------------\n"
          ],
          "name": "stdout"
        },
        {
          "output_type": "display_data",
          "data": {
            "image/png": "[encoded data removed]",
            "text/plain": [
              "<Figure size 432x288 with 1 Axes>"
            ]
          },
          "metadata": {
            "tags": [],
            "needs_background": "light"
          }
        }
      ]
    },
    {
      "cell_type": "markdown",
      "metadata": {
        "id": "09KTgQEtd-ak"
      },
      "source": [
        "## Variable 85: Number of Female with disaster related physical and permanent disability"
      ]
    },
    {
      "cell_type": "code",
      "metadata": {
        "id": "KhQR-c4jeEYx",
        "colab": {
          "base_uri": "https://localhost:8080/",
          "height": 659
        },
        "outputId": "6455be61-8bdd-490d-9d53-fa17cda66bed"
      },
      "source": [
        "inspect(\"Number of Female with disaster related physical and permanent disability\")"
      ],
      "execution_count": null,
      "outputs": [
        {
          "output_type": "stream",
          "text": [
            "------------------------------PRINT ALL AND TYPE-----------------------------------\n",
            "0        NaN\n",
            "1        NaN\n",
            "2        NaN\n",
            "3        NaN\n",
            "4        0.0\n",
            "        ... \n",
            "32074    NaN\n",
            "32075    NaN\n",
            "32076    NaN\n",
            "32077    NaN\n",
            "32078    NaN\n",
            "Name: Number of Female with disaster related physical and permanent disability, Length: 32079, dtype: float64\n",
            "-------------------------------RANGE OF VALUES---------------------------------------\n",
            "MIN 0.0\n",
            "MAX 10.0\n",
            "-------------------------NUMBER OF MISSING VALUES----------------------------------\n",
            "29880\n",
            "-------------------------PERCENT OF MISSING VALUES---------------------------------\n",
            "0.931450481623492\n",
            "-------------------------DISTRIBUTION OF VALUES---------------------------------\n"
          ],
          "name": "stdout"
        },
        {
          "output_type": "display_data",
          "data": {
            "image/png": "[encoded data removed]",
            "text/plain": [
              "<Figure size 432x288 with 1 Axes>"
            ]
          },
          "metadata": {
            "tags": [],
            "needs_background": "light"
          }
        }
      ]
    },
    {
      "cell_type": "markdown",
      "metadata": {
        "id": "PaBflmwzeAcc"
      },
      "source": [
        "## Variable 86: How many Male members need medication?"
      ]
    },
    {
      "cell_type": "code",
      "metadata": {
        "id": "ukLURkYWeGzQ",
        "colab": {
          "base_uri": "https://localhost:8080/",
          "height": 659
        },
        "outputId": "57e61e84-93c0-4050-d0e9-865b359c637b"
      },
      "source": [
        "inspect(\"How many Male members need medication?\")"
      ],
      "execution_count": null,
      "outputs": [
        {
          "output_type": "stream",
          "text": [
            "------------------------------PRINT ALL AND TYPE-----------------------------------\n",
            "0        0.0\n",
            "1        0.0\n",
            "2        NaN\n",
            "3        NaN\n",
            "4        NaN\n",
            "        ... \n",
            "32074    0.0\n",
            "32075    NaN\n",
            "32076    0.0\n",
            "32077    1.0\n",
            "32078    1.0\n",
            "Name: How many Male members need medication?, Length: 32079, dtype: float64\n",
            "-------------------------------RANGE OF VALUES---------------------------------------\n",
            "MIN 0.0\n",
            "MAX 9.0\n",
            "-------------------------NUMBER OF MISSING VALUES----------------------------------\n",
            "23050\n",
            "-------------------------PERCENT OF MISSING VALUES---------------------------------\n",
            "0.7185386078119642\n",
            "-------------------------DISTRIBUTION OF VALUES---------------------------------\n"
          ],
          "name": "stdout"
        },
        {
          "output_type": "display_data",
          "data": {
            "image/png": "[encoded data removed]",
            "text/plain": [
              "<Figure size 432x288 with 1 Axes>"
            ]
          },
          "metadata": {
            "tags": [],
            "needs_background": "light"
          }
        }
      ]
    },
    {
      "cell_type": "markdown",
      "metadata": {
        "id": "2UCNiWPWeBrE"
      },
      "source": [
        "## Variable 87: How many Female members need medication?"
      ]
    },
    {
      "cell_type": "code",
      "metadata": {
        "id": "C_RFR9_deO6D",
        "colab": {
          "base_uri": "https://localhost:8080/",
          "height": 659
        },
        "outputId": "1d323cad-3f20-42ed-aedc-7f51e6c8816e"
      },
      "source": [
        "inspect(\"How many Female members need medication?\")"
      ],
      "execution_count": null,
      "outputs": [
        {
          "output_type": "stream",
          "text": [
            "------------------------------PRINT ALL AND TYPE-----------------------------------\n",
            "0        0.0\n",
            "1        1.0\n",
            "2        NaN\n",
            "3        NaN\n",
            "4        NaN\n",
            "        ... \n",
            "32074    1.0\n",
            "32075    NaN\n",
            "32076    1.0\n",
            "32077    1.0\n",
            "32078    0.0\n",
            "Name: How many Female members need medication?, Length: 32079, dtype: float64\n",
            "-------------------------------RANGE OF VALUES---------------------------------------\n",
            "MIN 0.0\n",
            "MAX 15.0\n",
            "-------------------------NUMBER OF MISSING VALUES----------------------------------\n",
            "22776\n",
            "-------------------------PERCENT OF MISSING VALUES---------------------------------\n",
            "0.7099971944262602\n",
            "-------------------------DISTRIBUTION OF VALUES---------------------------------\n"
          ],
          "name": "stdout"
        },
        {
          "output_type": "display_data",
          "data": {
            "image/png": "[encoded data removed]",
            "text/plain": [
              "<Figure size 432x288 with 1 Axes>"
            ]
          },
          "metadata": {
            "tags": [],
            "needs_background": "light"
          }
        }
      ]
    },
    {
      "cell_type": "markdown",
      "metadata": {
        "id": "lZDwi54reQ-I"
      },
      "source": [
        "## Variable 88: How many Male members generated income in the last 2 weeks"
      ]
    },
    {
      "cell_type": "code",
      "metadata": {
        "id": "XCcAaCjqeXfJ",
        "colab": {
          "base_uri": "https://localhost:8080/",
          "height": 659
        },
        "outputId": "96f30c7a-da51-4bd6-e7ed-8fe732d2e309"
      },
      "source": [
        "inspect(\"How many Male members generated income in the last 2 weeks\")\n",
        "#Negative values"
      ],
      "execution_count": null,
      "outputs": [
        {
          "output_type": "stream",
          "text": [
            "------------------------------PRINT ALL AND TYPE-----------------------------------\n",
            "0        0.0\n",
            "1        0.0\n",
            "2        0.0\n",
            "3        0.0\n",
            "4        0.0\n",
            "        ... \n",
            "32074    0.0\n",
            "32075    1.0\n",
            "32076    1.0\n",
            "32077    0.0\n",
            "32078    1.0\n",
            "Name: How many Male members generated income in the last 2 weeks, Length: 32079, dtype: float64\n",
            "-------------------------------RANGE OF VALUES---------------------------------------\n",
            "MIN -1.0\n",
            "MAX 2500000.0\n",
            "-------------------------NUMBER OF MISSING VALUES----------------------------------\n",
            "10498\n",
            "-------------------------PERCENT OF MISSING VALUES---------------------------------\n",
            "0.3272545902303688\n",
            "-------------------------DISTRIBUTION OF VALUES---------------------------------\n"
          ],
          "name": "stdout"
        },
        {
          "output_type": "display_data",
          "data": {
            "image/png": "[encoded data removed]",
            "text/plain": [
              "<Figure size 432x288 with 1 Axes>"
            ]
          },
          "metadata": {
            "tags": [],
            "needs_background": "light"
          }
        }
      ]
    },
    {
      "cell_type": "markdown",
      "metadata": {
        "id": "sBJIzOtseSpi"
      },
      "source": [
        "## Variable 89: How many Female members generated income in the last 2 weeks"
      ]
    },
    {
      "cell_type": "code",
      "metadata": {
        "id": "RoyzEl-qeeX3",
        "colab": {
          "base_uri": "https://localhost:8080/",
          "height": 659
        },
        "outputId": "3143b1cc-28ef-4de9-ab9e-2ea94824de70"
      },
      "source": [
        "inspect(\"How many Female members generated income in the last 2 weeks\")"
      ],
      "execution_count": null,
      "outputs": [
        {
          "output_type": "stream",
          "text": [
            "------------------------------PRINT ALL AND TYPE-----------------------------------\n",
            "0        0.0\n",
            "1        0.0\n",
            "2        0.0\n",
            "3        0.0\n",
            "4        0.0\n",
            "        ... \n",
            "32074    1.0\n",
            "32075    0.0\n",
            "32076    0.0\n",
            "32077    1.0\n",
            "32078    0.0\n",
            "Name: How many Female members generated income in the last 2 weeks, Length: 32079, dtype: float64\n",
            "-------------------------------RANGE OF VALUES---------------------------------------\n",
            "MIN 0.0\n",
            "MAX 1000000.0\n",
            "-------------------------NUMBER OF MISSING VALUES----------------------------------\n",
            "11344\n",
            "-------------------------PERCENT OF MISSING VALUES---------------------------------\n",
            "0.35362698338476883\n",
            "-------------------------DISTRIBUTION OF VALUES---------------------------------\n"
          ],
          "name": "stdout"
        },
        {
          "output_type": "display_data",
          "data": {
            "image/png": "[encoded data removed]",
            "text/plain": [
              "<Figure size 432x288 with 1 Axes>"
            ]
          },
          "metadata": {
            "tags": [],
            "needs_background": "light"
          }
        }
      ]
    },
    {
      "cell_type": "markdown",
      "metadata": {
        "id": "4rRugfFkeUxa"
      },
      "source": [
        "## Variable 90: Specify other partner"
      ]
    },
    {
      "cell_type": "code",
      "metadata": {
        "id": "zIarDy1Aej6E",
        "colab": {
          "base_uri": "https://localhost:8080/"
        },
        "outputId": "72b6fd97-4d06-4f88-eb15-c3201555678d"
      },
      "source": [
        "inspect(\"Specify other partner\")\n",
        "#Spelling and language"
      ],
      "execution_count": null,
      "outputs": [
        {
          "output_type": "stream",
          "text": [
            "------------------------------PRINT ALL AND TYPE-----------------------------------\n",
            "0        ACF\n",
            "1        ACF\n",
            "2        ACF\n",
            "3        NaN\n",
            "4        NaN\n",
            "        ... \n",
            "32074    NaN\n",
            "32075    NaN\n",
            "32076    NaN\n",
            "32077    NaN\n",
            "32078    NaN\n",
            "Name: Specify other partner, Length: 32079, dtype: object\n",
            "-------------------------------UNIQUE VALUES---------------------------------------\n",
            "['ACF' nan 'Nabaa' 'Acf' 'bau and nabaa' '0' 'Iom' 'IOM' 'نبع' 'مبع' 'Ikm'\n",
            " 'Nabeaa' 'ION' 'Bassel and dayane' 'Nbeaa' 'IoM' 'Gvc' 'GVC'\n",
            " 'Rana Shreif' 'نبع ' 'Naba’a' 'Naba’a ' 'Io.' 'Nazlia ismail'\n",
            " 'Borj hammoud' 'Nadine Majd' 'نيع' \"Naba'a \" \"Naba'a\" 'IOM ' 'Sin el fil'\n",
            " 'وسيلة أحمد حمد ' 'برج حمود' 'Sheild' 'ACf' 'Iom ' 'Sheild '\n",
            " 'Sheild team 2' 'Ion' 'Chahnaz ahmd' 'ACC' 'Iomo' 'Shield'\n",
            " 'Bourj hammoud' 'KOM' 'Oim' 'Sheildteam7' 'Nehmat bakhos' 'sheild'\n",
            " 'Narmin' 'Narmine' 'Sheildteam3' ' iom' 'Bilal' 'Sheilf' 'عبدالله عبيد'\n",
            " 'iom' 'سن الفيل' 'Sheild*' 'سن الفيل ' 'Basta' 'Delta' 'gvc' 'geitawi'\n",
            " 'delta' 'Msaytbe' 'Iomالبسطة' 'Delga' 'Delfa' 'Delta ' 'SADA'\n",
            " 'Boroj abi haidar' 'DELTA' 'Dahyeh']\n",
            "-------------------------NUMBER OF MISSING VALUES----------------------------------\n",
            "29722\n",
            "-------------------------PERCENT OF MISSING VALUES---------------------------------\n",
            "0.926525141058013\n"
          ],
          "name": "stdout"
        }
      ]
    },
    {
      "cell_type": "markdown",
      "metadata": {
        "id": "ePDpVzxteofr"
      },
      "source": [
        "## Variable 91, 92: Creation Date | Creator"
      ]
    },
    {
      "cell_type": "code",
      "metadata": {
        "id": "v_fv3npoew89"
      },
      "source": [
        "# inspect(\"CreationDate\")"
      ],
      "execution_count": null,
      "outputs": []
    },
    {
      "cell_type": "code",
      "metadata": {
        "id": "-Y8-kq0_eqgx",
        "colab": {
          "base_uri": "https://localhost:8080/"
        },
        "outputId": "54538cc3-b02b-4fdd-dbac-e687fb3d8022"
      },
      "source": [
        "inspect(\"Creator\")"
      ],
      "execution_count": null,
      "outputs": [
        {
          "output_type": "stream",
          "text": [
            "------------------------------PRINT ALL AND TYPE-----------------------------------\n",
            "0         acfspain.guest\n",
            "1         acfspain.guest\n",
            "2         acfspain.guest\n",
            "3        unhabitat.guest\n",
            "4             pcpm.guest\n",
            "              ...       \n",
            "32074            dms.lrc\n",
            "32075            dms.lrc\n",
            "32076            dms.lrc\n",
            "32077            dms.lrc\n",
            "32078            dms.lrc\n",
            "Name: Creator, Length: 32079, dtype: object\n",
            "-------------------------------UNIQUE VALUES---------------------------------------\n",
            "['acfspain.guest' 'unhabitat.guest' 'pcpm.guest' 'youth1.lrc' 'youth.lrc'\n",
            " 'dms.lrc' 'youth2.lrc' 'savethechildren.guest' 'medair.guest'\n",
            " 'intersos.guest' 'iom.guest' 'lebrelief.guest' 'solidarite.guest'\n",
            " 'iom1.guest' 'acted.guest' 'cww.guest' 'gvc.guest' 'nawaya.guest'\n",
            " 'WFP.guest' 'puami.guest' 'dms1.lrc' 'dmu.beirut' 'dmu.hasbaya'\n",
            " 'dmu.akkar' 'dmu.cpp' 'dmu.keserwan' 'youth4.lrc' nan 'LRC.GIS'\n",
            " 'youth3.lrc' 'FW.Ibrahim']\n",
            "-------------------------NUMBER OF MISSING VALUES----------------------------------\n",
            "1\n",
            "-------------------------PERCENT OF MISSING VALUES---------------------------------\n",
            "3.1173041553664394e-05\n"
          ],
          "name": "stdout"
        }
      ]
    }
  ]
}